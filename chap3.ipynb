{
 "cells": [
  {
   "cell_type": "code",
   "execution_count": 7,
   "id": "58a283aa",
   "metadata": {},
   "outputs": [
    {
     "name": "stdout",
     "output_type": "stream",
     "text": [
      "T-value=2.713, P-value=0.012\n"
     ]
    }
   ],
   "source": [
    "import numpy as np\n",
    "import pandas as pd\n",
    "from scipy import stats\n",
    "\n",
    "data=pd.read_csv('sample.csv', header=None)\n",
    "data_ttest=stats.ttest_1samp(data,24.3)\n",
    "print(\"T-value=%.3f, P-value=%.3f\" %data_ttest)"
   ]
  },
  {
   "cell_type": "code",
   "execution_count": 9,
   "id": "388e80fa",
   "metadata": {},
   "outputs": [
    {
     "data": {
      "text/plain": [
       "(25.028000000000002, array([24.47413124]), array([25.58186876]))"
      ]
     },
     "execution_count": 9,
     "metadata": {},
     "output_type": "execute_result"
    }
   ],
   "source": [
    "def confidence_interval(data, confidence=0.95):\n",
    "    data=np.array(data)\n",
    "    mean=np.mean(data)\n",
    "    n=len(data)\n",
    "    stderr=stats.sem(data) # standear error mean : 표준오차\n",
    "    interval=stderr*stats.t.ppf((1+confidence)/2,n-1)\n",
    "    return(mean, mean-interval, mean+interval)\n",
    "\n",
    "confidence_interval(data)"
   ]
  },
  {
   "cell_type": "code",
   "execution_count": 10,
   "id": "2fd9826d",
   "metadata": {},
   "outputs": [
    {
     "name": "stdout",
     "output_type": "stream",
     "text": [
      "mean=25.028, low=24.474, high=25.582\n"
     ]
    }
   ],
   "source": [
    "ci=confidence_interval(data)\n",
    "print(\"mean=%.3f, low=%.3f, high=%.3f\" %ci)"
   ]
  },
  {
   "cell_type": "code",
   "execution_count": 1,
   "id": "fb8395d6",
   "metadata": {},
   "outputs": [
    {
     "name": "stdout",
     "output_type": "stream",
     "text": [
      "[2.01007563] [0.04442318]\n",
      "[2.01007563]\n",
      "[0.04442318]\n"
     ]
    }
   ],
   "source": [
    "import numpy as np\n",
    "from statsmodels.stats.proportion import proportions_ztest\n",
    "\n",
    "count=np.array([45])\n",
    "nobs=np.array([100])\n",
    "val=0.35\n",
    "\n",
    "z,p=proportions_ztest(count,nobs,val)\n",
    "print(z,p)\n",
    "print(z)\n",
    "print(p)"
   ]
  },
  {
   "cell_type": "code",
   "execution_count": 9,
   "id": "05748b13",
   "metadata": {},
   "outputs": [
    {
     "name": "stdout",
     "output_type": "stream",
     "text": [
      "Z-value=2.010, P-value=0.044\n"
     ]
    }
   ],
   "source": [
    "print(\"Z-value=%.3f, P-value=%.3f\" %(z, p))"
   ]
  },
  {
   "cell_type": "code",
   "execution_count": 12,
   "id": "0b59752d",
   "metadata": {},
   "outputs": [
    {
     "data": {
      "text/html": [
       "<div>\n",
       "<style scoped>\n",
       "    .dataframe tbody tr th:only-of-type {\n",
       "        vertical-align: middle;\n",
       "    }\n",
       "\n",
       "    .dataframe tbody tr th {\n",
       "        vertical-align: top;\n",
       "    }\n",
       "\n",
       "    .dataframe thead th {\n",
       "        text-align: right;\n",
       "    }\n",
       "</style>\n",
       "<table border=\"1\" class=\"dataframe\">\n",
       "  <thead>\n",
       "    <tr style=\"text-align: right;\">\n",
       "      <th></th>\n",
       "      <th>g</th>\n",
       "      <th>x</th>\n",
       "    </tr>\n",
       "  </thead>\n",
       "  <tbody>\n",
       "    <tr>\n",
       "      <th>0</th>\n",
       "      <td>A</td>\n",
       "      <td>2.0</td>\n",
       "    </tr>\n",
       "    <tr>\n",
       "      <th>1</th>\n",
       "      <td>A</td>\n",
       "      <td>2.0</td>\n",
       "    </tr>\n",
       "    <tr>\n",
       "      <th>2</th>\n",
       "      <td>A</td>\n",
       "      <td>2.3</td>\n",
       "    </tr>\n",
       "    <tr>\n",
       "      <th>3</th>\n",
       "      <td>A</td>\n",
       "      <td>2.1</td>\n",
       "    </tr>\n",
       "    <tr>\n",
       "      <th>4</th>\n",
       "      <td>A</td>\n",
       "      <td>2.4</td>\n",
       "    </tr>\n",
       "    <tr>\n",
       "      <th>5</th>\n",
       "      <td>B</td>\n",
       "      <td>2.2</td>\n",
       "    </tr>\n",
       "    <tr>\n",
       "      <th>6</th>\n",
       "      <td>B</td>\n",
       "      <td>1.9</td>\n",
       "    </tr>\n",
       "    <tr>\n",
       "      <th>7</th>\n",
       "      <td>B</td>\n",
       "      <td>2.5</td>\n",
       "    </tr>\n",
       "    <tr>\n",
       "      <th>8</th>\n",
       "      <td>B</td>\n",
       "      <td>2.3</td>\n",
       "    </tr>\n",
       "    <tr>\n",
       "      <th>9</th>\n",
       "      <td>B</td>\n",
       "      <td>2.4</td>\n",
       "    </tr>\n",
       "  </tbody>\n",
       "</table>\n",
       "</div>"
      ],
      "text/plain": [
       "   g    x\n",
       "0  A  2.0\n",
       "1  A  2.0\n",
       "2  A  2.3\n",
       "3  A  2.1\n",
       "4  A  2.4\n",
       "5  B  2.2\n",
       "6  B  1.9\n",
       "7  B  2.5\n",
       "8  B  2.3\n",
       "9  B  2.4"
      ]
     },
     "execution_count": 12,
     "metadata": {},
     "output_type": "execute_result"
    }
   ],
   "source": [
    "import numpy as np\n",
    "import pandas as pd\n",
    "\n",
    "x=np.array([2.0,2.0,2.3,2.1,2.4,2.2,1.9,2.5,2.3,2.4])\n",
    "g=np.repeat(np.array(['A','B']),5)\n",
    "d={'g':g, 'x':x}\n",
    "data=pd.DataFrame(data=d)\n",
    "data"
   ]
  },
  {
   "cell_type": "code",
   "execution_count": 13,
   "id": "82dbe214",
   "metadata": {},
   "outputs": [],
   "source": [
    "A=data[data.g=='A']\n",
    "B=data[data.g=='B']\n",
    "# A, B 그룹을 나눠서 저장"
   ]
  },
  {
   "cell_type": "code",
   "execution_count": 33,
   "id": "7b71f9c3",
   "metadata": {},
   "outputs": [
    {
     "data": {
      "text/plain": [
       "0    2.0\n",
       "1    2.0\n",
       "2    2.3\n",
       "3    2.1\n",
       "4    2.4\n",
       "Name: x, dtype: float64"
      ]
     },
     "execution_count": 33,
     "metadata": {},
     "output_type": "execute_result"
    }
   ],
   "source": [
    "A.x"
   ]
  },
  {
   "cell_type": "code",
   "execution_count": 23,
   "id": "36bb6a5e",
   "metadata": {},
   "outputs": [
    {
     "data": {
      "text/html": [
       "<div>\n",
       "<style scoped>\n",
       "    .dataframe tbody tr th:only-of-type {\n",
       "        vertical-align: middle;\n",
       "    }\n",
       "\n",
       "    .dataframe tbody tr th {\n",
       "        vertical-align: top;\n",
       "    }\n",
       "\n",
       "    .dataframe thead th {\n",
       "        text-align: right;\n",
       "    }\n",
       "</style>\n",
       "<table border=\"1\" class=\"dataframe\">\n",
       "  <thead>\n",
       "    <tr style=\"text-align: right;\">\n",
       "      <th></th>\n",
       "      <th>count</th>\n",
       "      <th>mean</th>\n",
       "      <th>std</th>\n",
       "      <th>min</th>\n",
       "      <th>25%</th>\n",
       "      <th>50%</th>\n",
       "      <th>75%</th>\n",
       "      <th>max</th>\n",
       "    </tr>\n",
       "    <tr>\n",
       "      <th>g</th>\n",
       "      <th></th>\n",
       "      <th></th>\n",
       "      <th></th>\n",
       "      <th></th>\n",
       "      <th></th>\n",
       "      <th></th>\n",
       "      <th></th>\n",
       "      <th></th>\n",
       "    </tr>\n",
       "  </thead>\n",
       "  <tbody>\n",
       "    <tr>\n",
       "      <th>A</th>\n",
       "      <td>5.0</td>\n",
       "      <td>2.16</td>\n",
       "      <td>0.181659</td>\n",
       "      <td>2.0</td>\n",
       "      <td>2.0</td>\n",
       "      <td>2.1</td>\n",
       "      <td>2.3</td>\n",
       "      <td>2.4</td>\n",
       "    </tr>\n",
       "    <tr>\n",
       "      <th>B</th>\n",
       "      <td>5.0</td>\n",
       "      <td>2.26</td>\n",
       "      <td>0.230217</td>\n",
       "      <td>1.9</td>\n",
       "      <td>2.2</td>\n",
       "      <td>2.3</td>\n",
       "      <td>2.4</td>\n",
       "      <td>2.5</td>\n",
       "    </tr>\n",
       "  </tbody>\n",
       "</table>\n",
       "</div>"
      ],
      "text/plain": [
       "   count  mean       std  min  25%  50%  75%  max\n",
       "g                                                \n",
       "A    5.0  2.16  0.181659  2.0  2.0  2.1  2.3  2.4\n",
       "B    5.0  2.26  0.230217  1.9  2.2  2.3  2.4  2.5"
      ]
     },
     "execution_count": 23,
     "metadata": {},
     "output_type": "execute_result"
    }
   ],
   "source": [
    "data.groupby(\"g\").x.describe()"
   ]
  },
  {
   "cell_type": "code",
   "execution_count": 15,
   "id": "89775d85",
   "metadata": {},
   "outputs": [
    {
     "data": {
      "text/plain": [
       "ShapiroResult(statistic=0.9437551498413086, pvalue=0.5955022573471069)"
      ]
     },
     "execution_count": 15,
     "metadata": {},
     "output_type": "execute_result"
    }
   ],
   "source": [
    "# 정규성 검정\n",
    "from scipy.stats import shapiro\n",
    "shapiro(x)"
   ]
  },
  {
   "cell_type": "code",
   "execution_count": 16,
   "id": "a38c6ddb",
   "metadata": {},
   "outputs": [
    {
     "data": {
      "text/plain": [
       "BartlettResult(statistic=0.19769157819919453, pvalue=0.6565906251784377)"
      ]
     },
     "execution_count": 16,
     "metadata": {},
     "output_type": "execute_result"
    }
   ],
   "source": [
    "# 등분산 검정 Bartlett검정(정규성을 만족할 때)\n",
    "from scipy import stats\n",
    "stats.bartlett(A.x, B.x)"
   ]
  },
  {
   "cell_type": "code",
   "execution_count": 17,
   "id": "e3d7df7d",
   "metadata": {},
   "outputs": [
    {
     "data": {
      "text/plain": [
       "LeveneResult(statistic=0.05555555555555569, pvalue=0.8195856784525775)"
      ]
     },
     "execution_count": 17,
     "metadata": {},
     "output_type": "execute_result"
    }
   ],
   "source": [
    "#등분산 검정 Levene 검정(정규성을 만족하지 않을 때)\n",
    "from scipy import stats\n",
    "stats.levene(A.x,B.x)"
   ]
  },
  {
   "cell_type": "code",
   "execution_count": 28,
   "id": "bedd6df6",
   "metadata": {},
   "outputs": [
    {
     "data": {
      "text/plain": [
       "Ttest_indResult(statistic=-0.7624928516630208, pvalue=0.4676497723369858)"
      ]
     },
     "execution_count": 28,
     "metadata": {},
     "output_type": "execute_result"
    }
   ],
   "source": [
    "# T검정-양측검정, 등분산 가정\n",
    "from scipy.stats import ttest_ind\n",
    "ttest_ind(A.x, B.x, equal_var=True)"
   ]
  },
  {
   "cell_type": "code",
   "execution_count": 25,
   "id": "b2699c96",
   "metadata": {},
   "outputs": [
    {
     "data": {
      "text/plain": [
       "(-0.7624928516630208, 0.2338248861684929, 8.0)"
      ]
     },
     "execution_count": 25,
     "metadata": {},
     "output_type": "execute_result"
    }
   ],
   "source": [
    "# T검정-단측검정, 이분산 가정 : alternative='larger','smaller','two-sided'\n",
    "from statsmodels.stats.weightstats import ttest_ind\n",
    "ttest_ind(A.x,B.x,alternative=\"smaller\",usevar='pooled')\n",
    "\n",
    "#우측 검정이면 larger\n",
    "# (통계량 , p-value, 표준오차)"
   ]
  },
  {
   "cell_type": "code",
   "execution_count": 23,
   "id": "6ed4006a",
   "metadata": {},
   "outputs": [
    {
     "data": {
      "text/plain": [
       "(-0.7624928516630208, 0.46879774681771524, 7.589533093894302)"
      ]
     },
     "execution_count": 23,
     "metadata": {},
     "output_type": "execute_result"
    }
   ],
   "source": [
    "ttest_ind(A.x,B.x,alternative=\"two-sided\",usevar='unequal')"
   ]
  },
  {
   "cell_type": "code",
   "execution_count": 29,
   "id": "e650276e",
   "metadata": {},
   "outputs": [],
   "source": [
    "x=np.array([224,270,400,444,590,660,1400,680])\n",
    "y=np.array([116,96,239,329,437,597,689,576])\n",
    "d={'y':y,'x':x}\n",
    "data=pd.DataFrame(data=d)"
   ]
  },
  {
   "cell_type": "code",
   "execution_count": 42,
   "id": "e572912b",
   "metadata": {},
   "outputs": [
    {
     "data": {
      "text/plain": [
       "Ttest_relResult(statistic=2.673117820270042, pvalue=0.031855388760108426)"
      ]
     },
     "execution_count": 42,
     "metadata": {},
     "output_type": "execute_result"
    }
   ],
   "source": [
    "from scipy.stats import ttest_rel\n",
    "# 대응T검정-양측검정\n",
    "ttest_rel(x,y)"
   ]
  },
  {
   "cell_type": "code",
   "execution_count": 43,
   "id": "11f73f0c",
   "metadata": {},
   "outputs": [
    {
     "name": "stdout",
     "output_type": "stream",
     "text": [
      "one-sided p-value= 0.015927694380054213\n"
     ]
    }
   ],
   "source": [
    "#대응T검정-단측검정\n",
    "pval=ttest_rel(x,y)[1]\n",
    "print('one-sided p-value=',pval/2)"
   ]
  },
  {
   "cell_type": "code",
   "execution_count": 31,
   "id": "e99d148c",
   "metadata": {},
   "outputs": [
    {
     "data": {
      "text/plain": [
       "(1.9621212121212122, 0.029289557246881863)"
      ]
     },
     "execution_count": 31,
     "metadata": {},
     "output_type": "execute_result"
    }
   ],
   "source": [
    "data=pd.DataFrame([[56,24],[44,37]],index=['A','B'],columns=['use','unuse'])\n",
    "data\n",
    "# 56, 44 :(사용), 24, 37 : (사용 안함) \n",
    "#모비율 검정 : alternative='less, greater, two-sided'\n",
    "from scipy.stats import fisher_exact\n",
    "fisher_exact(data,alternative='greater')"
   ]
  },
  {
   "cell_type": "code",
   "execution_count": 48,
   "id": "1481e3b4",
   "metadata": {},
   "outputs": [
    {
     "name": "stdout",
     "output_type": "stream",
     "text": [
      "Z-value=1.960 P-value=0.050\n"
     ]
    }
   ],
   "source": [
    "count=np.array([56,44])\n",
    "nobs=np.array([80,80])\n",
    "z,p=proportions_ztest(count,nobs,value=0)\n",
    "print('Z-value=%.3f' %z, \"P-value=%.3f\" %p)"
   ]
  },
  {
   "cell_type": "code",
   "execution_count": 32,
   "id": "def49510",
   "metadata": {},
   "outputs": [
    {
     "data": {
      "text/html": [
       "<div>\n",
       "<style scoped>\n",
       "    .dataframe tbody tr th:only-of-type {\n",
       "        vertical-align: middle;\n",
       "    }\n",
       "\n",
       "    .dataframe tbody tr th {\n",
       "        vertical-align: top;\n",
       "    }\n",
       "\n",
       "    .dataframe thead th {\n",
       "        text-align: right;\n",
       "    }\n",
       "</style>\n",
       "<table border=\"1\" class=\"dataframe\">\n",
       "  <thead>\n",
       "    <tr style=\"text-align: right;\">\n",
       "      <th></th>\n",
       "      <th>use</th>\n",
       "      <th>unuse</th>\n",
       "    </tr>\n",
       "  </thead>\n",
       "  <tbody>\n",
       "    <tr>\n",
       "      <th>A</th>\n",
       "      <td>56</td>\n",
       "      <td>24</td>\n",
       "    </tr>\n",
       "    <tr>\n",
       "      <th>B</th>\n",
       "      <td>44</td>\n",
       "      <td>37</td>\n",
       "    </tr>\n",
       "  </tbody>\n",
       "</table>\n",
       "</div>"
      ],
      "text/plain": [
       "   use  unuse\n",
       "A   56     24\n",
       "B   44     37"
      ]
     },
     "execution_count": 32,
     "metadata": {},
     "output_type": "execute_result"
    }
   ],
   "source": [
    "data"
   ]
  },
  {
   "cell_type": "code",
   "execution_count": null,
   "id": "363c8521",
   "metadata": {},
   "outputs": [],
   "source": []
  }
 ],
 "metadata": {
  "kernelspec": {
   "display_name": "Python 3 (ipykernel)",
   "language": "python",
   "name": "python3"
  },
  "language_info": {
   "codemirror_mode": {
    "name": "ipython",
    "version": 3
   },
   "file_extension": ".py",
   "mimetype": "text/x-python",
   "name": "python",
   "nbconvert_exporter": "python",
   "pygments_lexer": "ipython3",
   "version": "3.9.12"
  }
 },
 "nbformat": 4,
 "nbformat_minor": 5
}
