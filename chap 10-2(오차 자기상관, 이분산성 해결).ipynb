{
 "cells": [
  {
   "cell_type": "code",
   "execution_count": 1,
   "id": "83f9b602",
   "metadata": {},
   "outputs": [
    {
     "data": {
      "text/html": [
       "<div>\n",
       "<style scoped>\n",
       "    .dataframe tbody tr th:only-of-type {\n",
       "        vertical-align: middle;\n",
       "    }\n",
       "\n",
       "    .dataframe tbody tr th {\n",
       "        vertical-align: top;\n",
       "    }\n",
       "\n",
       "    .dataframe thead th {\n",
       "        text-align: right;\n",
       "    }\n",
       "</style>\n",
       "<table border=\"1\" class=\"dataframe\">\n",
       "  <thead>\n",
       "    <tr style=\"text-align: right;\">\n",
       "      <th></th>\n",
       "      <th>YEAR</th>\n",
       "      <th>Q</th>\n",
       "      <th>t</th>\n",
       "      <th>X</th>\n",
       "      <th>Y</th>\n",
       "    </tr>\n",
       "  </thead>\n",
       "  <tbody>\n",
       "    <tr>\n",
       "      <th>0</th>\n",
       "      <td>1995</td>\n",
       "      <td>1</td>\n",
       "      <td>1</td>\n",
       "      <td>2742.9</td>\n",
       "      <td>273792</td>\n",
       "    </tr>\n",
       "    <tr>\n",
       "      <th>1</th>\n",
       "      <td>1995</td>\n",
       "      <td>2</td>\n",
       "      <td>2</td>\n",
       "      <td>2692.0</td>\n",
       "      <td>261643</td>\n",
       "    </tr>\n",
       "    <tr>\n",
       "      <th>2</th>\n",
       "      <td>1995</td>\n",
       "      <td>3</td>\n",
       "      <td>3</td>\n",
       "      <td>2722.5</td>\n",
       "      <td>266102</td>\n",
       "    </tr>\n",
       "    <tr>\n",
       "      <th>3</th>\n",
       "      <td>1995</td>\n",
       "      <td>4</td>\n",
       "      <td>4</td>\n",
       "      <td>2777.0</td>\n",
       "      <td>268958</td>\n",
       "    </tr>\n",
       "  </tbody>\n",
       "</table>\n",
       "</div>"
      ],
      "text/plain": [
       "   YEAR  Q  t       X       Y\n",
       "0  1995  1  1  2742.9  273792\n",
       "1  1995  2  2  2692.0  261643\n",
       "2  1995  3  3  2722.5  266102\n",
       "3  1995  4  4  2777.0  268958"
      ]
     },
     "execution_count": 1,
     "metadata": {},
     "output_type": "execute_result"
    }
   ],
   "source": [
    "import pandas as pd\n",
    "import statsmodels.formula.api as smf\n",
    "\n",
    "data=pd.read_csv('ex9-10.csv')\n",
    "data.head(4)"
   ]
  },
  {
   "cell_type": "code",
   "execution_count": 2,
   "id": "084a41a4",
   "metadata": {},
   "outputs": [
    {
     "data": {
      "image/png": "[encoded data removed]",
      "text/plain": [
       "<Figure size 432x288 with 1 Axes>"
      ]
     },
     "metadata": {
      "needs_background": "light"
     },
     "output_type": "display_data"
    }
   ],
   "source": [
    "#Xt와 Yt의 산점도\n",
    "import matplotlib.pylab as plt\n",
    "plt.plot(data['X'], data['Y'], 'o')\n",
    "plt.xlabel('X')\n",
    "plt.ylabel('Y')\n",
    "plt.show()"
   ]
  },
  {
   "cell_type": "code",
   "execution_count": 3,
   "id": "fdefebef",
   "metadata": {},
   "outputs": [
    {
     "data": {
      "image/png": "[encoded data removed]",
      "text/plain": [
       "<Figure size 432x288 with 1 Axes>"
      ]
     },
     "metadata": {
      "needs_background": "light"
     },
     "output_type": "display_data"
    }
   ],
   "source": [
    "#100Xt와 Yt의 산점도\n",
    "plt.plot(data['Y'], 'o', label='Yt')\n",
    "plt.plot(data['X']*100, '^', label='100Xt')\n",
    "plt.legend()\n",
    "plt.xlabel('t')\n",
    "plt.ylabel('Yt & 100Xt')\n",
    "plt.show()"
   ]
  },
  {
   "cell_type": "code",
   "execution_count": 14,
   "id": "92c3daf5",
   "metadata": {},
   "outputs": [
    {
     "name": "stdout",
     "output_type": "stream",
     "text": [
      "                 Results: Ordinary least squares\n",
      "=================================================================\n",
      "Model:              OLS              Adj. R-squared:     0.396   \n",
      "Dependent Variable: Y                AIC:                381.7369\n",
      "Date:               2022-12-07 08:42 BIC:                385.7149\n",
      "No. Observations:   54               Log-Likelihood:     -188.87 \n",
      "Df Model:           1                F-statistic:        35.79   \n",
      "Df Residuals:       52               Prob (F-statistic): 2.05e-07\n",
      "R-squared:          0.408            Scale:              66.353  \n",
      "------------------------------------------------------------------\n",
      "               Coef.   Std.Err.     t     P>|t|    [0.025   0.975]\n",
      "------------------------------------------------------------------\n",
      "Intercept     56.1569    3.9937  14.0615  0.0000  48.1430  64.1708\n",
      "X              0.5800    0.0970   5.9827  0.0000   0.3855   0.7746\n",
      "-----------------------------------------------------------------\n",
      "Omnibus:              0.517        Durbin-Watson:           2.343\n",
      "Prob(Omnibus):        0.772        Jarque-Bera (JB):        0.620\n",
      "Skew:                 0.209        Prob(JB):                0.733\n",
      "Kurtosis:             2.681        Condition No.:           148  \n",
      "=================================================================\n",
      "\n"
     ]
    }
   ],
   "source": [
    "#Durbin-Watson 통계량 방법1\n",
    "fit=smf.ols('Y~X', data).fit()\n",
    "print(fit.summary2())"
   ]
  },
  {
   "cell_type": "code",
   "execution_count": 5,
   "id": "6d98e564",
   "metadata": {},
   "outputs": [
    {
     "name": "stdout",
     "output_type": "stream",
     "text": [
      "                            OLS Regression Results                            \n",
      "==============================================================================\n",
      "Dep. Variable:                      Y   R-squared:                       0.978\n",
      "Model:                            OLS   Adj. R-squared:                  0.977\n",
      "Method:                 Least Squares   F-statistic:                     1684.\n",
      "Date:                Wed, 07 Dec 2022   Prob (F-statistic):           4.42e-33\n",
      "Time:                        08:22:09   Log-Likelihood:                -402.32\n",
      "No. Observations:                  40   AIC:                             808.6\n",
      "Df Residuals:                      38   BIC:                             812.0\n",
      "Df Model:                           1                                         \n",
      "Covariance Type:            nonrobust                                         \n",
      "==============================================================================\n",
      "                 coef    std err          t      P>|t|      [0.025      0.975]\n",
      "------------------------------------------------------------------------------\n",
      "Intercept   -1.42e+05   1.11e+04    -12.754      0.000   -1.65e+05   -1.19e+05\n",
      "X            147.3361      3.590     41.035      0.000     140.068     154.605\n",
      "==============================================================================\n",
      "Omnibus:                        0.837   Durbin-Watson:                   0.934\n",
      "Prob(Omnibus):                  0.658   Jarque-Bera (JB):                0.905\n",
      "Skew:                           0.289   Prob(JB):                        0.636\n",
      "Kurtosis:                       2.543   Cond. No.                     3.77e+04\n",
      "==============================================================================\n",
      "\n",
      "Notes:\n",
      "[1] Standard Errors assume that the covariance matrix of the errors is correctly specified.\n",
      "[2] The condition number is large, 3.77e+04. This might indicate that there are\n",
      "strong multicollinearity or other numerical problems.\n"
     ]
    }
   ],
   "source": [
    "#Durbin-Watson 통계량 방법1\n",
    "fit=smf.ols('Y~X', data).fit()\n",
    "print(fit.summary())"
   ]
  },
  {
   "cell_type": "code",
   "execution_count": 6,
   "id": "98da4125",
   "metadata": {},
   "outputs": [
    {
     "data": {
      "text/plain": [
       "0.9344731674533778"
      ]
     },
     "execution_count": 6,
     "metadata": {},
     "output_type": "execute_result"
    }
   ],
   "source": [
    "#Durbin-Watson 통계량 방법2\n",
    "from statsmodels.stats.stattools import durbin_watson\n",
    "residual=fit.resid_pearson\n",
    "durbin_watson(residual)"
   ]
  },
  {
   "cell_type": "code",
   "execution_count": 9,
   "id": "04483fd6",
   "metadata": {},
   "outputs": [
    {
     "name": "stdout",
     "output_type": "stream",
     "text": [
      "            Results: Generalized least squares with AR(p)\n",
      "======================================================================\n",
      "Model:               GLSAR             Adj. R-squared:      0.945     \n",
      "Dependent Variable:  Y                 AIC:                 773.4237  \n",
      "Date:                2022-12-07 08:37  BIC:                 776.7508  \n",
      "No. Observations:    39                Log-Likelihood:      -384.71   \n",
      "Df Model:            1                 F-statistic:         649.1     \n",
      "Df Residuals:        37                Prob (F-statistic):  4.62e-25  \n",
      "R-squared:           0.946             Scale:               2.2830e+07\n",
      "----------------------------------------------------------------------\n",
      "         Coef.      Std.Err.     t    P>|t|     [0.025       0.975]   \n",
      "----------------------------------------------------------------------\n",
      "const -142869.6340 18100.5173 -7.8931 0.0000 -179544.7656 -106194.5023\n",
      "X         147.3886     5.7849 25.4783 0.0000     135.6673     159.1099\n",
      "----------------------------------------------------------------------\n",
      "Omnibus:                 3.581         Durbin-Watson:            2.137\n",
      "Prob(Omnibus):           0.167         Jarque-Bera (JB):         2.472\n",
      "Skew:                    0.587         Prob(JB):                 0.291\n",
      "Kurtosis:                3.376         Condition No.:            38061\n",
      "======================================================================\n",
      "* The condition number is large (4e+04). This might indicate\n",
      "strong multicollinearity or other numerical problems.\n"
     ]
    }
   ],
   "source": [
    "# 예제9-11: Cochrane-orcutt 방법\n",
    "# GLSAR : 일반화최소제곱(GLS)자기회귀방법(AR)\n",
    "import statsmodels.api as sm\n",
    "Corc = sm.GLSAR(data['Y'],sm.add_constant(data['X']), rho=0.005)    #상수항 추가\n",
    "Corc_fit = Corc.iterative_fit(maxiter = 10)\n",
    "\n",
    "print(Corc_fit.summary2())"
   ]
  },
  {
   "cell_type": "code",
   "execution_count": 10,
   "id": "bc4ce8ac",
   "metadata": {},
   "outputs": [
    {
     "name": "stdout",
     "output_type": "stream",
     "text": [
      "[0.48581974]\n"
     ]
    }
   ],
   "source": [
    "print(Corc.rho)"
   ]
  },
  {
   "cell_type": "code",
   "execution_count": 11,
   "id": "9c100101",
   "metadata": {},
   "outputs": [
    {
     "data": {
      "text/html": [
       "<div>\n",
       "<style scoped>\n",
       "    .dataframe tbody tr th:only-of-type {\n",
       "        vertical-align: middle;\n",
       "    }\n",
       "\n",
       "    .dataframe tbody tr th {\n",
       "        vertical-align: top;\n",
       "    }\n",
       "\n",
       "    .dataframe thead th {\n",
       "        text-align: right;\n",
       "    }\n",
       "</style>\n",
       "<table border=\"1\" class=\"dataframe\">\n",
       "  <thead>\n",
       "    <tr style=\"text-align: right;\">\n",
       "      <th></th>\n",
       "      <th>i</th>\n",
       "      <th>X</th>\n",
       "      <th>Y</th>\n",
       "    </tr>\n",
       "  </thead>\n",
       "  <tbody>\n",
       "    <tr>\n",
       "      <th>0</th>\n",
       "      <td>1</td>\n",
       "      <td>27</td>\n",
       "      <td>73</td>\n",
       "    </tr>\n",
       "    <tr>\n",
       "      <th>1</th>\n",
       "      <td>2</td>\n",
       "      <td>21</td>\n",
       "      <td>66</td>\n",
       "    </tr>\n",
       "    <tr>\n",
       "      <th>2</th>\n",
       "      <td>3</td>\n",
       "      <td>22</td>\n",
       "      <td>63</td>\n",
       "    </tr>\n",
       "    <tr>\n",
       "      <th>3</th>\n",
       "      <td>4</td>\n",
       "      <td>26</td>\n",
       "      <td>79</td>\n",
       "    </tr>\n",
       "    <tr>\n",
       "      <th>4</th>\n",
       "      <td>5</td>\n",
       "      <td>25</td>\n",
       "      <td>68</td>\n",
       "    </tr>\n",
       "  </tbody>\n",
       "</table>\n",
       "</div>"
      ],
      "text/plain": [
       "   i   X   Y\n",
       "0  1  27  73\n",
       "1  2  21  66\n",
       "2  3  22  63\n",
       "3  4  26  79\n",
       "4  5  25  68"
      ]
     },
     "execution_count": 11,
     "metadata": {},
     "output_type": "execute_result"
    }
   ],
   "source": [
    "# WLS : 가중치최소제곱추정방법\n",
    "import pandas as pd\n",
    "import statsmodels.formula.api as smf\n",
    "import matplotlib.pylab as plt\n",
    "\n",
    "data=pd.read_csv('ex9-11.csv')\n",
    "data.head(5)"
   ]
  },
  {
   "cell_type": "code",
   "execution_count": 18,
   "id": "abbfa05b",
   "metadata": {},
   "outputs": [
    {
     "name": "stdout",
     "output_type": "stream",
     "text": [
      "                 Results: Ordinary least squares\n",
      "=================================================================\n",
      "Model:              OLS              Adj. R-squared:     0.396   \n",
      "Dependent Variable: Y                AIC:                381.7369\n",
      "Date:               2022-12-07 08:43 BIC:                385.7149\n",
      "No. Observations:   54               Log-Likelihood:     -188.87 \n",
      "Df Model:           1                F-statistic:        35.79   \n",
      "Df Residuals:       52               Prob (F-statistic): 2.05e-07\n",
      "R-squared:          0.408            Scale:              66.353  \n",
      "------------------------------------------------------------------\n",
      "               Coef.   Std.Err.     t     P>|t|    [0.025   0.975]\n",
      "------------------------------------------------------------------\n",
      "Intercept     56.1569    3.9937  14.0615  0.0000  48.1430  64.1708\n",
      "X              0.5800    0.0970   5.9827  0.0000   0.3855   0.7746\n",
      "-----------------------------------------------------------------\n",
      "Omnibus:              0.517        Durbin-Watson:           2.343\n",
      "Prob(Omnibus):        0.772        Jarque-Bera (JB):        0.620\n",
      "Skew:                 0.209        Prob(JB):                0.733\n",
      "Kurtosis:             2.681        Condition No.:           148  \n",
      "=================================================================\n",
      "\n"
     ]
    }
   ],
   "source": [
    "fit=smf.ols('Y~X', data).fit()\n",
    "print(fit.summary2())"
   ]
  },
  {
   "cell_type": "code",
   "execution_count": 19,
   "id": "a5b68cf7",
   "metadata": {},
   "outputs": [
    {
     "data": {
      "image/png": "[encoded data removed]",
      "text/plain": [
       "<Figure size 432x288 with 1 Axes>"
      ]
     },
     "metadata": {
      "needs_background": "light"
     },
     "output_type": "display_data"
    }
   ],
   "source": [
    "plt.plot(data.X, fit1.resid_pearson, 'o')\n",
    "plt.axhline(y=0, color=\"k\", linewidth=0.3)\n",
    "plt.xlabel('X')\n",
    "plt.ylabel('studentized Residual')\n",
    "plt.show()"
   ]
  },
  {
   "cell_type": "code",
   "execution_count": 20,
   "id": "762973d3",
   "metadata": {},
   "outputs": [
    {
     "data": {
      "text/html": [
       "<div>\n",
       "<style scoped>\n",
       "    .dataframe tbody tr th:only-of-type {\n",
       "        vertical-align: middle;\n",
       "    }\n",
       "\n",
       "    .dataframe tbody tr th {\n",
       "        vertical-align: top;\n",
       "    }\n",
       "\n",
       "    .dataframe thead th {\n",
       "        text-align: right;\n",
       "    }\n",
       "</style>\n",
       "<table border=\"1\" class=\"dataframe\">\n",
       "  <thead>\n",
       "    <tr style=\"text-align: right;\">\n",
       "      <th></th>\n",
       "      <th>i</th>\n",
       "      <th>X</th>\n",
       "      <th>Y</th>\n",
       "      <th>resid</th>\n",
       "      <th>abs_resid</th>\n",
       "    </tr>\n",
       "  </thead>\n",
       "  <tbody>\n",
       "    <tr>\n",
       "      <th>0</th>\n",
       "      <td>1</td>\n",
       "      <td>27</td>\n",
       "      <td>73</td>\n",
       "      <td>1.182239</td>\n",
       "      <td>1.182239</td>\n",
       "    </tr>\n",
       "    <tr>\n",
       "      <th>1</th>\n",
       "      <td>2</td>\n",
       "      <td>21</td>\n",
       "      <td>66</td>\n",
       "      <td>-2.337576</td>\n",
       "      <td>2.337576</td>\n",
       "    </tr>\n",
       "    <tr>\n",
       "      <th>2</th>\n",
       "      <td>3</td>\n",
       "      <td>22</td>\n",
       "      <td>63</td>\n",
       "      <td>-5.917607</td>\n",
       "      <td>5.917607</td>\n",
       "    </tr>\n",
       "    <tr>\n",
       "      <th>3</th>\n",
       "      <td>4</td>\n",
       "      <td>26</td>\n",
       "      <td>79</td>\n",
       "      <td>7.762270</td>\n",
       "      <td>7.762270</td>\n",
       "    </tr>\n",
       "    <tr>\n",
       "      <th>4</th>\n",
       "      <td>5</td>\n",
       "      <td>25</td>\n",
       "      <td>68</td>\n",
       "      <td>-2.657699</td>\n",
       "      <td>2.657699</td>\n",
       "    </tr>\n",
       "  </tbody>\n",
       "</table>\n",
       "</div>"
      ],
      "text/plain": [
       "   i   X   Y     resid  abs_resid\n",
       "0  1  27  73  1.182239   1.182239\n",
       "1  2  21  66 -2.337576   2.337576\n",
       "2  3  22  63 -5.917607   5.917607\n",
       "3  4  26  79  7.762270   7.762270\n",
       "4  5  25  68 -2.657699   2.657699"
      ]
     },
     "execution_count": 20,
     "metadata": {},
     "output_type": "execute_result"
    }
   ],
   "source": [
    "import numpy as np\n",
    "data['resid']=fit.resid\n",
    "data['abs_resid']=abs(fit.resid)\n",
    "data.head(5)"
   ]
  },
  {
   "cell_type": "code",
   "execution_count": 23,
   "id": "5b520b83",
   "metadata": {},
   "outputs": [
    {
     "name": "stdout",
     "output_type": "stream",
     "text": [
      "                 Results: Weighted least squares\n",
      "=================================================================\n",
      "Model:              WLS              Adj. R-squared:     0.512   \n",
      "Dependent Variable: Y                AIC:                366.5121\n",
      "Date:               2022-12-07 08:49 BIC:                370.4901\n",
      "No. Observations:   54               Log-Likelihood:     -181.26 \n",
      "Df Model:           1                F-statistic:        56.64   \n",
      "Df Residuals:       52               Prob (F-statistic): 7.19e-10\n",
      "R-squared:          0.521            Scale:              1.4714  \n",
      "------------------------------------------------------------------\n",
      "               Coef.   Std.Err.     t     P>|t|    [0.025   0.975]\n",
      "------------------------------------------------------------------\n",
      "Intercept     55.5658    2.5209  22.0419  0.0000  50.5072  60.6244\n",
      "X              0.5963    0.0792   7.5260  0.0000   0.4373   0.7553\n",
      "-----------------------------------------------------------------\n",
      "Omnibus:              7.974        Durbin-Watson:           2.284\n",
      "Prob(Omnibus):        0.019        Jarque-Bera (JB):        2.701\n",
      "Skew:                 0.122        Prob(JB):                0.259\n",
      "Kurtosis:             1.932        Condition No.:           100  \n",
      "=================================================================\n",
      "\n"
     ]
    }
   ],
   "source": [
    "fit1=smf.ols('abs_resid~X', data).fit()    #가중치를 구할 회귀분석\n",
    "#가중치\n",
    "w=1/np.square(fit1.predict())\n",
    "#가중회귀모형\n",
    "wfit=smf.wls('Y~X', data, weights=w).fit()\n",
    "print(wfit.summary2())"
   ]
  },
  {
   "cell_type": "code",
   "execution_count": 24,
   "id": "f5b66272",
   "metadata": {},
   "outputs": [
    {
     "data": {
      "image/png": "[encoded data removed]",
      "text/plain": [
       "<Figure size 432x288 with 1 Axes>"
      ]
     },
     "metadata": {
      "needs_background": "light"
     },
     "output_type": "display_data"
    }
   ],
   "source": [
    "# 잔차도표\n",
    "w_X=data['X']*1/np.square(fit1.predict())\n",
    "plt.plot(w_X, wfit.resid_pearson, 'o')\n",
    "plt.axhline(y=0, color=\"k\", linewidth=0.3)\n",
    "plt.xlabel('weighted X')\n",
    "plt.ylabel('studentized Residual')\n",
    "plt.show()"
   ]
  },
  {
   "cell_type": "code",
   "execution_count": 25,
   "id": "e22b6600",
   "metadata": {},
   "outputs": [
    {
     "name": "stdout",
     "output_type": "stream",
     "text": [
      "                 Results: Weighted least squares\n",
      "=================================================================\n",
      "Model:              WLS              Adj. R-squared:     0.396   \n",
      "Dependent Variable: Y                AIC:                381.7369\n",
      "Date:               2022-12-07 08:49 BIC:                385.7149\n",
      "No. Observations:   54               Log-Likelihood:     -188.87 \n",
      "Df Model:           1                F-statistic:        35.79   \n",
      "Df Residuals:       52               Prob (F-statistic): 2.05e-07\n",
      "R-squared:          0.408            Scale:              12.925  \n",
      "------------------------------------------------------------------\n",
      "               Coef.   Std.Err.     t     P>|t|    [0.025   0.975]\n",
      "------------------------------------------------------------------\n",
      "Intercept     56.1569    3.9937  14.0615  0.0000  48.1430  64.1708\n",
      "X              0.5800    0.0970   5.9827  0.0000   0.3855   0.7746\n",
      "-----------------------------------------------------------------\n",
      "Omnibus:              0.517        Durbin-Watson:           2.343\n",
      "Prob(Omnibus):        0.772        Jarque-Bera (JB):        0.620\n",
      "Skew:                 0.209        Prob(JB):                0.733\n",
      "Kurtosis:             2.681        Condition No.:           148  \n",
      "=================================================================\n",
      "\n"
     ]
    }
   ],
   "source": [
    "wfit=smf.wls('Y~X', data, weights=1/np.var(fit1.predict())).fit()\n",
    "print(wfit.summary2())"
   ]
  },
  {
   "cell_type": "code",
   "execution_count": null,
   "id": "bd30b686",
   "metadata": {},
   "outputs": [],
   "source": []
  }
 ],
 "metadata": {
  "kernelspec": {
   "display_name": "Python 3 (ipykernel)",
   "language": "python",
   "name": "python3"
  },
  "language_info": {
   "codemirror_mode": {
    "name": "ipython",
    "version": 3
   },
   "file_extension": ".py",
   "mimetype": "text/x-python",
   "name": "python",
   "nbconvert_exporter": "python",
   "pygments_lexer": "ipython3",
   "version": "3.9.12"
  }
 },
 "nbformat": 4,
 "nbformat_minor": 5
}
