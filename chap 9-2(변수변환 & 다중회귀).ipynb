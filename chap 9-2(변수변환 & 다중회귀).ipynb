{
 "cells": [
  {
   "cell_type": "code",
   "execution_count": 1,
   "id": "98f5d970",
   "metadata": {},
   "outputs": [
    {
     "data": {
      "text/html": [
       "<div>\n",
       "<style scoped>\n",
       "    .dataframe tbody tr th:only-of-type {\n",
       "        vertical-align: middle;\n",
       "    }\n",
       "\n",
       "    .dataframe tbody tr th {\n",
       "        vertical-align: top;\n",
       "    }\n",
       "\n",
       "    .dataframe thead th {\n",
       "        text-align: right;\n",
       "    }\n",
       "</style>\n",
       "<table border=\"1\" class=\"dataframe\">\n",
       "  <thead>\n",
       "    <tr style=\"text-align: right;\">\n",
       "      <th></th>\n",
       "      <th>X</th>\n",
       "      <th>Y</th>\n",
       "    </tr>\n",
       "  </thead>\n",
       "  <tbody>\n",
       "    <tr>\n",
       "      <th>0</th>\n",
       "      <td>9.5</td>\n",
       "      <td>14814</td>\n",
       "    </tr>\n",
       "    <tr>\n",
       "      <th>1</th>\n",
       "      <td>8.4</td>\n",
       "      <td>17502</td>\n",
       "    </tr>\n",
       "    <tr>\n",
       "      <th>2</th>\n",
       "      <td>9.8</td>\n",
       "      <td>14007</td>\n",
       "    </tr>\n",
       "    <tr>\n",
       "      <th>3</th>\n",
       "      <td>11.0</td>\n",
       "      <td>19443</td>\n",
       "    </tr>\n",
       "  </tbody>\n",
       "</table>\n",
       "</div>"
      ],
      "text/plain": [
       "      X      Y\n",
       "0   9.5  14814\n",
       "1   8.4  17502\n",
       "2   9.8  14007\n",
       "3  11.0  19443"
      ]
     },
     "execution_count": 1,
     "metadata": {},
     "output_type": "execute_result"
    }
   ],
   "source": [
    "import numpy as np\n",
    "import pandas as pd\n",
    "import statsmodels.formula.api as smf\n",
    "\n",
    "data=pd.read_csv('ex9-4.csv')\n",
    "data.head(4)     "
   ]
  },
  {
   "cell_type": "code",
   "execution_count": 2,
   "id": "3f69e650",
   "metadata": {},
   "outputs": [
    {
     "name": "stdout",
     "output_type": "stream",
     "text": [
      "                            OLS Regression Results                            \n",
      "==============================================================================\n",
      "Dep. Variable:                      Y   R-squared:                       0.797\n",
      "Model:                            OLS   Adj. R-squared:                  0.790\n",
      "Method:                 Least Squares   F-statistic:                     110.2\n",
      "Date:                Wed, 07 Dec 2022   Prob (F-statistic):           3.25e-11\n",
      "Time:                        06:26:39   Log-Likelihood:                -322.35\n",
      "No. Observations:                  30   AIC:                             648.7\n",
      "Df Residuals:                      28   BIC:                             651.5\n",
      "Df Model:                           1                                         \n",
      "Covariance Type:            nonrobust                                         \n",
      "==============================================================================\n",
      "                 coef    std err          t      P>|t|      [0.025      0.975]\n",
      "------------------------------------------------------------------------------\n",
      "Intercept  -2.543e+04   6104.704     -4.166      0.000   -3.79e+04   -1.29e+04\n",
      "X           3884.9756    370.009     10.500      0.000    3127.046    4642.906\n",
      "==============================================================================\n",
      "Omnibus:                       15.208   Durbin-Watson:                   1.187\n",
      "Prob(Omnibus):                  0.000   Jarque-Bera (JB):               18.165\n",
      "Skew:                           1.292   Prob(JB):                     0.000114\n",
      "Kurtosis:                       5.802   Cond. No.                         47.6\n",
      "==============================================================================\n",
      "\n",
      "Notes:\n",
      "[1] Standard Errors assume that the covariance matrix of the errors is correctly specified.\n"
     ]
    }
   ],
   "source": [
    "fit1=smf.ols('Y~X', data).fit()\n",
    "print(fit1.summary())"
   ]
  },
  {
   "cell_type": "code",
   "execution_count": 3,
   "id": "41501a69",
   "metadata": {},
   "outputs": [
    {
     "data": {
      "image/png": "[encoded data removed]",
      "text/plain": [
       "<Figure size 432x288 with 1 Axes>"
      ]
     },
     "metadata": {
      "needs_background": "light"
     },
     "output_type": "display_data"
    }
   ],
   "source": [
    "#산점도\n",
    "import matplotlib.pylab as plt\n",
    "plt.plot(data['X'], data['Y'], 'o')\n",
    "plt.xlabel('X')\n",
    "plt.ylabel('Y')\n",
    "plt.show()"
   ]
  },
  {
   "cell_type": "code",
   "execution_count": 4,
   "id": "688bdd2d",
   "metadata": {},
   "outputs": [
    {
     "data": {
      "image/png": "[encoded data removed]",
      "text/plain": [
       "<Figure size 432x288 with 1 Axes>"
      ]
     },
     "metadata": {
      "needs_background": "light"
     },
     "output_type": "display_data"
    }
   ],
   "source": [
    "#잔차도표\n",
    "plt.plot(fit1.predict(),fit1.resid_pearson, 'o')\n",
    "plt.axhline(y=0, color=\"k\", linewidth=0.3)\n",
    "plt.xlabel('predicted value of Y')\n",
    "plt.ylabel('studentized Residual')\n",
    "plt.show()"
   ]
  },
  {
   "cell_type": "code",
   "execution_count": 8,
   "id": "17dd4dcb",
   "metadata": {},
   "outputs": [
    {
     "data": {
      "image/png": "[encoded data removed]",
      "text/plain": [
       "<Figure size 432x288 with 1 Axes>"
      ]
     },
     "metadata": {
      "needs_background": "light"
     },
     "output_type": "display_data"
    }
   ],
   "source": [
    "#정규확률지\n",
    "import statsmodels.api as sm\n",
    "p1=sm.qqplot(fit1.resid_pearson, markerfacecolor='dodgerblue', \n",
    "             markeredgecolor='dodgerblue', marker='o')\n",
    "plt.xlim([-2, 2])        #정규확률지 X축의 범위 지정\n",
    "plt.show()"
   ]
  },
  {
   "cell_type": "code",
   "execution_count": 4,
   "id": "4730086f",
   "metadata": {},
   "outputs": [
    {
     "data": {
      "text/html": [
       "<div>\n",
       "<style scoped>\n",
       "    .dataframe tbody tr th:only-of-type {\n",
       "        vertical-align: middle;\n",
       "    }\n",
       "\n",
       "    .dataframe tbody tr th {\n",
       "        vertical-align: top;\n",
       "    }\n",
       "\n",
       "    .dataframe thead th {\n",
       "        text-align: right;\n",
       "    }\n",
       "</style>\n",
       "<table border=\"1\" class=\"dataframe\">\n",
       "  <thead>\n",
       "    <tr style=\"text-align: right;\">\n",
       "      <th></th>\n",
       "      <th>X</th>\n",
       "      <th>Y</th>\n",
       "      <th>logY</th>\n",
       "    </tr>\n",
       "  </thead>\n",
       "  <tbody>\n",
       "    <tr>\n",
       "      <th>0</th>\n",
       "      <td>9.5</td>\n",
       "      <td>14814</td>\n",
       "      <td>9.603328</td>\n",
       "    </tr>\n",
       "    <tr>\n",
       "      <th>1</th>\n",
       "      <td>8.4</td>\n",
       "      <td>17502</td>\n",
       "      <td>9.770070</td>\n",
       "    </tr>\n",
       "    <tr>\n",
       "      <th>2</th>\n",
       "      <td>9.8</td>\n",
       "      <td>14007</td>\n",
       "      <td>9.547312</td>\n",
       "    </tr>\n",
       "  </tbody>\n",
       "</table>\n",
       "</div>"
      ],
      "text/plain": [
       "     X      Y      logY\n",
       "0  9.5  14814  9.603328\n",
       "1  8.4  17502  9.770070\n",
       "2  9.8  14007  9.547312"
      ]
     },
     "execution_count": 4,
     "metadata": {},
     "output_type": "execute_result"
    }
   ],
   "source": [
    "#변수변환\n",
    "data[\"logY\"]=np.log(data[\"Y\"])\n",
    "fit2=smf.ols('logY~X', data).fit()\n",
    "data.head(3)"
   ]
  },
  {
   "cell_type": "code",
   "execution_count": 5,
   "id": "5cbcf981",
   "metadata": {},
   "outputs": [
    {
     "name": "stdout",
     "output_type": "stream",
     "text": [
      "                            OLS Regression Results                            \n",
      "==============================================================================\n",
      "Dep. Variable:                   logY   R-squared:                       0.902\n",
      "Model:                            OLS   Adj. R-squared:                  0.898\n",
      "Method:                 Least Squares   F-statistic:                     256.7\n",
      "Date:                Wed, 07 Dec 2022   Prob (F-statistic):           1.24e-15\n",
      "Time:                        07:13:27   Log-Likelihood:                0.67010\n",
      "No. Observations:                  30   AIC:                             2.660\n",
      "Df Residuals:                      28   BIC:                             5.462\n",
      "Df Model:                           1                                         \n",
      "Covariance Type:            nonrobust                                         \n",
      "==============================================================================\n",
      "                 coef    std err          t      P>|t|      [0.025      0.975]\n",
      "------------------------------------------------------------------------------\n",
      "Intercept      8.2574      0.129     64.185      0.000       7.994       8.521\n",
      "X              0.1249      0.008     16.021      0.000       0.109       0.141\n",
      "==============================================================================\n",
      "Omnibus:                        0.176   Durbin-Watson:                   1.553\n",
      "Prob(Omnibus):                  0.916   Jarque-Bera (JB):                0.007\n",
      "Skew:                           0.012   Prob(JB):                        0.997\n",
      "Kurtosis:                       2.931   Cond. No.                         47.6\n",
      "==============================================================================\n",
      "\n",
      "Notes:\n",
      "[1] Standard Errors assume that the covariance matrix of the errors is correctly specified.\n"
     ]
    }
   ],
   "source": [
    "print(fit2.summary())"
   ]
  },
  {
   "cell_type": "code",
   "execution_count": 6,
   "id": "29ac6101",
   "metadata": {},
   "outputs": [
    {
     "data": {
      "image/png": "[encoded data removed]",
      "text/plain": [
       "<Figure size 432x288 with 1 Axes>"
      ]
     },
     "metadata": {
      "needs_background": "light"
     },
     "output_type": "display_data"
    }
   ],
   "source": [
    "#잔차도표\n",
    "plt.scatter(fit2.predict(),fit2.resid_pearson)\n",
    "plt.axhline(y=0, color=\"k\", linewidth=0.3)\n",
    "plt.xlabel('predicted value of Y')\n",
    "plt.ylabel('studentized Residual')\n",
    "plt.show()"
   ]
  },
  {
   "cell_type": "code",
   "execution_count": 9,
   "id": "dbd8839c",
   "metadata": {},
   "outputs": [
    {
     "data": {
      "image/png": "[encoded data removed]",
      "text/plain": [
       "<Figure size 432x288 with 1 Axes>"
      ]
     },
     "metadata": {
      "needs_background": "light"
     },
     "output_type": "display_data"
    }
   ],
   "source": [
    "#정규확률지\n",
    "p2=sm.qqplot(fit2.resid_pearson, markerfacecolor='dodgerblue',\n",
    "             markeredgecolor='dodgerblue', marker='o')\n",
    "plt.show()"
   ]
  },
  {
   "cell_type": "code",
   "execution_count": 10,
   "id": "47e2a592",
   "metadata": {},
   "outputs": [
    {
     "data": {
      "text/html": [
       "<div>\n",
       "<style scoped>\n",
       "    .dataframe tbody tr th:only-of-type {\n",
       "        vertical-align: middle;\n",
       "    }\n",
       "\n",
       "    .dataframe tbody tr th {\n",
       "        vertical-align: top;\n",
       "    }\n",
       "\n",
       "    .dataframe thead th {\n",
       "        text-align: right;\n",
       "    }\n",
       "</style>\n",
       "<table border=\"1\" class=\"dataframe\">\n",
       "  <thead>\n",
       "    <tr style=\"text-align: right;\">\n",
       "      <th></th>\n",
       "      <th>Y</th>\n",
       "      <th>X1</th>\n",
       "      <th>X2</th>\n",
       "      <th>X3</th>\n",
       "    </tr>\n",
       "  </thead>\n",
       "  <tbody>\n",
       "    <tr>\n",
       "      <th>0</th>\n",
       "      <td>68900</td>\n",
       "      <td>5960</td>\n",
       "      <td>44967</td>\n",
       "      <td>1873</td>\n",
       "    </tr>\n",
       "    <tr>\n",
       "      <th>1</th>\n",
       "      <td>48500</td>\n",
       "      <td>9000</td>\n",
       "      <td>27860</td>\n",
       "      <td>928</td>\n",
       "    </tr>\n",
       "    <tr>\n",
       "      <th>2</th>\n",
       "      <td>55500</td>\n",
       "      <td>9500</td>\n",
       "      <td>31439</td>\n",
       "      <td>1126</td>\n",
       "    </tr>\n",
       "    <tr>\n",
       "      <th>3</th>\n",
       "      <td>62000</td>\n",
       "      <td>10000</td>\n",
       "      <td>39592</td>\n",
       "      <td>1265</td>\n",
       "    </tr>\n",
       "    <tr>\n",
       "      <th>4</th>\n",
       "      <td>116500</td>\n",
       "      <td>18000</td>\n",
       "      <td>72827</td>\n",
       "      <td>2214</td>\n",
       "    </tr>\n",
       "  </tbody>\n",
       "</table>\n",
       "</div>"
      ],
      "text/plain": [
       "        Y     X1     X2    X3\n",
       "0   68900   5960  44967  1873\n",
       "1   48500   9000  27860   928\n",
       "2   55500   9500  31439  1126\n",
       "3   62000  10000  39592  1265\n",
       "4  116500  18000  72827  2214"
      ]
     },
     "execution_count": 10,
     "metadata": {},
     "output_type": "execute_result"
    }
   ],
   "source": [
    "import pandas as pd\n",
    "import statsmodels.formula.api as smf\n",
    "\n",
    "data=pd.read_csv('9.8.csv')\n",
    "data.head()"
   ]
  },
  {
   "cell_type": "code",
   "execution_count": 11,
   "id": "9c479ed9",
   "metadata": {},
   "outputs": [
    {
     "name": "stdout",
     "output_type": "stream",
     "text": [
      "                            OLS Regression Results                            \n",
      "==============================================================================\n",
      "Dep. Variable:                      Y   R-squared:                       0.897\n",
      "Model:                            OLS   Adj. R-squared:                  0.878\n",
      "Method:                 Least Squares   F-statistic:                     46.66\n",
      "Date:                Thu, 03 Nov 2022   Prob (F-statistic):           3.90e-08\n",
      "Time:                        14:54:54   Log-Likelihood:                -205.69\n",
      "No. Observations:                  20   AIC:                             419.4\n",
      "Df Residuals:                      16   BIC:                             423.4\n",
      "Df Model:                           3                                         \n",
      "Covariance Type:            nonrobust                                         \n",
      "==============================================================================\n",
      "                 coef    std err          t      P>|t|      [0.025      0.975]\n",
      "------------------------------------------------------------------------------\n",
      "Intercept   1470.2759   5746.325      0.256      0.801   -1.07e+04    1.37e+04\n",
      "X1             0.8145      0.512      1.590      0.131      -0.271       1.900\n",
      "X2             0.8204      0.211      3.885      0.001       0.373       1.268\n",
      "X3            13.5286      6.586      2.054      0.057      -0.432      27.490\n",
      "==============================================================================\n",
      "Omnibus:                        1.579   Durbin-Watson:                   1.242\n",
      "Prob(Omnibus):                  0.454   Jarque-Bera (JB):                0.392\n",
      "Skew:                          -0.222   Prob(JB):                        0.822\n",
      "Kurtosis:                       3.523   Cond. No.                     1.29e+05\n",
      "==============================================================================\n",
      "\n",
      "Notes:\n",
      "[1] Standard Errors assume that the covariance matrix of the errors is correctly specified.\n",
      "[2] The condition number is large, 1.29e+05. This might indicate that there are\n",
      "strong multicollinearity or other numerical problems.\n"
     ]
    }
   ],
   "source": [
    "fit1=smf.ols('Y~X1+X2+X3', data).fit()\n",
    "print(fit1.summary())"
   ]
  },
  {
   "cell_type": "code",
   "execution_count": 10,
   "id": "48c109b6",
   "metadata": {},
   "outputs": [
    {
     "data": {
      "text/html": [
       "<div>\n",
       "<style scoped>\n",
       "    .dataframe tbody tr th:only-of-type {\n",
       "        vertical-align: middle;\n",
       "    }\n",
       "\n",
       "    .dataframe tbody tr th {\n",
       "        vertical-align: top;\n",
       "    }\n",
       "\n",
       "    .dataframe thead th {\n",
       "        text-align: right;\n",
       "    }\n",
       "</style>\n",
       "<table border=\"1\" class=\"dataframe\">\n",
       "  <thead>\n",
       "    <tr style=\"text-align: right;\">\n",
       "      <th></th>\n",
       "      <th>X</th>\n",
       "      <th>Y</th>\n",
       "      <th>logY</th>\n",
       "    </tr>\n",
       "  </thead>\n",
       "  <tbody>\n",
       "    <tr>\n",
       "      <th>X</th>\n",
       "      <td>1.000000</td>\n",
       "      <td>0.893005</td>\n",
       "      <td>0.949546</td>\n",
       "    </tr>\n",
       "    <tr>\n",
       "      <th>Y</th>\n",
       "      <td>0.893005</td>\n",
       "      <td>1.000000</td>\n",
       "      <td>0.922769</td>\n",
       "    </tr>\n",
       "    <tr>\n",
       "      <th>logY</th>\n",
       "      <td>0.949546</td>\n",
       "      <td>0.922769</td>\n",
       "      <td>1.000000</td>\n",
       "    </tr>\n",
       "  </tbody>\n",
       "</table>\n",
       "</div>"
      ],
      "text/plain": [
       "             X         Y      logY\n",
       "X     1.000000  0.893005  0.949546\n",
       "Y     0.893005  1.000000  0.922769\n",
       "logY  0.949546  0.922769  1.000000"
      ]
     },
     "execution_count": 10,
     "metadata": {},
     "output_type": "execute_result"
    },
    {
     "data": {
      "image/png": "[encoded data removed]",
      "text/plain": [
       "<Figure size 540x540 with 12 Axes>"
      ]
     },
     "metadata": {
      "needs_background": "light"
     },
     "output_type": "display_data"
    }
   ],
   "source": [
    "import seaborn as sns\n",
    "sns.pairplot(data = data)\n",
    "data.corr()"
   ]
  },
  {
   "cell_type": "code",
   "execution_count": 11,
   "id": "5b1a8275",
   "metadata": {},
   "outputs": [],
   "source": [
    "import numpy as np\n",
    "import pandas as pd\n",
    "import statsmodels.formula.api as smf\n",
    "\n",
    "y=np.array([9,20,22,15,17,30,18,25,10,20])\n",
    "x1=np.array([4,8,9,8,8,12,6,10,6,9])\n",
    "x2=np.array([4,10,8,5,10,15,8,13,5,12])\n",
    "\n",
    "d={'y':y, 'x1':x1, 'x2':x2}\n",
    "data=pd.DataFrame(data=d)"
   ]
  },
  {
   "cell_type": "code",
   "execution_count": 12,
   "id": "9515c2e0",
   "metadata": {},
   "outputs": [
    {
     "name": "stdout",
     "output_type": "stream",
     "text": [
      "                            OLS Regression Results                            \n",
      "==============================================================================\n",
      "Dep. Variable:                      y   R-squared:                       0.901\n",
      "Model:                            OLS   Adj. R-squared:                  0.873\n",
      "Method:                 Least Squares   F-statistic:                     32.00\n",
      "Date:                Wed, 07 Dec 2022   Prob (F-statistic):           0.000301\n",
      "Time:                        07:26:44   Log-Likelihood:                -20.639\n",
      "No. Observations:                  10   AIC:                             47.28\n",
      "Df Residuals:                       7   BIC:                             48.19\n",
      "Df Model:                           2                                         \n",
      "Covariance Type:            nonrobust                                         \n",
      "==============================================================================\n",
      "                 coef    std err          t      P>|t|      [0.025      0.975]\n",
      "------------------------------------------------------------------------------\n",
      "Intercept     -0.6507      2.908     -0.224      0.829      -7.526       6.225\n",
      "x1             1.5515      0.646      2.401      0.047       0.023       3.080\n",
      "x2             0.7599      0.397      1.915      0.097      -0.178       1.698\n",
      "==============================================================================\n",
      "Omnibus:                        0.383   Durbin-Watson:                   1.362\n",
      "Prob(Omnibus):                  0.826   Jarque-Bera (JB):                0.464\n",
      "Skew:                           0.152   Prob(JB):                        0.793\n",
      "Kurtosis:                       1.989   Cond. No.                         52.0\n",
      "==============================================================================\n",
      "\n",
      "Notes:\n",
      "[1] Standard Errors assume that the covariance matrix of the errors is correctly specified.\n"
     ]
    },
    {
     "name": "stderr",
     "output_type": "stream",
     "text": [
      "C:\\Users\\gksxk\\anaconda3\\lib\\site-packages\\scipy\\stats\\stats.py:1541: UserWarning: kurtosistest only valid for n>=20 ... continuing anyway, n=10\n",
      "  warnings.warn(\"kurtosistest only valid for n>=20 ... continuing \"\n"
     ]
    }
   ],
   "source": [
    "# 비표준화 회귀분석\n",
    "fit1=smf.ols('y~x1+x2', data).fit()\n",
    "print(fit1.summary())"
   ]
  },
  {
   "cell_type": "code",
   "execution_count": 13,
   "id": "8e418860",
   "metadata": {},
   "outputs": [
    {
     "name": "stdout",
     "output_type": "stream",
     "text": [
      "                            OLS Regression Results                            \n",
      "==============================================================================\n",
      "Dep. Variable:                      y   R-squared:                       0.901\n",
      "Model:                            OLS   Adj. R-squared:                  0.873\n",
      "Method:                 Least Squares   F-statistic:                     32.00\n",
      "Date:                Wed, 07 Dec 2022   Prob (F-statistic):           0.000301\n",
      "Time:                        07:26:45   Log-Likelihood:                -2.6062\n",
      "No. Observations:                  10   AIC:                             11.21\n",
      "Df Residuals:                       7   BIC:                             12.12\n",
      "Df Model:                           2                                         \n",
      "Covariance Type:            nonrobust                                         \n",
      "==============================================================================\n",
      "                 coef    std err          t      P>|t|      [0.025      0.975]\n",
      "------------------------------------------------------------------------------\n",
      "Intercept  -2.914e-16      0.119  -2.46e-15      1.000      -0.281       0.281\n",
      "x1             0.5482      0.228      2.401      0.047       0.008       1.088\n",
      "x2             0.4373      0.228      1.915      0.097      -0.103       0.977\n",
      "==============================================================================\n",
      "Omnibus:                        0.383   Durbin-Watson:                   1.362\n",
      "Prob(Omnibus):                  0.826   Jarque-Bera (JB):                0.464\n",
      "Skew:                           0.152   Prob(JB):                        0.793\n",
      "Kurtosis:                       1.989   Cond. No.                         3.57\n",
      "==============================================================================\n",
      "\n",
      "Notes:\n",
      "[1] Standard Errors assume that the covariance matrix of the errors is correctly specified.\n"
     ]
    },
    {
     "name": "stderr",
     "output_type": "stream",
     "text": [
      "C:\\Users\\gksxk\\anaconda3\\lib\\site-packages\\scipy\\stats\\stats.py:1541: UserWarning: kurtosistest only valid for n>=20 ... continuing anyway, n=10\n",
      "  warnings.warn(\"kurtosistest only valid for n>=20 ... continuing \"\n"
     ]
    }
   ],
   "source": [
    "from scipy import stats\n",
    "data_z = data.select_dtypes(include=[np.number]).dropna().apply(stats.zscore)\n",
    "fit2=smf.ols('y~x1+x2', data=data_z).fit()\n",
    "print(fit2.summary())"
   ]
  },
  {
   "cell_type": "code",
   "execution_count": null,
   "id": "ea598b24",
   "metadata": {},
   "outputs": [],
   "source": []
  }
 ],
 "metadata": {
  "kernelspec": {
   "display_name": "Python 3 (ipykernel)",
   "language": "python",
   "name": "python3"
  },
  "language_info": {
   "codemirror_mode": {
    "name": "ipython",
    "version": 3
   },
   "file_extension": ".py",
   "mimetype": "text/x-python",
   "name": "python",
   "nbconvert_exporter": "python",
   "pygments_lexer": "ipython3",
   "version": "3.9.12"
  }
 },
 "nbformat": 4,
 "nbformat_minor": 5
}
