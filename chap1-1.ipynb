{
 "cells": [
  {
   "cell_type": "code",
   "execution_count": 1,
   "id": "65b374de",
   "metadata": {},
   "outputs": [
    {
     "data": {
      "text/plain": [
       "<bound method NDFrame.head of          Y     X1     X2    X3   X4\n",
       "0    68900   5960  44967  1873  1.0\n",
       "1    48500   9000  27860   928  0.0\n",
       "2    55500   9500  31439  1126  1.0\n",
       "3    62000  10000  39592  1265  1.0\n",
       "4   116500  18000  72827  2214  1.0\n",
       "5    45000   8500  27317   912  0.0\n",
       "6    38000   8000  29856   899  0.0\n",
       "7    83000  23000  47752  1803  1.0\n",
       "8    59000   8100  39117  1204  1.0\n",
       "9    47500   9000  29349  1725  1.0\n",
       "10   40500   7300  40166  1080  1.0\n",
       "11   40000   8000  31679  1529  1.0\n",
       "12   97000  20000  58510  2455  1.0\n",
       "13   45500   8000  23454  1151  1.0\n",
       "14   40900   8000  20897  1173  1.0\n",
       "15   80000  10500  56248  1960  1.0\n",
       "16   56000   4000  20859  1344  1.0\n",
       "17   37000   4500  22610   988  0.0\n",
       "18   50000   3400  35948  1076  1.0\n",
       "19   22400   1500   5779   962  0.0>"
      ]
     },
     "execution_count": 1,
     "metadata": {},
     "output_type": "execute_result"
    }
   ],
   "source": [
    "import pandas as pd \n",
    "data=pd.read_csv('9.8.csv')\n",
    "data.loc[data['X3']<1000, 'X4']=0\n",
    "data.loc[data['X3']>=1000, 'X4']=1\n",
    "data.head"
   ]
  },
  {
   "cell_type": "code",
   "execution_count": 2,
   "id": "1c5e0ab0",
   "metadata": {},
   "outputs": [
    {
     "data": {
      "text/html": [
       "<div>\n",
       "<style scoped>\n",
       "    .dataframe tbody tr th:only-of-type {\n",
       "        vertical-align: middle;\n",
       "    }\n",
       "\n",
       "    .dataframe tbody tr th {\n",
       "        vertical-align: top;\n",
       "    }\n",
       "\n",
       "    .dataframe thead th {\n",
       "        text-align: right;\n",
       "    }\n",
       "</style>\n",
       "<table border=\"1\" class=\"dataframe\">\n",
       "  <thead>\n",
       "    <tr style=\"text-align: right;\">\n",
       "      <th></th>\n",
       "      <th>Y</th>\n",
       "      <th>X1</th>\n",
       "      <th>X2</th>\n",
       "      <th>X3</th>\n",
       "      <th>X4</th>\n",
       "    </tr>\n",
       "  </thead>\n",
       "  <tbody>\n",
       "    <tr>\n",
       "      <th>0</th>\n",
       "      <td>68900</td>\n",
       "      <td>5960</td>\n",
       "      <td>44967</td>\n",
       "      <td>1873</td>\n",
       "      <td>1.0</td>\n",
       "    </tr>\n",
       "    <tr>\n",
       "      <th>1</th>\n",
       "      <td>48500</td>\n",
       "      <td>9000</td>\n",
       "      <td>27860</td>\n",
       "      <td>928</td>\n",
       "      <td>0.0</td>\n",
       "    </tr>\n",
       "    <tr>\n",
       "      <th>2</th>\n",
       "      <td>55500</td>\n",
       "      <td>9500</td>\n",
       "      <td>31439</td>\n",
       "      <td>1126</td>\n",
       "      <td>1.0</td>\n",
       "    </tr>\n",
       "    <tr>\n",
       "      <th>3</th>\n",
       "      <td>62000</td>\n",
       "      <td>10000</td>\n",
       "      <td>39592</td>\n",
       "      <td>1265</td>\n",
       "      <td>1.0</td>\n",
       "    </tr>\n",
       "  </tbody>\n",
       "</table>\n",
       "</div>"
      ],
      "text/plain": [
       "       Y     X1     X2    X3   X4\n",
       "0  68900   5960  44967  1873  1.0\n",
       "1  48500   9000  27860   928  0.0\n",
       "2  55500   9500  31439  1126  1.0\n",
       "3  62000  10000  39592  1265  1.0"
      ]
     },
     "execution_count": 2,
     "metadata": {},
     "output_type": "execute_result"
    }
   ],
   "source": [
    "import pandas as pd \n",
    "data=pd.read_csv('9.8.csv')\n",
    "data.loc[data['X3']<1000, 'X4']=0\n",
    "data.loc[data['X3']>=1000, 'X4']=1\n",
    "data.head(4)"
   ]
  },
  {
   "cell_type": "code",
   "execution_count": 6,
   "id": "942ffefb",
   "metadata": {},
   "outputs": [
    {
     "data": {
      "text/html": [
       "<div>\n",
       "<style scoped>\n",
       "    .dataframe tbody tr th:only-of-type {\n",
       "        vertical-align: middle;\n",
       "    }\n",
       "\n",
       "    .dataframe tbody tr th {\n",
       "        vertical-align: top;\n",
       "    }\n",
       "\n",
       "    .dataframe thead th {\n",
       "        text-align: right;\n",
       "    }\n",
       "</style>\n",
       "<table border=\"1\" class=\"dataframe\">\n",
       "  <thead>\n",
       "    <tr style=\"text-align: right;\">\n",
       "      <th></th>\n",
       "      <th>Y</th>\n",
       "      <th>X1</th>\n",
       "      <th>X2</th>\n",
       "      <th>X3</th>\n",
       "      <th>X4</th>\n",
       "      <th>X5</th>\n",
       "    </tr>\n",
       "  </thead>\n",
       "  <tbody>\n",
       "    <tr>\n",
       "      <th>0</th>\n",
       "      <td>68900</td>\n",
       "      <td>5960</td>\n",
       "      <td>44967</td>\n",
       "      <td>1873</td>\n",
       "      <td>1.0</td>\n",
       "      <td>X3&gt;=1000</td>\n",
       "    </tr>\n",
       "    <tr>\n",
       "      <th>1</th>\n",
       "      <td>48500</td>\n",
       "      <td>9000</td>\n",
       "      <td>27860</td>\n",
       "      <td>928</td>\n",
       "      <td>0.0</td>\n",
       "      <td>X3&lt;1000</td>\n",
       "    </tr>\n",
       "    <tr>\n",
       "      <th>2</th>\n",
       "      <td>55500</td>\n",
       "      <td>9500</td>\n",
       "      <td>31439</td>\n",
       "      <td>1126</td>\n",
       "      <td>1.0</td>\n",
       "      <td>X3&gt;=1000</td>\n",
       "    </tr>\n",
       "    <tr>\n",
       "      <th>3</th>\n",
       "      <td>62000</td>\n",
       "      <td>10000</td>\n",
       "      <td>39592</td>\n",
       "      <td>1265</td>\n",
       "      <td>1.0</td>\n",
       "      <td>X3&gt;=1000</td>\n",
       "    </tr>\n",
       "  </tbody>\n",
       "</table>\n",
       "</div>"
      ],
      "text/plain": [
       "       Y     X1     X2    X3   X4        X5\n",
       "0  68900   5960  44967  1873  1.0  X3>=1000\n",
       "1  48500   9000  27860   928  0.0   X3<1000\n",
       "2  55500   9500  31439  1126  1.0  X3>=1000\n",
       "3  62000  10000  39592  1265  1.0  X3>=1000"
      ]
     },
     "execution_count": 6,
     "metadata": {},
     "output_type": "execute_result"
    }
   ],
   "source": [
    "data.loc[data['X4']==0, 'X5']='X3<1000'\n",
    "data.loc[data['X4']==1, 'X5']='X3>=1000'\n",
    "data.head(4)"
   ]
  },
  {
   "cell_type": "code",
   "execution_count": 7,
   "id": "c2a66ffc",
   "metadata": {
    "scrolled": false
   },
   "outputs": [
    {
     "data": {
      "text/html": [
       "<div>\n",
       "<style scoped>\n",
       "    .dataframe tbody tr th:only-of-type {\n",
       "        vertical-align: middle;\n",
       "    }\n",
       "\n",
       "    .dataframe tbody tr th {\n",
       "        vertical-align: top;\n",
       "    }\n",
       "\n",
       "    .dataframe thead th {\n",
       "        text-align: right;\n",
       "    }\n",
       "</style>\n",
       "<table border=\"1\" class=\"dataframe\">\n",
       "  <thead>\n",
       "    <tr style=\"text-align: right;\">\n",
       "      <th></th>\n",
       "      <th>Y</th>\n",
       "      <th>X1</th>\n",
       "      <th>X2</th>\n",
       "      <th>X3</th>\n",
       "      <th>X4</th>\n",
       "      <th>X5</th>\n",
       "      <th>X6</th>\n",
       "    </tr>\n",
       "  </thead>\n",
       "  <tbody>\n",
       "    <tr>\n",
       "      <th>0</th>\n",
       "      <td>68900</td>\n",
       "      <td>5960</td>\n",
       "      <td>44967</td>\n",
       "      <td>1873</td>\n",
       "      <td>1.0</td>\n",
       "      <td>X3&gt;=1000</td>\n",
       "      <td>X3 1000이상</td>\n",
       "    </tr>\n",
       "    <tr>\n",
       "      <th>1</th>\n",
       "      <td>48500</td>\n",
       "      <td>9000</td>\n",
       "      <td>27860</td>\n",
       "      <td>928</td>\n",
       "      <td>0.0</td>\n",
       "      <td>X3&lt;1000</td>\n",
       "      <td>X3 1000미만</td>\n",
       "    </tr>\n",
       "    <tr>\n",
       "      <th>2</th>\n",
       "      <td>55500</td>\n",
       "      <td>9500</td>\n",
       "      <td>31439</td>\n",
       "      <td>1126</td>\n",
       "      <td>1.0</td>\n",
       "      <td>X3&gt;=1000</td>\n",
       "      <td>X3 1000이상</td>\n",
       "    </tr>\n",
       "    <tr>\n",
       "      <th>3</th>\n",
       "      <td>62000</td>\n",
       "      <td>10000</td>\n",
       "      <td>39592</td>\n",
       "      <td>1265</td>\n",
       "      <td>1.0</td>\n",
       "      <td>X3&gt;=1000</td>\n",
       "      <td>X3 1000이상</td>\n",
       "    </tr>\n",
       "  </tbody>\n",
       "</table>\n",
       "</div>"
      ],
      "text/plain": [
       "       Y     X1     X2    X3   X4        X5         X6\n",
       "0  68900   5960  44967  1873  1.0  X3>=1000  X3 1000이상\n",
       "1  48500   9000  27860   928  0.0   X3<1000  X3 1000미만\n",
       "2  55500   9500  31439  1126  1.0  X3>=1000  X3 1000이상\n",
       "3  62000  10000  39592  1265  1.0  X3>=1000  X3 1000이상"
      ]
     },
     "execution_count": 7,
     "metadata": {},
     "output_type": "execute_result"
    }
   ],
   "source": [
    "label={0:'X3 1000미만', 1:'X3 1000이상'}\n",
    "data['X6']=data['X4'].map(label)\n",
    "data.head(4)"
   ]
  },
  {
   "cell_type": "code",
   "execution_count": 8,
   "id": "90e79e2a",
   "metadata": {},
   "outputs": [
    {
     "data": {
      "image/png": "[encoded data removed]",
      "text/plain": [
       "<Figure size 432x288 with 1 Axes>"
      ]
     },
     "metadata": {
      "needs_background": "light"
     },
     "output_type": "display_data"
    }
   ],
   "source": [
    "!python ex7-2.py\n",
    "exec(open('ex7-2.py').read())"
   ]
  },
  {
   "cell_type": "code",
   "execution_count": null,
   "id": "f72554ae",
   "metadata": {},
   "outputs": [],
   "source": []
  }
 ],
 "metadata": {
  "kernelspec": {
   "display_name": "Python 3 (ipykernel)",
   "language": "python",
   "name": "python3"
  },
  "language_info": {
   "codemirror_mode": {
    "name": "ipython",
    "version": 3
   },
   "file_extension": ".py",
   "mimetype": "text/x-python",
   "name": "python",
   "nbconvert_exporter": "python",
   "pygments_lexer": "ipython3",
   "version": "3.9.12"
  }
 },
 "nbformat": 4,
 "nbformat_minor": 5
}
