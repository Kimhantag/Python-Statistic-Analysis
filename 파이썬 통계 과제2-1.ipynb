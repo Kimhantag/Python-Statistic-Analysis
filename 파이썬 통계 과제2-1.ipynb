{
 "cells": [
  {
   "cell_type": "code",
   "execution_count": 1,
   "id": "fafbcac6",
   "metadata": {},
   "outputs": [],
   "source": [
    "#1-1\n",
    "import numpy as np\n",
    "import pandas as pd\n",
    "from scipy import stats\n",
    "from statsmodels.stats.proportion import proportions_ztest\n",
    "import matplotlib.pyplot as plt\n",
    "import math "
   ]
  },
  {
   "cell_type": "code",
   "execution_count": 3,
   "id": "972e485e",
   "metadata": {},
   "outputs": [
    {
     "name": "stdout",
     "output_type": "stream",
     "text": [
      "하한=0.49401, 상한=0.54599\n"
     ]
    }
   ],
   "source": [
    "def confidence_interval(x, n, ppf):\n",
    "    phat=x/n\n",
    "    interval=ppf*math.sqrt((phat*(1-phat))/n)\n",
    "    return (phat-interval), (phat+interval)\n",
    "\n",
    "confidence_interval(520, 1000, 1.645)\n",
    "print(\"하한=%.5f, 상한=%.5f\"%confidence_interval(520, 1000, 1.645))"
   ]
  },
  {
   "cell_type": "code",
   "execution_count": 4,
   "id": "a11acd25",
   "metadata": {
    "scrolled": true
   },
   "outputs": [
    {
     "name": "stdout",
     "output_type": "stream",
     "text": [
      "하한=0.48903, 상한=0.55097\n"
     ]
    }
   ],
   "source": [
    "#1-2\n",
    "confidence_interval(520, 1000, 1.96)\n",
    "print(\"하한=%.5f, 상한=%.5f\"%confidence_interval(520, 1000, 1.96))"
   ]
  },
  {
   "cell_type": "code",
   "execution_count": 5,
   "id": "9cd0986c",
   "metadata": {},
   "outputs": [
    {
     "name": "stdout",
     "output_type": "stream",
     "text": [
      "하한=0.50452, 상한=0.53548\n"
     ]
    }
   ],
   "source": [
    "#1-3\n",
    "confidence_interval(2080, 4000, 1.96)\n",
    "print(\"하한=%.5f, 상한=%.5f\"%confidence_interval(2080, 4000, 1.96))"
   ]
  },
  {
   "cell_type": "code",
   "execution_count": 6,
   "id": "d97c44fe",
   "metadata": {},
   "outputs": [
    {
     "data": {
      "text/html": [
       "<div>\n",
       "<style scoped>\n",
       "    .dataframe tbody tr th:only-of-type {\n",
       "        vertical-align: middle;\n",
       "    }\n",
       "\n",
       "    .dataframe tbody tr th {\n",
       "        vertical-align: top;\n",
       "    }\n",
       "\n",
       "    .dataframe thead th {\n",
       "        text-align: right;\n",
       "    }\n",
       "</style>\n",
       "<table border=\"1\" class=\"dataframe\">\n",
       "  <thead>\n",
       "    <tr style=\"text-align: right;\">\n",
       "      <th></th>\n",
       "      <th>visitor</th>\n",
       "    </tr>\n",
       "  </thead>\n",
       "  <tbody>\n",
       "    <tr>\n",
       "      <th>count</th>\n",
       "      <td>10.000</td>\n",
       "    </tr>\n",
       "    <tr>\n",
       "      <th>mean</th>\n",
       "      <td>171.700</td>\n",
       "    </tr>\n",
       "    <tr>\n",
       "      <th>std</th>\n",
       "      <td>2.452</td>\n",
       "    </tr>\n",
       "    <tr>\n",
       "      <th>min</th>\n",
       "      <td>168.000</td>\n",
       "    </tr>\n",
       "    <tr>\n",
       "      <th>25%</th>\n",
       "      <td>170.000</td>\n",
       "    </tr>\n",
       "    <tr>\n",
       "      <th>50%</th>\n",
       "      <td>172.000</td>\n",
       "    </tr>\n",
       "    <tr>\n",
       "      <th>75%</th>\n",
       "      <td>173.000</td>\n",
       "    </tr>\n",
       "    <tr>\n",
       "      <th>max</th>\n",
       "      <td>176.000</td>\n",
       "    </tr>\n",
       "  </tbody>\n",
       "</table>\n",
       "</div>"
      ],
      "text/plain": [
       "       visitor\n",
       "count   10.000\n",
       "mean   171.700\n",
       "std      2.452\n",
       "min    168.000\n",
       "25%    170.000\n",
       "50%    172.000\n",
       "75%    173.000\n",
       "max    176.000"
      ]
     },
     "execution_count": 6,
     "metadata": {},
     "output_type": "execute_result"
    }
   ],
   "source": [
    "#2-1\n",
    "import numpy as np\n",
    "import pandas as pd\n",
    "\n",
    "x=np.array([172, 169, 176, 170, 174, 173, 168, 172, 173, 170])\n",
    "d={'visitor':x}\n",
    "data=pd.DataFrame(data=d)\n",
    "data.describe().round(3)"
   ]
  },
  {
   "cell_type": "code",
   "execution_count": 6,
   "id": "99206bed",
   "metadata": {},
   "outputs": [
    {
     "name": "stdout",
     "output_type": "stream",
     "text": [
      "하한=169.946, 상한=173.454\n"
     ]
    }
   ],
   "source": [
    "#2-2\n",
    "def confidence_interval(data, confidence=0.95):\n",
    "    data=np.array(data)\n",
    "    mean=np.mean(data)\n",
    "    n=len(data)\n",
    "    stderr = stats.sem(data) \n",
    "           # standard error mean :표준오차\n",
    "    interval=stderr*stats.t.ppf((1 + confidence) / 2, n-1)\n",
    "            # ppf : inverse of cdf\n",
    "    return (mean-interval, mean+interval)\n",
    "\n",
    "print(\"하한=%.3f, 상한=%.3f\"%confidence_interval(data))"
   ]
  },
  {
   "cell_type": "code",
   "execution_count": 20,
   "id": "2af25a56",
   "metadata": {},
   "outputs": [
    {
     "data": {
      "text/html": [
       "<div>\n",
       "<style scoped>\n",
       "    .dataframe tbody tr th:only-of-type {\n",
       "        vertical-align: middle;\n",
       "    }\n",
       "\n",
       "    .dataframe tbody tr th {\n",
       "        vertical-align: top;\n",
       "    }\n",
       "\n",
       "    .dataframe thead th {\n",
       "        text-align: right;\n",
       "    }\n",
       "</style>\n",
       "<table border=\"1\" class=\"dataframe\">\n",
       "  <thead>\n",
       "    <tr style=\"text-align: right;\">\n",
       "      <th></th>\n",
       "      <th>x</th>\n",
       "      <th>group</th>\n",
       "    </tr>\n",
       "  </thead>\n",
       "  <tbody>\n",
       "    <tr>\n",
       "      <th>0</th>\n",
       "      <td>4.8</td>\n",
       "      <td>1</td>\n",
       "    </tr>\n",
       "    <tr>\n",
       "      <th>1</th>\n",
       "      <td>5.2</td>\n",
       "      <td>1</td>\n",
       "    </tr>\n",
       "    <tr>\n",
       "      <th>2</th>\n",
       "      <td>5.0</td>\n",
       "      <td>1</td>\n",
       "    </tr>\n",
       "    <tr>\n",
       "      <th>3</th>\n",
       "      <td>4.9</td>\n",
       "      <td>1</td>\n",
       "    </tr>\n",
       "    <tr>\n",
       "      <th>4</th>\n",
       "      <td>5.1</td>\n",
       "      <td>1</td>\n",
       "    </tr>\n",
       "  </tbody>\n",
       "</table>\n",
       "</div>"
      ],
      "text/plain": [
       "     x group\n",
       "0  4.8     1\n",
       "1  5.2     1\n",
       "2  5.0     1\n",
       "3  4.9     1\n",
       "4  5.1     1"
      ]
     },
     "execution_count": 20,
     "metadata": {},
     "output_type": "execute_result"
    }
   ],
   "source": [
    "#3\n",
    "import numpy as np\n",
    "import pandas as pd\n",
    "x=np.array([4.8, 5.2, 5.0, 4.9, 5.1, 5.0, 4.7, 4.9, 4.8])\n",
    "g=np.array(['1', '1', '1', '1', '1', '2', '2', '2', '2'])\n",
    "d={'x':x, 'group':g}\n",
    "data1=pd.DataFrame(data=d)\n",
    "data1.head()"
   ]
  },
  {
   "cell_type": "code",
   "execution_count": 21,
   "id": "504ec2f6",
   "metadata": {},
   "outputs": [
    {
     "data": {
      "text/html": [
       "<div>\n",
       "<style scoped>\n",
       "    .dataframe tbody tr th:only-of-type {\n",
       "        vertical-align: middle;\n",
       "    }\n",
       "\n",
       "    .dataframe tbody tr th {\n",
       "        vertical-align: top;\n",
       "    }\n",
       "\n",
       "    .dataframe thead tr th {\n",
       "        text-align: left;\n",
       "    }\n",
       "\n",
       "    .dataframe thead tr:last-of-type th {\n",
       "        text-align: right;\n",
       "    }\n",
       "</style>\n",
       "<table border=\"1\" class=\"dataframe\">\n",
       "  <thead>\n",
       "    <tr>\n",
       "      <th></th>\n",
       "      <th colspan=\"8\" halign=\"left\">x</th>\n",
       "    </tr>\n",
       "    <tr>\n",
       "      <th></th>\n",
       "      <th>count</th>\n",
       "      <th>mean</th>\n",
       "      <th>std</th>\n",
       "      <th>min</th>\n",
       "      <th>25%</th>\n",
       "      <th>50%</th>\n",
       "      <th>75%</th>\n",
       "      <th>max</th>\n",
       "    </tr>\n",
       "    <tr>\n",
       "      <th>group</th>\n",
       "      <th></th>\n",
       "      <th></th>\n",
       "      <th></th>\n",
       "      <th></th>\n",
       "      <th></th>\n",
       "      <th></th>\n",
       "      <th></th>\n",
       "      <th></th>\n",
       "    </tr>\n",
       "  </thead>\n",
       "  <tbody>\n",
       "    <tr>\n",
       "      <th>1</th>\n",
       "      <td>5.0</td>\n",
       "      <td>5.00</td>\n",
       "      <td>0.158114</td>\n",
       "      <td>4.8</td>\n",
       "      <td>4.900</td>\n",
       "      <td>5.00</td>\n",
       "      <td>5.100</td>\n",
       "      <td>5.2</td>\n",
       "    </tr>\n",
       "    <tr>\n",
       "      <th>2</th>\n",
       "      <td>4.0</td>\n",
       "      <td>4.85</td>\n",
       "      <td>0.129099</td>\n",
       "      <td>4.7</td>\n",
       "      <td>4.775</td>\n",
       "      <td>4.85</td>\n",
       "      <td>4.925</td>\n",
       "      <td>5.0</td>\n",
       "    </tr>\n",
       "  </tbody>\n",
       "</table>\n",
       "</div>"
      ],
      "text/plain": [
       "          x                                              \n",
       "      count  mean       std  min    25%   50%    75%  max\n",
       "group                                                    \n",
       "1       5.0  5.00  0.158114  4.8  4.900  5.00  5.100  5.2\n",
       "2       4.0  4.85  0.129099  4.7  4.775  4.85  4.925  5.0"
      ]
     },
     "execution_count": 21,
     "metadata": {},
     "output_type": "execute_result"
    }
   ],
   "source": [
    "data1.groupby('group').describe()"
   ]
  },
  {
   "cell_type": "code",
   "execution_count": 26,
   "id": "d10b7af5",
   "metadata": {},
   "outputs": [
    {
     "name": "stdout",
     "output_type": "stream",
     "text": [
      "T-value=1.528, P-value=0.170\n"
     ]
    }
   ],
   "source": [
    "#등분산 가정\n",
    "from scipy.stats import ttest_ind\n",
    "\n",
    "group1=data1[data1.group=='1']\n",
    "group2=data1[data1.group=='2']\n",
    "result=ttest_ind(group1.x, group2.x, equal_var=True) \n",
    "print(\"T-value=%.3f, P-value=%.3f\"%result)  #귀무가설 기각"
   ]
  },
  {
   "cell_type": "code",
   "execution_count": 38,
   "id": "cdf98967",
   "metadata": {},
   "outputs": [
    {
     "data": {
      "text/html": [
       "<div>\n",
       "<style scoped>\n",
       "    .dataframe tbody tr th:only-of-type {\n",
       "        vertical-align: middle;\n",
       "    }\n",
       "\n",
       "    .dataframe tbody tr th {\n",
       "        vertical-align: top;\n",
       "    }\n",
       "\n",
       "    .dataframe thead th {\n",
       "        text-align: right;\n",
       "    }\n",
       "</style>\n",
       "<table border=\"1\" class=\"dataframe\">\n",
       "  <thead>\n",
       "    <tr style=\"text-align: right;\">\n",
       "      <th></th>\n",
       "      <th>A</th>\n",
       "      <th>B</th>\n",
       "    </tr>\n",
       "  </thead>\n",
       "  <tbody>\n",
       "    <tr>\n",
       "      <th>0</th>\n",
       "      <td>27</td>\n",
       "      <td>23</td>\n",
       "    </tr>\n",
       "    <tr>\n",
       "      <th>1</th>\n",
       "      <td>35</td>\n",
       "      <td>28</td>\n",
       "    </tr>\n",
       "    <tr>\n",
       "      <th>2</th>\n",
       "      <td>19</td>\n",
       "      <td>16</td>\n",
       "    </tr>\n",
       "  </tbody>\n",
       "</table>\n",
       "</div>"
      ],
      "text/plain": [
       "    A   B\n",
       "0  27  23\n",
       "1  35  28\n",
       "2  19  16"
      ]
     },
     "execution_count": 38,
     "metadata": {},
     "output_type": "execute_result"
    }
   ],
   "source": [
    "#4\n",
    "import numpy as np\n",
    "import pandas as pd\n",
    "x=np.array([27, 35, 19, 39, 34, 32, 15, 26, 18, 17])     \n",
    "y=np.array([23, 28, 16, 31, 38, 30, 17, 22, 15, 16])\n",
    "d={'A':x, 'B':y}\n",
    "data2=pd.DataFrame(data=d)\n",
    "data2.head(3)"
   ]
  },
  {
   "cell_type": "code",
   "execution_count": 39,
   "id": "370c6b93",
   "metadata": {
    "scrolled": true
   },
   "outputs": [
    {
     "data": {
      "text/plain": [
       "count    10.000\n",
       "mean      2.600\n",
       "std       3.658\n",
       "min      -4.000\n",
       "25%       1.250\n",
       "50%       3.000\n",
       "75%       4.000\n",
       "max       8.000\n",
       "Name: d, dtype: float64"
      ]
     },
     "execution_count": 39,
     "metadata": {},
     "output_type": "execute_result"
    }
   ],
   "source": [
    "data2['d']=data2.A-data2.B\n",
    "data2['d'].describe().round(3) #d=A-B , d의 평균, d의 표준편차"
   ]
  },
  {
   "cell_type": "code",
   "execution_count": 40,
   "id": "a5551c53",
   "metadata": {},
   "outputs": [
    {
     "name": "stdout",
     "output_type": "stream",
     "text": [
      "T-value=2.248, P-value=0.026\n"
     ]
    }
   ],
   "source": [
    "# 대응T검정-단측검정\n",
    "from scipy.stats import ttest_rel\n",
    "tval=ttest_rel(x,y)[0]                          #t검정통계량 확인\n",
    "pval=ttest_rel(x,y)[1]/2                        #p-value/2 (단측이므로)\n",
    "print(\"T-value=%.3f, P-value=%.3f\"%(tval, pval)) #귀무가설 기각"
   ]
  },
  {
   "cell_type": "code",
   "execution_count": 45,
   "id": "f415f038",
   "metadata": {
    "scrolled": true
   },
   "outputs": [
    {
     "data": {
      "text/html": [
       "<div>\n",
       "<style scoped>\n",
       "    .dataframe tbody tr th:only-of-type {\n",
       "        vertical-align: middle;\n",
       "    }\n",
       "\n",
       "    .dataframe tbody tr th {\n",
       "        vertical-align: top;\n",
       "    }\n",
       "\n",
       "    .dataframe thead th {\n",
       "        text-align: right;\n",
       "    }\n",
       "</style>\n",
       "<table border=\"1\" class=\"dataframe\">\n",
       "  <thead>\n",
       "    <tr style=\"text-align: right;\">\n",
       "      <th></th>\n",
       "      <th>만족</th>\n",
       "      <th>불만족</th>\n",
       "    </tr>\n",
       "  </thead>\n",
       "  <tbody>\n",
       "    <tr>\n",
       "      <th>남성</th>\n",
       "      <td>56</td>\n",
       "      <td>44</td>\n",
       "    </tr>\n",
       "    <tr>\n",
       "      <th>여성</th>\n",
       "      <td>40</td>\n",
       "      <td>60</td>\n",
       "    </tr>\n",
       "  </tbody>\n",
       "</table>\n",
       "</div>"
      ],
      "text/plain": [
       "    만족  불만족\n",
       "남성  56   44\n",
       "여성  40   60"
      ]
     },
     "execution_count": 45,
     "metadata": {},
     "output_type": "execute_result"
    }
   ],
   "source": [
    "#5\n",
    "import pandas as pd\n",
    "data3=pd.DataFrame([[56,44], [40, 60]], index=['남성', '여성'],\n",
    "                  columns=['만족', '불만족'])\n",
    "data3"
   ]
  },
  {
   "cell_type": "code",
   "execution_count": 46,
   "id": "c943c278",
   "metadata": {},
   "outputs": [
    {
     "name": "stdout",
     "output_type": "stream",
     "text": [
      "F-value=1.909, P-value=0.017\n"
     ]
    }
   ],
   "source": [
    "#모비율 검정\n",
    "from scipy.stats import fisher_exact\n",
    "result=fisher_exact(data3, alternative='greater')\n",
    "print(\"F-value=%.3f, P-value=%.3f\"%result) #귀무가설 기각"
   ]
  },
  {
   "cell_type": "code",
   "execution_count": 13,
   "id": "fe5d09ae",
   "metadata": {},
   "outputs": [],
   "source": [
    "#6\n",
    "import pandas as pd\n",
    "years=np.tile(np.array(['4년 전', '3년 전', '2년 전', '1년 전']), 4)\n",
    "A=np.repeat(np.array(['사과', '배', '복숭아', '딸기']),4)\n",
    "B=np.array([50,55,35,60,50,50,50,50,10,8,20,12,10,12,14,14])\n",
    "d={'Years':years, 'fruits':A, 'amounts':B}\n",
    "data4=pd.DataFrame(data=d)"
   ]
  },
  {
   "cell_type": "code",
   "execution_count": 14,
   "id": "7829e980",
   "metadata": {},
   "outputs": [
    {
     "data": {
      "text/html": [
       "<div>\n",
       "<style scoped>\n",
       "    .dataframe tbody tr th:only-of-type {\n",
       "        vertical-align: middle;\n",
       "    }\n",
       "\n",
       "    .dataframe tbody tr th {\n",
       "        vertical-align: top;\n",
       "    }\n",
       "\n",
       "    .dataframe thead th {\n",
       "        text-align: right;\n",
       "    }\n",
       "</style>\n",
       "<table border=\"1\" class=\"dataframe\">\n",
       "  <thead>\n",
       "    <tr style=\"text-align: right;\">\n",
       "      <th>fruits</th>\n",
       "      <th>딸기</th>\n",
       "      <th>배</th>\n",
       "      <th>복숭아</th>\n",
       "      <th>사과</th>\n",
       "    </tr>\n",
       "    <tr>\n",
       "      <th>Years</th>\n",
       "      <th></th>\n",
       "      <th></th>\n",
       "      <th></th>\n",
       "      <th></th>\n",
       "    </tr>\n",
       "  </thead>\n",
       "  <tbody>\n",
       "    <tr>\n",
       "      <th>1년 전</th>\n",
       "      <td>14</td>\n",
       "      <td>50</td>\n",
       "      <td>12</td>\n",
       "      <td>60</td>\n",
       "    </tr>\n",
       "    <tr>\n",
       "      <th>2년 전</th>\n",
       "      <td>14</td>\n",
       "      <td>50</td>\n",
       "      <td>20</td>\n",
       "      <td>35</td>\n",
       "    </tr>\n",
       "    <tr>\n",
       "      <th>3년 전</th>\n",
       "      <td>12</td>\n",
       "      <td>50</td>\n",
       "      <td>8</td>\n",
       "      <td>55</td>\n",
       "    </tr>\n",
       "    <tr>\n",
       "      <th>4년 전</th>\n",
       "      <td>10</td>\n",
       "      <td>50</td>\n",
       "      <td>10</td>\n",
       "      <td>50</td>\n",
       "    </tr>\n",
       "  </tbody>\n",
       "</table>\n",
       "</div>"
      ],
      "text/plain": [
       "fruits  딸기   배  복숭아  사과\n",
       "Years                  \n",
       "1년 전    14  50   12  60\n",
       "2년 전    14  50   20  35\n",
       "3년 전    12  50    8  55\n",
       "4년 전    10  50   10  50"
      ]
     },
     "execution_count": 14,
     "metadata": {},
     "output_type": "execute_result"
    }
   ],
   "source": [
    "#빈도표\n",
    "from scipy.stats import chi2_contingency\n",
    "table=pd.crosstab(index=data4.Years, columns=data4.fruits,\n",
    "                 values=data4.amounts, aggfunc=sum)\n",
    "table"
   ]
  },
  {
   "cell_type": "code",
   "execution_count": 15,
   "id": "a0c5eaa5",
   "metadata": {},
   "outputs": [
    {
     "data": {
      "text/plain": [
       "(13.446022408963586,\n",
       " 0.14344074593510237,\n",
       " 9,\n",
       " array([[13.6, 54.4, 13.6, 54.4],\n",
       "        [11.9, 47.6, 11.9, 47.6],\n",
       "        [12.5, 50. , 12.5, 50. ],\n",
       "        [12. , 48. , 12. , 48. ]]))"
      ]
     },
     "execution_count": 15,
     "metadata": {},
     "output_type": "execute_result"
    }
   ],
   "source": [
    "#카이제곱 검정 및 기대도수표 작성\n",
    "chi2_contingency(table) #chi, p , df, expected(기대빈도표)"
   ]
  },
  {
   "cell_type": "code",
   "execution_count": 16,
   "id": "0ae8e624",
   "metadata": {},
   "outputs": [
    {
     "data": {
      "text/html": [
       "<div>\n",
       "<style scoped>\n",
       "    .dataframe tbody tr th:only-of-type {\n",
       "        vertical-align: middle;\n",
       "    }\n",
       "\n",
       "    .dataframe tbody tr th {\n",
       "        vertical-align: top;\n",
       "    }\n",
       "\n",
       "    .dataframe thead th {\n",
       "        text-align: right;\n",
       "    }\n",
       "</style>\n",
       "<table border=\"1\" class=\"dataframe\">\n",
       "  <thead>\n",
       "    <tr style=\"text-align: right;\">\n",
       "      <th>fruits</th>\n",
       "      <th>딸기</th>\n",
       "      <th>배</th>\n",
       "      <th>복숭아</th>\n",
       "      <th>사과</th>\n",
       "    </tr>\n",
       "    <tr>\n",
       "      <th>Years</th>\n",
       "      <th></th>\n",
       "      <th></th>\n",
       "      <th></th>\n",
       "      <th></th>\n",
       "    </tr>\n",
       "  </thead>\n",
       "  <tbody>\n",
       "    <tr>\n",
       "      <th>1년 전</th>\n",
       "      <td>13.6</td>\n",
       "      <td>54.4</td>\n",
       "      <td>13.6</td>\n",
       "      <td>54.4</td>\n",
       "    </tr>\n",
       "    <tr>\n",
       "      <th>2년 전</th>\n",
       "      <td>11.9</td>\n",
       "      <td>47.6</td>\n",
       "      <td>11.9</td>\n",
       "      <td>47.6</td>\n",
       "    </tr>\n",
       "    <tr>\n",
       "      <th>3년 전</th>\n",
       "      <td>12.5</td>\n",
       "      <td>50.0</td>\n",
       "      <td>12.5</td>\n",
       "      <td>50.0</td>\n",
       "    </tr>\n",
       "    <tr>\n",
       "      <th>4년 전</th>\n",
       "      <td>12.0</td>\n",
       "      <td>48.0</td>\n",
       "      <td>12.0</td>\n",
       "      <td>48.0</td>\n",
       "    </tr>\n",
       "  </tbody>\n",
       "</table>\n",
       "</div>"
      ],
      "text/plain": [
       "fruits    딸기     배   복숭아    사과\n",
       "Years                         \n",
       "1년 전    13.6  54.4  13.6  54.4\n",
       "2년 전    11.9  47.6  11.9  47.6\n",
       "3년 전    12.5  50.0  12.5  50.0\n",
       "4년 전    12.0  48.0  12.0  48.0"
      ]
     },
     "execution_count": 16,
     "metadata": {},
     "output_type": "execute_result"
    }
   ],
   "source": [
    "#기대도수의 분할표\n",
    "chi, p, df, expected=chi2_contingency(table)\n",
    "expected_table=pd.DataFrame(data=expected, index=table.index,\n",
    "               columns=table.columns)\n",
    "expected_table"
   ]
  },
  {
   "cell_type": "code",
   "execution_count": 17,
   "id": "b67b8e15",
   "metadata": {},
   "outputs": [
    {
     "name": "stdout",
     "output_type": "stream",
     "text": [
      "13.446 0.143\n"
     ]
    }
   ],
   "source": [
    "#검정결과\n",
    "chi, p, df, expected=chi2_contingency(table)\n",
    "print(chi.round(3), p.round(3)) #귀무가설을 기각할 수 없다."
   ]
  },
  {
   "cell_type": "code",
   "execution_count": 25,
   "id": "e2ebdd39",
   "metadata": {},
   "outputs": [],
   "source": [
    "#7-1\n",
    "import numpy as np\n",
    "import pandas as pd\n",
    "\n",
    "value=np.tile(np.array(['자존심', '안전', '대인관계', '성취감',\n",
    "                        '책임감', '체면', '소속감', '즐거움']), 6)\n",
    "region=np.repeat(np.array(['서울', '경기,충청', '영남',\n",
    "                      '호남', '강원', '제주']), 8)\n",
    "x=np.array([154,147,125,88,74,65,63,34,\n",
    "           147,152,90,65,55,72,49,23,\n",
    "           55,62,63,38,23,31,24,11,\n",
    "           34,26,27,17,24,4,10,8,\n",
    "           8,5,3,3,1,5,4,3,\n",
    "           12,6,2,3,2,1,6,2])\n",
    "d={'value':value, 'region':region, 'x':x}\n",
    "data5=pd.DataFrame(data=d)"
   ]
  },
  {
   "cell_type": "code",
   "execution_count": 26,
   "id": "e80430ba",
   "metadata": {},
   "outputs": [
    {
     "data": {
      "text/html": [
       "<div>\n",
       "<style scoped>\n",
       "    .dataframe tbody tr th:only-of-type {\n",
       "        vertical-align: middle;\n",
       "    }\n",
       "\n",
       "    .dataframe tbody tr th {\n",
       "        vertical-align: top;\n",
       "    }\n",
       "\n",
       "    .dataframe thead th {\n",
       "        text-align: right;\n",
       "    }\n",
       "</style>\n",
       "<table border=\"1\" class=\"dataframe\">\n",
       "  <thead>\n",
       "    <tr style=\"text-align: right;\">\n",
       "      <th>region</th>\n",
       "      <th>강원</th>\n",
       "      <th>경기,충청</th>\n",
       "      <th>서울</th>\n",
       "      <th>영남</th>\n",
       "      <th>제주</th>\n",
       "      <th>호남</th>\n",
       "    </tr>\n",
       "    <tr>\n",
       "      <th>value</th>\n",
       "      <th></th>\n",
       "      <th></th>\n",
       "      <th></th>\n",
       "      <th></th>\n",
       "      <th></th>\n",
       "      <th></th>\n",
       "    </tr>\n",
       "  </thead>\n",
       "  <tbody>\n",
       "    <tr>\n",
       "      <th>대인관계</th>\n",
       "      <td>3</td>\n",
       "      <td>90</td>\n",
       "      <td>125</td>\n",
       "      <td>63</td>\n",
       "      <td>2</td>\n",
       "      <td>27</td>\n",
       "    </tr>\n",
       "    <tr>\n",
       "      <th>성취감</th>\n",
       "      <td>3</td>\n",
       "      <td>65</td>\n",
       "      <td>88</td>\n",
       "      <td>38</td>\n",
       "      <td>3</td>\n",
       "      <td>17</td>\n",
       "    </tr>\n",
       "    <tr>\n",
       "      <th>소속감</th>\n",
       "      <td>4</td>\n",
       "      <td>49</td>\n",
       "      <td>63</td>\n",
       "      <td>24</td>\n",
       "      <td>6</td>\n",
       "      <td>10</td>\n",
       "    </tr>\n",
       "    <tr>\n",
       "      <th>안전</th>\n",
       "      <td>5</td>\n",
       "      <td>152</td>\n",
       "      <td>147</td>\n",
       "      <td>62</td>\n",
       "      <td>6</td>\n",
       "      <td>26</td>\n",
       "    </tr>\n",
       "    <tr>\n",
       "      <th>자존심</th>\n",
       "      <td>8</td>\n",
       "      <td>147</td>\n",
       "      <td>154</td>\n",
       "      <td>55</td>\n",
       "      <td>12</td>\n",
       "      <td>34</td>\n",
       "    </tr>\n",
       "    <tr>\n",
       "      <th>즐거움</th>\n",
       "      <td>3</td>\n",
       "      <td>23</td>\n",
       "      <td>34</td>\n",
       "      <td>11</td>\n",
       "      <td>2</td>\n",
       "      <td>8</td>\n",
       "    </tr>\n",
       "    <tr>\n",
       "      <th>책임감</th>\n",
       "      <td>1</td>\n",
       "      <td>55</td>\n",
       "      <td>74</td>\n",
       "      <td>23</td>\n",
       "      <td>2</td>\n",
       "      <td>24</td>\n",
       "    </tr>\n",
       "    <tr>\n",
       "      <th>체면</th>\n",
       "      <td>5</td>\n",
       "      <td>72</td>\n",
       "      <td>65</td>\n",
       "      <td>31</td>\n",
       "      <td>1</td>\n",
       "      <td>4</td>\n",
       "    </tr>\n",
       "  </tbody>\n",
       "</table>\n",
       "</div>"
      ],
      "text/plain": [
       "region  강원  경기,충청   서울  영남  제주  호남\n",
       "value                             \n",
       "대인관계     3     90  125  63   2  27\n",
       "성취감      3     65   88  38   3  17\n",
       "소속감      4     49   63  24   6  10\n",
       "안전       5    152  147  62   6  26\n",
       "자존심      8    147  154  55  12  34\n",
       "즐거움      3     23   34  11   2   8\n",
       "책임감      1     55   74  23   2  24\n",
       "체면       5     72   65  31   1   4"
      ]
     },
     "execution_count": 26,
     "metadata": {},
     "output_type": "execute_result"
    }
   ],
   "source": [
    "#빈도표\n",
    "from scipy.stats import chi2_contingency\n",
    "table1=pd.crosstab(index=data5.value, columns=data5.region,\n",
    "                  values=data5.x, aggfunc=sum)\n",
    "table1"
   ]
  },
  {
   "cell_type": "code",
   "execution_count": 30,
   "id": "7feee14c",
   "metadata": {},
   "outputs": [
    {
     "data": {
      "text/html": [
       "<div>\n",
       "<style scoped>\n",
       "    .dataframe tbody tr th:only-of-type {\n",
       "        vertical-align: middle;\n",
       "    }\n",
       "\n",
       "    .dataframe tbody tr th {\n",
       "        vertical-align: top;\n",
       "    }\n",
       "\n",
       "    .dataframe thead th {\n",
       "        text-align: right;\n",
       "    }\n",
       "</style>\n",
       "<table border=\"1\" class=\"dataframe\">\n",
       "  <thead>\n",
       "    <tr style=\"text-align: right;\">\n",
       "      <th>region</th>\n",
       "      <th>강원</th>\n",
       "      <th>경기,충청</th>\n",
       "      <th>서울</th>\n",
       "      <th>영남</th>\n",
       "      <th>제주</th>\n",
       "      <th>호남</th>\n",
       "    </tr>\n",
       "    <tr>\n",
       "      <th>value</th>\n",
       "      <th></th>\n",
       "      <th></th>\n",
       "      <th></th>\n",
       "      <th></th>\n",
       "      <th></th>\n",
       "      <th></th>\n",
       "    </tr>\n",
       "  </thead>\n",
       "  <tbody>\n",
       "    <tr>\n",
       "      <th>대인관계</th>\n",
       "      <td>5.151</td>\n",
       "      <td>105.104</td>\n",
       "      <td>120.717</td>\n",
       "      <td>49.413</td>\n",
       "      <td>5.472</td>\n",
       "      <td>24.143</td>\n",
       "    </tr>\n",
       "    <tr>\n",
       "      <th>성취감</th>\n",
       "      <td>3.556</td>\n",
       "      <td>72.556</td>\n",
       "      <td>83.333</td>\n",
       "      <td>34.111</td>\n",
       "      <td>3.778</td>\n",
       "      <td>16.667</td>\n",
       "    </tr>\n",
       "    <tr>\n",
       "      <th>소속감</th>\n",
       "      <td>2.592</td>\n",
       "      <td>52.891</td>\n",
       "      <td>60.748</td>\n",
       "      <td>24.866</td>\n",
       "      <td>2.754</td>\n",
       "      <td>12.150</td>\n",
       "    </tr>\n",
       "    <tr>\n",
       "      <th>안전</th>\n",
       "      <td>6.613</td>\n",
       "      <td>134.940</td>\n",
       "      <td>154.984</td>\n",
       "      <td>63.440</td>\n",
       "      <td>7.026</td>\n",
       "      <td>30.997</td>\n",
       "    </tr>\n",
       "    <tr>\n",
       "      <th>자존심</th>\n",
       "      <td>6.812</td>\n",
       "      <td>139.008</td>\n",
       "      <td>159.657</td>\n",
       "      <td>65.353</td>\n",
       "      <td>7.238</td>\n",
       "      <td>31.931</td>\n",
       "    </tr>\n",
       "    <tr>\n",
       "      <th>즐거움</th>\n",
       "      <td>1.346</td>\n",
       "      <td>27.463</td>\n",
       "      <td>31.542</td>\n",
       "      <td>12.911</td>\n",
       "      <td>1.430</td>\n",
       "      <td>6.308</td>\n",
       "    </tr>\n",
       "    <tr>\n",
       "      <th>책임감</th>\n",
       "      <td>2.974</td>\n",
       "      <td>60.689</td>\n",
       "      <td>69.704</td>\n",
       "      <td>28.532</td>\n",
       "      <td>3.160</td>\n",
       "      <td>13.941</td>\n",
       "    </tr>\n",
       "    <tr>\n",
       "      <th>체면</th>\n",
       "      <td>2.957</td>\n",
       "      <td>60.350</td>\n",
       "      <td>69.315</td>\n",
       "      <td>28.373</td>\n",
       "      <td>3.142</td>\n",
       "      <td>13.863</td>\n",
       "    </tr>\n",
       "  </tbody>\n",
       "</table>\n",
       "</div>"
      ],
      "text/plain": [
       "region     강원    경기,충청       서울      영남     제주      호남\n",
       "value                                                 \n",
       "대인관계    5.151  105.104  120.717  49.413  5.472  24.143\n",
       "성취감     3.556   72.556   83.333  34.111  3.778  16.667\n",
       "소속감     2.592   52.891   60.748  24.866  2.754  12.150\n",
       "안전      6.613  134.940  154.984  63.440  7.026  30.997\n",
       "자존심     6.812  139.008  159.657  65.353  7.238  31.931\n",
       "즐거움     1.346   27.463   31.542  12.911  1.430   6.308\n",
       "책임감     2.974   60.689   69.704  28.532  3.160  13.941\n",
       "체면      2.957   60.350   69.315  28.373  3.142  13.863"
      ]
     },
     "execution_count": 30,
     "metadata": {},
     "output_type": "execute_result"
    }
   ],
   "source": [
    "#기대도수의 분할표\n",
    "chi, p, df, expected=chi2_contingency(table1)\n",
    "expected_table1=pd.DataFrame(data=expected, index=table1.index,\n",
    "               columns=table1.columns)\n",
    "expected_table1.round(3)"
   ]
  },
  {
   "cell_type": "code",
   "execution_count": 29,
   "id": "24e347b2",
   "metadata": {},
   "outputs": [
    {
     "name": "stdout",
     "output_type": "stream",
     "text": [
      "53.766 0.022\n"
     ]
    }
   ],
   "source": [
    "#검정결과\n",
    "chi, p, df, expected=chi2_contingency(table1)\n",
    "print(chi.round(3), p.round(3)) #귀무가설을 기각"
   ]
  },
  {
   "cell_type": "code",
   "execution_count": 34,
   "id": "547dd2c1",
   "metadata": {},
   "outputs": [],
   "source": [
    "# 강원,제주 통합\n",
    "value=np.tile(np.array(['자존심', '안전', '대인관계', '성취감',\n",
    "                        '책임감', '체면', '소속감', '즐거움']), 5)\n",
    "region=np.repeat(np.array(['서울', '경기,충청', '영남',\n",
    "                      '호남', '강원,제주']), 8)\n",
    "x=np.array([154,147,125,88,74,65,63,34,\n",
    "           147,152,90,65,55,72,49,23,\n",
    "           55,62,63,38,23,31,24,11,\n",
    "           34,26,27,17,24,4,10,8,\n",
    "           20,11,5,6,3,6,10,5])\n",
    "d={'value':value, 'region':region, 'x':x}\n",
    "data6=pd.DataFrame(data=d)"
   ]
  },
  {
   "cell_type": "code",
   "execution_count": 35,
   "id": "63474a4c",
   "metadata": {},
   "outputs": [
    {
     "data": {
      "text/html": [
       "<div>\n",
       "<style scoped>\n",
       "    .dataframe tbody tr th:only-of-type {\n",
       "        vertical-align: middle;\n",
       "    }\n",
       "\n",
       "    .dataframe tbody tr th {\n",
       "        vertical-align: top;\n",
       "    }\n",
       "\n",
       "    .dataframe thead th {\n",
       "        text-align: right;\n",
       "    }\n",
       "</style>\n",
       "<table border=\"1\" class=\"dataframe\">\n",
       "  <thead>\n",
       "    <tr style=\"text-align: right;\">\n",
       "      <th>region</th>\n",
       "      <th>강원,제주</th>\n",
       "      <th>경기,충청</th>\n",
       "      <th>서울</th>\n",
       "      <th>영남</th>\n",
       "      <th>호남</th>\n",
       "    </tr>\n",
       "    <tr>\n",
       "      <th>value</th>\n",
       "      <th></th>\n",
       "      <th></th>\n",
       "      <th></th>\n",
       "      <th></th>\n",
       "      <th></th>\n",
       "    </tr>\n",
       "  </thead>\n",
       "  <tbody>\n",
       "    <tr>\n",
       "      <th>대인관계</th>\n",
       "      <td>5</td>\n",
       "      <td>90</td>\n",
       "      <td>125</td>\n",
       "      <td>63</td>\n",
       "      <td>27</td>\n",
       "    </tr>\n",
       "    <tr>\n",
       "      <th>성취감</th>\n",
       "      <td>6</td>\n",
       "      <td>65</td>\n",
       "      <td>88</td>\n",
       "      <td>38</td>\n",
       "      <td>17</td>\n",
       "    </tr>\n",
       "    <tr>\n",
       "      <th>소속감</th>\n",
       "      <td>10</td>\n",
       "      <td>49</td>\n",
       "      <td>63</td>\n",
       "      <td>24</td>\n",
       "      <td>10</td>\n",
       "    </tr>\n",
       "    <tr>\n",
       "      <th>안전</th>\n",
       "      <td>11</td>\n",
       "      <td>152</td>\n",
       "      <td>147</td>\n",
       "      <td>62</td>\n",
       "      <td>26</td>\n",
       "    </tr>\n",
       "    <tr>\n",
       "      <th>자존심</th>\n",
       "      <td>20</td>\n",
       "      <td>147</td>\n",
       "      <td>154</td>\n",
       "      <td>55</td>\n",
       "      <td>34</td>\n",
       "    </tr>\n",
       "    <tr>\n",
       "      <th>즐거움</th>\n",
       "      <td>5</td>\n",
       "      <td>23</td>\n",
       "      <td>34</td>\n",
       "      <td>11</td>\n",
       "      <td>8</td>\n",
       "    </tr>\n",
       "    <tr>\n",
       "      <th>책임감</th>\n",
       "      <td>3</td>\n",
       "      <td>55</td>\n",
       "      <td>74</td>\n",
       "      <td>23</td>\n",
       "      <td>24</td>\n",
       "    </tr>\n",
       "    <tr>\n",
       "      <th>체면</th>\n",
       "      <td>6</td>\n",
       "      <td>72</td>\n",
       "      <td>65</td>\n",
       "      <td>31</td>\n",
       "      <td>4</td>\n",
       "    </tr>\n",
       "  </tbody>\n",
       "</table>\n",
       "</div>"
      ],
      "text/plain": [
       "region  강원,제주  경기,충청   서울  영남  호남\n",
       "value                            \n",
       "대인관계        5     90  125  63  27\n",
       "성취감         6     65   88  38  17\n",
       "소속감        10     49   63  24  10\n",
       "안전         11    152  147  62  26\n",
       "자존심        20    147  154  55  34\n",
       "즐거움         5     23   34  11   8\n",
       "책임감         3     55   74  23  24\n",
       "체면          6     72   65  31   4"
      ]
     },
     "execution_count": 35,
     "metadata": {},
     "output_type": "execute_result"
    }
   ],
   "source": [
    "#빈도표\n",
    "from scipy.stats import chi2_contingency\n",
    "table2=pd.crosstab(index=data6.value, columns=data6.region,\n",
    "                  values=data6.x, aggfunc=sum)\n",
    "table2"
   ]
  },
  {
   "cell_type": "code",
   "execution_count": 39,
   "id": "8a390bf4",
   "metadata": {},
   "outputs": [
    {
     "data": {
      "text/html": [
       "<div>\n",
       "<style scoped>\n",
       "    .dataframe tbody tr th:only-of-type {\n",
       "        vertical-align: middle;\n",
       "    }\n",
       "\n",
       "    .dataframe tbody tr th {\n",
       "        vertical-align: top;\n",
       "    }\n",
       "\n",
       "    .dataframe thead th {\n",
       "        text-align: right;\n",
       "    }\n",
       "</style>\n",
       "<table border=\"1\" class=\"dataframe\">\n",
       "  <thead>\n",
       "    <tr style=\"text-align: right;\">\n",
       "      <th>region</th>\n",
       "      <th>강원,제주</th>\n",
       "      <th>경기,충청</th>\n",
       "      <th>서울</th>\n",
       "      <th>영남</th>\n",
       "      <th>호남</th>\n",
       "    </tr>\n",
       "    <tr>\n",
       "      <th>value</th>\n",
       "      <th></th>\n",
       "      <th></th>\n",
       "      <th></th>\n",
       "      <th></th>\n",
       "      <th></th>\n",
       "    </tr>\n",
       "  </thead>\n",
       "  <tbody>\n",
       "    <tr>\n",
       "      <th>대인관계</th>\n",
       "      <td>10.623</td>\n",
       "      <td>105.104</td>\n",
       "      <td>120.717</td>\n",
       "      <td>49.413</td>\n",
       "      <td>24.143</td>\n",
       "    </tr>\n",
       "    <tr>\n",
       "      <th>성취감</th>\n",
       "      <td>7.333</td>\n",
       "      <td>72.556</td>\n",
       "      <td>83.333</td>\n",
       "      <td>34.111</td>\n",
       "      <td>16.667</td>\n",
       "    </tr>\n",
       "    <tr>\n",
       "      <th>소속감</th>\n",
       "      <td>5.346</td>\n",
       "      <td>52.891</td>\n",
       "      <td>60.748</td>\n",
       "      <td>24.866</td>\n",
       "      <td>12.150</td>\n",
       "    </tr>\n",
       "    <tr>\n",
       "      <th>안전</th>\n",
       "      <td>13.639</td>\n",
       "      <td>134.940</td>\n",
       "      <td>154.984</td>\n",
       "      <td>63.440</td>\n",
       "      <td>30.997</td>\n",
       "    </tr>\n",
       "    <tr>\n",
       "      <th>자존심</th>\n",
       "      <td>14.050</td>\n",
       "      <td>139.008</td>\n",
       "      <td>159.657</td>\n",
       "      <td>65.353</td>\n",
       "      <td>31.931</td>\n",
       "    </tr>\n",
       "    <tr>\n",
       "      <th>즐거움</th>\n",
       "      <td>2.776</td>\n",
       "      <td>27.463</td>\n",
       "      <td>31.542</td>\n",
       "      <td>12.911</td>\n",
       "      <td>6.308</td>\n",
       "    </tr>\n",
       "    <tr>\n",
       "      <th>책임감</th>\n",
       "      <td>6.134</td>\n",
       "      <td>60.689</td>\n",
       "      <td>69.704</td>\n",
       "      <td>28.532</td>\n",
       "      <td>13.941</td>\n",
       "    </tr>\n",
       "    <tr>\n",
       "      <th>체면</th>\n",
       "      <td>6.100</td>\n",
       "      <td>60.350</td>\n",
       "      <td>69.315</td>\n",
       "      <td>28.373</td>\n",
       "      <td>13.863</td>\n",
       "    </tr>\n",
       "  </tbody>\n",
       "</table>\n",
       "</div>"
      ],
      "text/plain": [
       "region   강원,제주    경기,충청       서울      영남      호남\n",
       "value                                           \n",
       "대인관계    10.623  105.104  120.717  49.413  24.143\n",
       "성취감      7.333   72.556   83.333  34.111  16.667\n",
       "소속감      5.346   52.891   60.748  24.866  12.150\n",
       "안전      13.639  134.940  154.984  63.440  30.997\n",
       "자존심     14.050  139.008  159.657  65.353  31.931\n",
       "즐거움      2.776   27.463   31.542  12.911   6.308\n",
       "책임감      6.134   60.689   69.704  28.532  13.941\n",
       "체면       6.100   60.350   69.315  28.373  13.863"
      ]
     },
     "execution_count": 39,
     "metadata": {},
     "output_type": "execute_result"
    }
   ],
   "source": [
    "#기대도수의 분할표\n",
    "chi, p, df, expected=chi2_contingency(table2)\n",
    "expected_table2=pd.DataFrame(data=expected, index=table2.index,\n",
    "               columns=table2.columns)\n",
    "expected_table2.round(3)"
   ]
  },
  {
   "cell_type": "code",
   "execution_count": 40,
   "id": "17752376",
   "metadata": {},
   "outputs": [
    {
     "name": "stdout",
     "output_type": "stream",
     "text": [
      "48.762 0.009\n"
     ]
    }
   ],
   "source": [
    "#검정결과\n",
    "chi, p, df, expected=chi2_contingency(table2)\n",
    "print(chi.round(3), p.round(3)) #귀무가설을 기각"
   ]
  },
  {
   "cell_type": "code",
   "execution_count": 44,
   "id": "da2ae517",
   "metadata": {},
   "outputs": [
    {
     "data": {
      "text/html": [
       "<div>\n",
       "<style scoped>\n",
       "    .dataframe tbody tr th:only-of-type {\n",
       "        vertical-align: middle;\n",
       "    }\n",
       "\n",
       "    .dataframe tbody tr th {\n",
       "        vertical-align: top;\n",
       "    }\n",
       "\n",
       "    .dataframe thead th {\n",
       "        text-align: right;\n",
       "    }\n",
       "</style>\n",
       "<table border=\"1\" class=\"dataframe\">\n",
       "  <thead>\n",
       "    <tr style=\"text-align: right;\">\n",
       "      <th></th>\n",
       "      <th>O</th>\n",
       "      <th>X</th>\n",
       "    </tr>\n",
       "  </thead>\n",
       "  <tbody>\n",
       "    <tr>\n",
       "      <th>서울</th>\n",
       "      <td>154</td>\n",
       "      <td>596</td>\n",
       "    </tr>\n",
       "    <tr>\n",
       "      <th>경기,충청</th>\n",
       "      <td>147</td>\n",
       "      <td>506</td>\n",
       "    </tr>\n",
       "  </tbody>\n",
       "</table>\n",
       "</div>"
      ],
      "text/plain": [
       "         O    X\n",
       "서울     154  596\n",
       "경기,충청  147  506"
      ]
     },
     "execution_count": 44,
     "metadata": {},
     "output_type": "execute_result"
    }
   ],
   "source": [
    "#7-2\n",
    "import pandas as pd\n",
    "data7=pd.DataFrame([[154,596], [147,506]], index=['서울', '경기,충청'],\n",
    "                  columns=['O', 'X'])\n",
    "data7"
   ]
  },
  {
   "cell_type": "code",
   "execution_count": 45,
   "id": "4b0b266b",
   "metadata": {},
   "outputs": [
    {
     "name": "stdout",
     "output_type": "stream",
     "text": [
      "F-value=0.889, P-value=0.397\n"
     ]
    }
   ],
   "source": [
    "#모비율 검정\n",
    "from scipy.stats import fisher_exact\n",
    "result=fisher_exact(data7, alternative='two-sided') #귀무가설 채택\n",
    "print(\"F-value=%.3f, P-value=%.3f\"%result) #귀무가설 기각"
   ]
  },
  {
   "cell_type": "code",
   "execution_count": null,
   "id": "ab63a753",
   "metadata": {},
   "outputs": [],
   "source": []
  }
 ],
 "metadata": {
  "kernelspec": {
   "display_name": "Python 3 (ipykernel)",
   "language": "python",
   "name": "python3"
  },
  "language_info": {
   "codemirror_mode": {
    "name": "ipython",
    "version": 3
   },
   "file_extension": ".py",
   "mimetype": "text/x-python",
   "name": "python",
   "nbconvert_exporter": "python",
   "pygments_lexer": "ipython3",
   "version": "3.9.12"
  }
 },
 "nbformat": 4,
 "nbformat_minor": 5
}
