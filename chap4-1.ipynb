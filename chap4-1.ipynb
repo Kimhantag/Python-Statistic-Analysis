{
 "cells": [
  {
   "cell_type": "code",
   "execution_count": 3,
   "id": "a6a1d3c4",
   "metadata": {},
   "outputs": [
    {
     "name": "stdout",
     "output_type": "stream",
     "text": [
      "Statistic=11.400, P-value=0.022\n"
     ]
    }
   ],
   "source": [
    "#범주형 자료분석 : 적합도 검정\n",
    "import numpy as np\n",
    "\n",
    "x=np.array([90, 30, 35, 55, 40]) #관찰도수\n",
    "e_x=np.array([0.3, 0.15, 0.1, 0.25, 0.2])*250 #기대도수\n",
    "\n",
    "from scipy.stats import chisquare\n",
    "chisq=chisquare(x, e_x)\n",
    "print(\"Statistic=%.3f, P-value=%.3f\" % chisq)"
   ]
  },
  {
   "cell_type": "code",
   "execution_count": 5,
   "id": "e7b63470",
   "metadata": {},
   "outputs": [
    {
     "data": {
      "text/html": [
       "<div>\n",
       "<style scoped>\n",
       "    .dataframe tbody tr th:only-of-type {\n",
       "        vertical-align: middle;\n",
       "    }\n",
       "\n",
       "    .dataframe tbody tr th {\n",
       "        vertical-align: top;\n",
       "    }\n",
       "\n",
       "    .dataframe thead th {\n",
       "        text-align: right;\n",
       "    }\n",
       "</style>\n",
       "<table border=\"1\" class=\"dataframe\">\n",
       "  <thead>\n",
       "    <tr style=\"text-align: right;\">\n",
       "      <th></th>\n",
       "      <th>X</th>\n",
       "    </tr>\n",
       "  </thead>\n",
       "  <tbody>\n",
       "    <tr>\n",
       "      <th>0</th>\n",
       "      <td>23</td>\n",
       "    </tr>\n",
       "    <tr>\n",
       "      <th>1</th>\n",
       "      <td>23</td>\n",
       "    </tr>\n",
       "    <tr>\n",
       "      <th>2</th>\n",
       "      <td>24</td>\n",
       "    </tr>\n",
       "  </tbody>\n",
       "</table>\n",
       "</div>"
      ],
      "text/plain": [
       "    X\n",
       "0  23\n",
       "1  23\n",
       "2  24"
      ]
     },
     "execution_count": 5,
     "metadata": {},
     "output_type": "execute_result"
    }
   ],
   "source": [
    "#적합도 검정: 특정 분포를 따르는 가를 검정\n",
    "import pandas as pd\n",
    "from scipy import stats\n",
    "\n",
    "data=pd.read_csv('ex7-2.csv')\n",
    "data.head(3)"
   ]
  },
  {
   "cell_type": "code",
   "execution_count": 7,
   "id": "76006d25",
   "metadata": {},
   "outputs": [
    {
     "data": {
      "text/plain": [
       "KstestResult(statistic=1.0, pvalue=0.0)"
      ]
     },
     "execution_count": 7,
     "metadata": {},
     "output_type": "execute_result"
    },
    {
     "data": {
      "image/png": "[encoded data removed]",
      "text/plain": [
       "<Figure size 432x288 with 1 Axes>"
      ]
     },
     "metadata": {
      "needs_background": "light"
     },
     "output_type": "display_data"
    }
   ],
   "source": [
    "x=data['X']\n",
    "x.hist(color='gray')\n",
    "stats.kstest(x, 'norm') #방법1 : kolmogorov-smirnov"
   ]
  },
  {
   "cell_type": "code",
   "execution_count": 9,
   "id": "c6e42742",
   "metadata": {},
   "outputs": [
    {
     "data": {
      "text/plain": [
       "KstestResult(statistic=0.08107085426241684, pvalue=0.8711621942265746)"
      ]
     },
     "execution_count": 9,
     "metadata": {},
     "output_type": "execute_result"
    }
   ],
   "source": [
    "stats.kstest(data['X'], 'norm', args=(data['X'].mean(), data['X'].std()))"
   ]
  },
  {
   "cell_type": "code",
   "execution_count": 10,
   "id": "5da33547",
   "metadata": {},
   "outputs": [
    {
     "data": {
      "text/plain": [
       "ShapiroResult(statistic=0.9744385480880737, pvalue=0.34729865193367004)"
      ]
     },
     "execution_count": 10,
     "metadata": {},
     "output_type": "execute_result"
    }
   ],
   "source": [
    "from scipy.stats import shapiro\n",
    "shapiro(x)"
   ]
  },
  {
   "cell_type": "code",
   "execution_count": 15,
   "id": "d0a87c6c",
   "metadata": {},
   "outputs": [],
   "source": [
    "#적합도 검정: cell빈도 5이하의 경우가 20% 넘는 경우 검정방법\n",
    "#1) fisher-정확검정, 2) 셀 통합 후 검정\n",
    "import numpy as np\n",
    "\n",
    "level=np.array([1, 2, 3, 4, 5, 6, 7])\n",
    "x=np.array([6, 3 ,18, 22, 28, 20, 3])\n",
    "e_x=np.array([0.03, 0.05, 0.23, 0.30, 0.20, 0.15, 0.04])*np.sum(x)\n",
    "d={'level':level, 'x':x, 'e_x':e_x}"
   ]
  },
  {
   "cell_type": "code",
   "execution_count": 16,
   "id": "235b725e",
   "metadata": {},
   "outputs": [
    {
     "data": {
      "text/plain": [
       "Power_divergenceResult(statistic=12.136956521739128, pvalue=0.05898229238402191)"
      ]
     },
     "execution_count": 16,
     "metadata": {},
     "output_type": "execute_result"
    }
   ],
   "source": [
    "from scipy.stats import chisquare\n",
    "chisquare(x, e_x)"
   ]
  },
  {
   "cell_type": "code",
   "execution_count": 17,
   "id": "2d99143d",
   "metadata": {},
   "outputs": [
    {
     "data": {
      "text/plain": [
       "Power_divergenceResult(statistic=8.46195652173913, pvalue=0.1325471536238773)"
      ]
     },
     "execution_count": 17,
     "metadata": {},
     "output_type": "execute_result"
    }
   ],
   "source": [
    "#cell 통합 후 검정\n",
    "level2=np.array([1, 2, 3, 4, 5, 6, 7])\n",
    "x2=np.array([9,18, 22, 28, 20, 3])\n",
    "e_x2=np.array([0.08, 0.23, 0.30, 0.20, 0.15, 0.04])*np.sum(x)\n",
    "\n",
    "chisquare(x2, e_x2)"
   ]
  },
  {
   "cell_type": "code",
   "execution_count": 19,
   "id": "4883b254",
   "metadata": {},
   "outputs": [
    {
     "data": {
      "text/html": [
       "<div>\n",
       "<style scoped>\n",
       "    .dataframe tbody tr th:only-of-type {\n",
       "        vertical-align: middle;\n",
       "    }\n",
       "\n",
       "    .dataframe tbody tr th {\n",
       "        vertical-align: top;\n",
       "    }\n",
       "\n",
       "    .dataframe thead th {\n",
       "        text-align: right;\n",
       "    }\n",
       "</style>\n",
       "<table border=\"1\" class=\"dataframe\">\n",
       "  <thead>\n",
       "    <tr style=\"text-align: right;\">\n",
       "      <th></th>\n",
       "      <th>amount</th>\n",
       "      <th>level</th>\n",
       "      <th>count</th>\n",
       "    </tr>\n",
       "  </thead>\n",
       "  <tbody>\n",
       "    <tr>\n",
       "      <th>0</th>\n",
       "      <td>10under</td>\n",
       "      <td>A</td>\n",
       "      <td>21</td>\n",
       "    </tr>\n",
       "    <tr>\n",
       "      <th>1</th>\n",
       "      <td>10~20</td>\n",
       "      <td>A</td>\n",
       "      <td>15</td>\n",
       "    </tr>\n",
       "    <tr>\n",
       "      <th>2</th>\n",
       "      <td>20~40</td>\n",
       "      <td>A</td>\n",
       "      <td>94</td>\n",
       "    </tr>\n",
       "    <tr>\n",
       "      <th>3</th>\n",
       "      <td>40~70</td>\n",
       "      <td>A</td>\n",
       "      <td>120</td>\n",
       "    </tr>\n",
       "    <tr>\n",
       "      <th>4</th>\n",
       "      <td>70upper</td>\n",
       "      <td>A</td>\n",
       "      <td>32</td>\n",
       "    </tr>\n",
       "  </tbody>\n",
       "</table>\n",
       "</div>"
      ],
      "text/plain": [
       "    amount level  count\n",
       "0  10under     A     21\n",
       "1    10~20     A     15\n",
       "2    20~40     A     94\n",
       "3    40~70     A    120\n",
       "4  70upper     A     32"
      ]
     },
     "execution_count": 19,
     "metadata": {},
     "output_type": "execute_result"
    }
   ],
   "source": [
    "# 독립성 검정\n",
    "import pandas as pd\n",
    "data=pd.read_csv('ex7-4.csv')\n",
    "data.head()"
   ]
  },
  {
   "cell_type": "code",
   "execution_count": 21,
   "id": "720d9015",
   "metadata": {},
   "outputs": [
    {
     "data": {
      "text/html": [
       "<div>\n",
       "<style scoped>\n",
       "    .dataframe tbody tr th:only-of-type {\n",
       "        vertical-align: middle;\n",
       "    }\n",
       "\n",
       "    .dataframe tbody tr th {\n",
       "        vertical-align: top;\n",
       "    }\n",
       "\n",
       "    .dataframe thead th {\n",
       "        text-align: right;\n",
       "    }\n",
       "</style>\n",
       "<table border=\"1\" class=\"dataframe\">\n",
       "  <thead>\n",
       "    <tr style=\"text-align: right;\">\n",
       "      <th>level</th>\n",
       "      <th>A</th>\n",
       "      <th>B</th>\n",
       "      <th>C</th>\n",
       "      <th>D</th>\n",
       "      <th>전체</th>\n",
       "    </tr>\n",
       "    <tr>\n",
       "      <th>amount</th>\n",
       "      <th></th>\n",
       "      <th></th>\n",
       "      <th></th>\n",
       "      <th></th>\n",
       "      <th></th>\n",
       "    </tr>\n",
       "  </thead>\n",
       "  <tbody>\n",
       "    <tr>\n",
       "      <th>10under</th>\n",
       "      <td>21</td>\n",
       "      <td>42</td>\n",
       "      <td>60</td>\n",
       "      <td>5</td>\n",
       "      <td>128</td>\n",
       "    </tr>\n",
       "    <tr>\n",
       "      <th>10~20</th>\n",
       "      <td>15</td>\n",
       "      <td>122</td>\n",
       "      <td>45</td>\n",
       "      <td>14</td>\n",
       "      <td>196</td>\n",
       "    </tr>\n",
       "    <tr>\n",
       "      <th>20~40</th>\n",
       "      <td>94</td>\n",
       "      <td>100</td>\n",
       "      <td>16</td>\n",
       "      <td>30</td>\n",
       "      <td>240</td>\n",
       "    </tr>\n",
       "    <tr>\n",
       "      <th>40~70</th>\n",
       "      <td>120</td>\n",
       "      <td>65</td>\n",
       "      <td>20</td>\n",
       "      <td>18</td>\n",
       "      <td>223</td>\n",
       "    </tr>\n",
       "    <tr>\n",
       "      <th>70upper</th>\n",
       "      <td>32</td>\n",
       "      <td>9</td>\n",
       "      <td>12</td>\n",
       "      <td>20</td>\n",
       "      <td>73</td>\n",
       "    </tr>\n",
       "    <tr>\n",
       "      <th>전체</th>\n",
       "      <td>282</td>\n",
       "      <td>338</td>\n",
       "      <td>153</td>\n",
       "      <td>87</td>\n",
       "      <td>860</td>\n",
       "    </tr>\n",
       "  </tbody>\n",
       "</table>\n",
       "</div>"
      ],
      "text/plain": [
       "level      A    B    C   D   전체\n",
       "amount                         \n",
       "10under   21   42   60   5  128\n",
       "10~20     15  122   45  14  196\n",
       "20~40     94  100   16  30  240\n",
       "40~70    120   65   20  18  223\n",
       "70upper   32    9   12  20   73\n",
       "전체       282  338  153  87  860"
      ]
     },
     "execution_count": 21,
     "metadata": {},
     "output_type": "execute_result"
    }
   ],
   "source": [
    "# 분할표 작성\n",
    "pd.crosstab(index=data['amount'], columns=data['level'],\n",
    "           values=data['count'], aggfunc=sum, margins=True, margins_name='전체')"
   ]
  },
  {
   "cell_type": "code",
   "execution_count": 22,
   "id": "09beb77e",
   "metadata": {
    "scrolled": true
   },
   "outputs": [
    {
     "data": {
      "text/html": [
       "<div>\n",
       "<style scoped>\n",
       "    .dataframe tbody tr th:only-of-type {\n",
       "        vertical-align: middle;\n",
       "    }\n",
       "\n",
       "    .dataframe tbody tr th {\n",
       "        vertical-align: top;\n",
       "    }\n",
       "\n",
       "    .dataframe thead th {\n",
       "        text-align: right;\n",
       "    }\n",
       "</style>\n",
       "<table border=\"1\" class=\"dataframe\">\n",
       "  <thead>\n",
       "    <tr style=\"text-align: right;\">\n",
       "      <th>level</th>\n",
       "      <th>A</th>\n",
       "      <th>B</th>\n",
       "      <th>C</th>\n",
       "      <th>D</th>\n",
       "    </tr>\n",
       "    <tr>\n",
       "      <th>amount</th>\n",
       "      <th></th>\n",
       "      <th></th>\n",
       "      <th></th>\n",
       "      <th></th>\n",
       "    </tr>\n",
       "  </thead>\n",
       "  <tbody>\n",
       "    <tr>\n",
       "      <th>10under</th>\n",
       "      <td>0.1641</td>\n",
       "      <td>0.3281</td>\n",
       "      <td>0.4688</td>\n",
       "      <td>0.0391</td>\n",
       "    </tr>\n",
       "    <tr>\n",
       "      <th>10~20</th>\n",
       "      <td>0.0765</td>\n",
       "      <td>0.6224</td>\n",
       "      <td>0.2296</td>\n",
       "      <td>0.0714</td>\n",
       "    </tr>\n",
       "    <tr>\n",
       "      <th>20~40</th>\n",
       "      <td>0.3917</td>\n",
       "      <td>0.4167</td>\n",
       "      <td>0.0667</td>\n",
       "      <td>0.1250</td>\n",
       "    </tr>\n",
       "    <tr>\n",
       "      <th>40~70</th>\n",
       "      <td>0.5381</td>\n",
       "      <td>0.2915</td>\n",
       "      <td>0.0897</td>\n",
       "      <td>0.0807</td>\n",
       "    </tr>\n",
       "    <tr>\n",
       "      <th>70upper</th>\n",
       "      <td>0.4384</td>\n",
       "      <td>0.1233</td>\n",
       "      <td>0.1644</td>\n",
       "      <td>0.2740</td>\n",
       "    </tr>\n",
       "    <tr>\n",
       "      <th>전체</th>\n",
       "      <td>0.3279</td>\n",
       "      <td>0.3930</td>\n",
       "      <td>0.1779</td>\n",
       "      <td>0.1012</td>\n",
       "    </tr>\n",
       "  </tbody>\n",
       "</table>\n",
       "</div>"
      ],
      "text/plain": [
       "level         A       B       C       D\n",
       "amount                                 \n",
       "10under  0.1641  0.3281  0.4688  0.0391\n",
       "10~20    0.0765  0.6224  0.2296  0.0714\n",
       "20~40    0.3917  0.4167  0.0667  0.1250\n",
       "40~70    0.5381  0.2915  0.0897  0.0807\n",
       "70upper  0.4384  0.1233  0.1644  0.2740\n",
       "전체       0.3279  0.3930  0.1779  0.1012"
      ]
     },
     "execution_count": 22,
     "metadata": {},
     "output_type": "execute_result"
    }
   ],
   "source": [
    "# 확률표, 비율표 작성\n",
    "pd.crosstab(index=data['amount'], columns=data['level'],\n",
    "           values=data['count'], aggfunc=sum, margins=True, margins_name='전체'\n",
    "            , normalize='index').round(4)"
   ]
  },
  {
   "cell_type": "code",
   "execution_count": 26,
   "id": "ab8b3f7f",
   "metadata": {
    "scrolled": true
   },
   "outputs": [
    {
     "data": {
      "text/plain": [
       "(252.05782411526025,\n",
       " 4.392425562427717e-42,\n",
       " 20,\n",
       " array([[ 41.97209302,  50.30697674,  22.77209302,  12.94883721,\n",
       "         128.        ],\n",
       "        [ 64.26976744,  77.03255814,  34.86976744,  19.82790698,\n",
       "         196.        ],\n",
       "        [ 78.69767442,  94.3255814 ,  42.69767442,  24.27906977,\n",
       "         240.        ],\n",
       "        [ 73.12325581,  87.64418605,  39.67325581,  22.55930233,\n",
       "         223.        ],\n",
       "        [ 23.9372093 ,  28.69069767,  12.9872093 ,   7.38488372,\n",
       "          73.        ],\n",
       "        [282.        , 338.        , 153.        ,  87.        ,\n",
       "         860.        ]]))"
      ]
     },
     "execution_count": 26,
     "metadata": {},
     "output_type": "execute_result"
    }
   ],
   "source": [
    "#카이제곱 검정 및 기대빈도표 작성\n",
    "from scipy.stats import chi2_contingency\n",
    "d_table=pd.crosstab(index=data['amount'], columns=data['level'],\n",
    "           values=data['count'], aggfunc=sum, margins=True, margins_name='전체')\n",
    "chi2_contingency(d_table)"
   ]
  },
  {
   "cell_type": "code",
   "execution_count": 28,
   "id": "a3f218bd",
   "metadata": {},
   "outputs": [
    {
     "data": {
      "text/plain": [
       "(252.05782411526025,\n",
       " 5.092651382449468e-47,\n",
       " 12,\n",
       " array([[41.97209302, 50.30697674, 22.77209302, 12.94883721],\n",
       "        [64.26976744, 77.03255814, 34.86976744, 19.82790698],\n",
       "        [78.69767442, 94.3255814 , 42.69767442, 24.27906977],\n",
       "        [73.12325581, 87.64418605, 39.67325581, 22.55930233],\n",
       "        [23.9372093 , 28.69069767, 12.9872093 ,  7.38488372]]))"
      ]
     },
     "execution_count": 28,
     "metadata": {},
     "output_type": "execute_result"
    }
   ],
   "source": [
    "table=pd.crosstab(index=data['amount'], columns=data['level'],\n",
    "      values=data['count'], aggfunc=sum)\n",
    "chi2_contingency(table)"
   ]
  },
  {
   "cell_type": "code",
   "execution_count": 29,
   "id": "4d12fba6",
   "metadata": {},
   "outputs": [
    {
     "data": {
      "text/html": [
       "<div>\n",
       "<style scoped>\n",
       "    .dataframe tbody tr th:only-of-type {\n",
       "        vertical-align: middle;\n",
       "    }\n",
       "\n",
       "    .dataframe tbody tr th {\n",
       "        vertical-align: top;\n",
       "    }\n",
       "\n",
       "    .dataframe thead th {\n",
       "        text-align: right;\n",
       "    }\n",
       "</style>\n",
       "<table border=\"1\" class=\"dataframe\">\n",
       "  <thead>\n",
       "    <tr style=\"text-align: right;\">\n",
       "      <th>level</th>\n",
       "      <th>A</th>\n",
       "      <th>B</th>\n",
       "      <th>C</th>\n",
       "      <th>D</th>\n",
       "    </tr>\n",
       "    <tr>\n",
       "      <th>amount</th>\n",
       "      <th></th>\n",
       "      <th></th>\n",
       "      <th></th>\n",
       "      <th></th>\n",
       "    </tr>\n",
       "  </thead>\n",
       "  <tbody>\n",
       "    <tr>\n",
       "      <th>10under</th>\n",
       "      <td>41.972093</td>\n",
       "      <td>50.306977</td>\n",
       "      <td>22.772093</td>\n",
       "      <td>12.948837</td>\n",
       "    </tr>\n",
       "    <tr>\n",
       "      <th>10~20</th>\n",
       "      <td>64.269767</td>\n",
       "      <td>77.032558</td>\n",
       "      <td>34.869767</td>\n",
       "      <td>19.827907</td>\n",
       "    </tr>\n",
       "    <tr>\n",
       "      <th>20~40</th>\n",
       "      <td>78.697674</td>\n",
       "      <td>94.325581</td>\n",
       "      <td>42.697674</td>\n",
       "      <td>24.279070</td>\n",
       "    </tr>\n",
       "    <tr>\n",
       "      <th>40~70</th>\n",
       "      <td>73.123256</td>\n",
       "      <td>87.644186</td>\n",
       "      <td>39.673256</td>\n",
       "      <td>22.559302</td>\n",
       "    </tr>\n",
       "    <tr>\n",
       "      <th>70upper</th>\n",
       "      <td>23.937209</td>\n",
       "      <td>28.690698</td>\n",
       "      <td>12.987209</td>\n",
       "      <td>7.384884</td>\n",
       "    </tr>\n",
       "  </tbody>\n",
       "</table>\n",
       "</div>"
      ],
      "text/plain": [
       "level            A          B          C          D\n",
       "amount                                             \n",
       "10under  41.972093  50.306977  22.772093  12.948837\n",
       "10~20    64.269767  77.032558  34.869767  19.827907\n",
       "20~40    78.697674  94.325581  42.697674  24.279070\n",
       "40~70    73.123256  87.644186  39.673256  22.559302\n",
       "70upper  23.937209  28.690698  12.987209   7.384884"
      ]
     },
     "execution_count": 29,
     "metadata": {},
     "output_type": "execute_result"
    }
   ],
   "source": [
    "#독립성 검정\n",
    "chi, p, df, expected=chi2_contingency(table)\n",
    "expected_table=pd.DataFrame(data=expected, index=table.index,\n",
    "                           columns=table.columns)\n",
    "expected_table"
   ]
  },
  {
   "cell_type": "code",
   "execution_count": 30,
   "id": "57d8d6a5",
   "metadata": {},
   "outputs": [
    {
     "name": "stdout",
     "output_type": "stream",
     "text": [
      "chisquare=252.058 P-value=0.000\n"
     ]
    }
   ],
   "source": [
    "print(\"chisquare=%.3f\" %chi, \"P-value=%.3f\" %p)"
   ]
  },
  {
   "cell_type": "code",
   "execution_count": 36,
   "id": "437cb787",
   "metadata": {},
   "outputs": [
    {
     "data": {
      "text/html": [
       "<div>\n",
       "<style scoped>\n",
       "    .dataframe tbody tr th:only-of-type {\n",
       "        vertical-align: middle;\n",
       "    }\n",
       "\n",
       "    .dataframe tbody tr th {\n",
       "        vertical-align: top;\n",
       "    }\n",
       "\n",
       "    .dataframe thead th {\n",
       "        text-align: right;\n",
       "    }\n",
       "</style>\n",
       "<table border=\"1\" class=\"dataframe\">\n",
       "  <thead>\n",
       "    <tr style=\"text-align: right;\">\n",
       "      <th></th>\n",
       "      <th>A</th>\n",
       "      <th>B</th>\n",
       "      <th>C</th>\n",
       "      <th>D</th>\n",
       "    </tr>\n",
       "  </thead>\n",
       "  <tbody>\n",
       "    <tr>\n",
       "      <th>10이하</th>\n",
       "      <td>21</td>\n",
       "      <td>42</td>\n",
       "      <td>60</td>\n",
       "      <td>5</td>\n",
       "    </tr>\n",
       "    <tr>\n",
       "      <th>10~20</th>\n",
       "      <td>15</td>\n",
       "      <td>122</td>\n",
       "      <td>45</td>\n",
       "      <td>14</td>\n",
       "    </tr>\n",
       "    <tr>\n",
       "      <th>20~40</th>\n",
       "      <td>94</td>\n",
       "      <td>100</td>\n",
       "      <td>16</td>\n",
       "      <td>30</td>\n",
       "    </tr>\n",
       "    <tr>\n",
       "      <th>40~70</th>\n",
       "      <td>120</td>\n",
       "      <td>65</td>\n",
       "      <td>20</td>\n",
       "      <td>18</td>\n",
       "    </tr>\n",
       "    <tr>\n",
       "      <th>70이상</th>\n",
       "      <td>32</td>\n",
       "      <td>9</td>\n",
       "      <td>12</td>\n",
       "      <td>20</td>\n",
       "    </tr>\n",
       "  </tbody>\n",
       "</table>\n",
       "</div>"
      ],
      "text/plain": [
       "         A    B   C   D\n",
       "10이하    21   42  60   5\n",
       "10~20   15  122  45  14\n",
       "20~40   94  100  16  30\n",
       "40~70  120   65  20  18\n",
       "70이상    32    9  12  20"
      ]
     },
     "execution_count": 36,
     "metadata": {},
     "output_type": "execute_result"
    }
   ],
   "source": [
    "data=pd.DataFrame([[21, 42, 60, 5], [15, 122, 45, 14], [94, 100, 16, 30],\n",
    "                  [120, 65, 20, 18], [32, 9, 12, 20]], columns=['A', 'B', 'C', 'D']\n",
    "                 , index=['10이하', '10~20', '20~40', '40~70', '70이상'])\n",
    "data"
   ]
  },
  {
   "cell_type": "code",
   "execution_count": 38,
   "id": "5898ddc6",
   "metadata": {},
   "outputs": [],
   "source": [
    "#동일성 검정: 분할표-pd.crosstab\n",
    "import numpy as np\n",
    "import pandas as pd\n",
    "\n",
    "time=np.tile(['day', 'evening', 'night'], 2)\n",
    "count=np.array([905, 890, 870, 45, 55, 70])\n",
    "goods=np.repeat(['O', 'X'], 3)\n",
    "data={'time':time, 'goods':goods, 'count':count}"
   ]
  },
  {
   "cell_type": "code",
   "execution_count": 42,
   "id": "165a2fdb",
   "metadata": {},
   "outputs": [
    {
     "data": {
      "text/html": [
       "<div>\n",
       "<style scoped>\n",
       "    .dataframe tbody tr th:only-of-type {\n",
       "        vertical-align: middle;\n",
       "    }\n",
       "\n",
       "    .dataframe tbody tr th {\n",
       "        vertical-align: top;\n",
       "    }\n",
       "\n",
       "    .dataframe thead th {\n",
       "        text-align: right;\n",
       "    }\n",
       "</style>\n",
       "<table border=\"1\" class=\"dataframe\">\n",
       "  <thead>\n",
       "    <tr style=\"text-align: right;\">\n",
       "      <th>col_0</th>\n",
       "      <th>day</th>\n",
       "      <th>evening</th>\n",
       "      <th>night</th>\n",
       "    </tr>\n",
       "    <tr>\n",
       "      <th>row_0</th>\n",
       "      <th></th>\n",
       "      <th></th>\n",
       "      <th></th>\n",
       "    </tr>\n",
       "  </thead>\n",
       "  <tbody>\n",
       "    <tr>\n",
       "      <th>O</th>\n",
       "      <td>905</td>\n",
       "      <td>890</td>\n",
       "      <td>870</td>\n",
       "    </tr>\n",
       "    <tr>\n",
       "      <th>X</th>\n",
       "      <td>45</td>\n",
       "      <td>55</td>\n",
       "      <td>70</td>\n",
       "    </tr>\n",
       "  </tbody>\n",
       "</table>\n",
       "</div>"
      ],
      "text/plain": [
       "col_0  day  evening  night\n",
       "row_0                     \n",
       "O      905      890    870\n",
       "X       45       55     70"
      ]
     },
     "execution_count": 42,
     "metadata": {},
     "output_type": "execute_result"
    }
   ],
   "source": [
    "d_table=pd.crosstab(index=data['goods'], columns=data['time'],\n",
    "           values=data['count'], aggfunc=sum)\n",
    "d_table"
   ]
  },
  {
   "cell_type": "code",
   "execution_count": 43,
   "id": "18bee2bf",
   "metadata": {},
   "outputs": [
    {
     "data": {
      "text/plain": [
       "(6.233920047684764,\n",
       " 0.044291609404034316,\n",
       " 2,\n",
       " array([[893.0335097 , 888.33333333, 883.63315697],\n",
       "        [ 56.9664903 ,  56.66666667,  56.36684303]]))"
      ]
     },
     "execution_count": 43,
     "metadata": {},
     "output_type": "execute_result"
    }
   ],
   "source": [
    "chi2_contingency(d_table)"
   ]
  },
  {
   "cell_type": "code",
   "execution_count": 44,
   "id": "577b6ee5",
   "metadata": {},
   "outputs": [
    {
     "data": {
      "text/html": [
       "<div>\n",
       "<style scoped>\n",
       "    .dataframe tbody tr th:only-of-type {\n",
       "        vertical-align: middle;\n",
       "    }\n",
       "\n",
       "    .dataframe tbody tr th {\n",
       "        vertical-align: top;\n",
       "    }\n",
       "\n",
       "    .dataframe thead th {\n",
       "        text-align: right;\n",
       "    }\n",
       "</style>\n",
       "<table border=\"1\" class=\"dataframe\">\n",
       "  <thead>\n",
       "    <tr style=\"text-align: right;\">\n",
       "      <th>col_0</th>\n",
       "      <th>day</th>\n",
       "      <th>evening</th>\n",
       "      <th>night</th>\n",
       "    </tr>\n",
       "    <tr>\n",
       "      <th>row_0</th>\n",
       "      <th></th>\n",
       "      <th></th>\n",
       "      <th></th>\n",
       "    </tr>\n",
       "  </thead>\n",
       "  <tbody>\n",
       "    <tr>\n",
       "      <th>O</th>\n",
       "      <td>893.03351</td>\n",
       "      <td>888.333333</td>\n",
       "      <td>883.633157</td>\n",
       "    </tr>\n",
       "    <tr>\n",
       "      <th>X</th>\n",
       "      <td>56.96649</td>\n",
       "      <td>56.666667</td>\n",
       "      <td>56.366843</td>\n",
       "    </tr>\n",
       "  </tbody>\n",
       "</table>\n",
       "</div>"
      ],
      "text/plain": [
       "col_0        day     evening       night\n",
       "row_0                                   \n",
       "O      893.03351  888.333333  883.633157\n",
       "X       56.96649   56.666667   56.366843"
      ]
     },
     "execution_count": 44,
     "metadata": {},
     "output_type": "execute_result"
    }
   ],
   "source": [
    "chi, p, df, expected=chi2_contingency(d_table)\n",
    "expected_d_table=pd.DataFrame(data=expected, index=d_table.index,\n",
    "                           columns=d_table.columns)\n",
    "expected_d_table"
   ]
  },
  {
   "cell_type": "code",
   "execution_count": null,
   "id": "b254a7cf",
   "metadata": {},
   "outputs": [],
   "source": []
  }
 ],
 "metadata": {
  "kernelspec": {
   "display_name": "Python 3 (ipykernel)",
   "language": "python",
   "name": "python3"
  },
  "language_info": {
   "codemirror_mode": {
    "name": "ipython",
    "version": 3
   },
   "file_extension": ".py",
   "mimetype": "text/x-python",
   "name": "python",
   "nbconvert_exporter": "python",
   "pygments_lexer": "ipython3",
   "version": "3.9.12"
  }
 },
 "nbformat": 4,
 "nbformat_minor": 5
}
