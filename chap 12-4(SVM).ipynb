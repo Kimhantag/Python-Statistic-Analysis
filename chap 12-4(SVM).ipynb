{
 "cells": [
  {
   "cell_type": "code",
   "execution_count": 1,
   "id": "440633ba",
   "metadata": {},
   "outputs": [],
   "source": [
    "### support vector machine : SVM - 분석\n",
    "from sklearn.datasets import load_iris\n",
    "from sklearn.model_selection import train_test_split  \n",
    "import pandas as pd\n",
    "from sklearn.svm import SVC  \n",
    "from sklearn.metrics import classification_report, confusion_matrix  "
   ]
  },
  {
   "cell_type": "code",
   "execution_count": 2,
   "id": "c9d8669d",
   "metadata": {},
   "outputs": [],
   "source": [
    "# iris 데이터 훈련, 테스트 자료분할\n",
    "iris = load_iris()\n",
    "X = pd.DataFrame(iris.data, columns=iris.feature_names)\n",
    "Y = pd.DataFrame({'class':iris.target})\n",
    "X_train, X_test, Y_train, Y_test = train_test_split(X, Y, test_size = 0.30)  "
   ]
  },
  {
   "cell_type": "code",
   "execution_count": 3,
   "id": "67e3d3bb",
   "metadata": {},
   "outputs": [
    {
     "name": "stderr",
     "output_type": "stream",
     "text": [
      "C:\\Users\\gksxk\\anaconda3\\lib\\site-packages\\sklearn\\utils\\validation.py:993: DataConversionWarning: A column-vector y was passed when a 1d array was expected. Please change the shape of y to (n_samples, ), for example using ravel().\n",
      "  y = column_or_1d(y, warn=True)\n"
     ]
    },
    {
     "data": {
      "text/plain": [
       "SVC(degree=8, kernel='linear')"
      ]
     },
     "execution_count": 3,
     "metadata": {},
     "output_type": "execute_result"
    }
   ],
   "source": [
    "# SVM - 커널함수= 선형(linear) - degree=몇 차 다항차수까지 사용할 지 지정\n",
    "svclassifier = SVC(kernel='linear', degree=8)  \n",
    "svclassifier.fit(X_train, Y_train) "
   ]
  },
  {
   "cell_type": "code",
   "execution_count": 4,
   "id": "61b819c0",
   "metadata": {},
   "outputs": [
    {
     "name": "stdout",
     "output_type": "stream",
     "text": [
      "score :  0.9555555555555556\n",
      "[[15  0  0]\n",
      " [ 0 10  1]\n",
      " [ 0  1 18]]\n",
      "              precision    recall  f1-score   support\n",
      "\n",
      "           0       1.00      1.00      1.00        15\n",
      "           1       0.91      0.91      0.91        11\n",
      "           2       0.95      0.95      0.95        19\n",
      "\n",
      "    accuracy                           0.96        45\n",
      "   macro avg       0.95      0.95      0.95        45\n",
      "weighted avg       0.96      0.96      0.96        45\n",
      "\n"
     ]
    }
   ],
   "source": [
    "# SVM - 분류정확도 분석(선형)\n",
    "y_pred = svclassifier.predict(X_test)  \n",
    "print('score : ',svclassifier.score(X_test,Y_test))\n",
    "print(confusion_matrix(Y_test, y_pred))  \n",
    "print(classification_report(Y_test, y_pred))"
   ]
  },
  {
   "cell_type": "code",
   "execution_count": 6,
   "id": "fd45e47f",
   "metadata": {},
   "outputs": [
    {
     "name": "stdout",
     "output_type": "stream",
     "text": [
      "score :  0.9777777777777777\n",
      "[[15  0  0]\n",
      " [ 0 11  0]\n",
      " [ 0  1 18]]\n",
      "              precision    recall  f1-score   support\n",
      "\n",
      "           0       1.00      1.00      1.00        15\n",
      "           1       0.92      1.00      0.96        11\n",
      "           2       1.00      0.95      0.97        19\n",
      "\n",
      "    accuracy                           0.98        45\n",
      "   macro avg       0.97      0.98      0.98        45\n",
      "weighted avg       0.98      0.98      0.98        45\n",
      "\n"
     ]
    },
    {
     "name": "stderr",
     "output_type": "stream",
     "text": [
      "C:\\Users\\gksxk\\anaconda3\\lib\\site-packages\\sklearn\\utils\\validation.py:993: DataConversionWarning: A column-vector y was passed when a 1d array was expected. Please change the shape of y to (n_samples, ), for example using ravel().\n",
      "  y = column_or_1d(y, warn=True)\n"
     ]
    }
   ],
   "source": [
    "# SVM - 커널함수= 다항식(poly)\n",
    "svclassifier = SVC(kernel='poly', degree=8)  \n",
    "svclassifier.fit(X_train, Y_train) \n",
    "y_pred = svclassifier.predict(X_test)  \n",
    "print('score : ',svclassifier.score(X_test,Y_test))\n",
    "print(confusion_matrix(Y_test, y_pred))  \n",
    "print(classification_report(Y_test, y_pred))  "
   ]
  },
  {
   "cell_type": "code",
   "execution_count": 7,
   "id": "61dceea9",
   "metadata": {},
   "outputs": [
    {
     "name": "stdout",
     "output_type": "stream",
     "text": [
      "score :  0.9333333333333333\n",
      "[[15  0  0]\n",
      " [ 0 11  0]\n",
      " [ 0  3 16]]\n",
      "              precision    recall  f1-score   support\n",
      "\n",
      "           0       1.00      1.00      1.00        15\n",
      "           1       0.79      1.00      0.88        11\n",
      "           2       1.00      0.84      0.91        19\n",
      "\n",
      "    accuracy                           0.93        45\n",
      "   macro avg       0.93      0.95      0.93        45\n",
      "weighted avg       0.95      0.93      0.93        45\n",
      "\n"
     ]
    },
    {
     "name": "stderr",
     "output_type": "stream",
     "text": [
      "C:\\Users\\gksxk\\anaconda3\\lib\\site-packages\\sklearn\\utils\\validation.py:993: DataConversionWarning: A column-vector y was passed when a 1d array was expected. Please change the shape of y to (n_samples, ), for example using ravel().\n",
      "  y = column_or_1d(y, warn=True)\n"
     ]
    }
   ],
   "source": [
    "# SVM - 커널함수= 가우시안(정규분포함수)\n",
    "svclassifier = SVC(kernel='rbf', degree=8)  \n",
    "svclassifier.fit(X_train, Y_train) \n",
    "y_pred = svclassifier.predict(X_test)  \n",
    "print('score : ',svclassifier.score(X_test,Y_test))\n",
    "print(confusion_matrix(Y_test, y_pred))  \n",
    "print(classification_report(Y_test, y_pred))  "
   ]
  },
  {
   "cell_type": "code",
   "execution_count": 8,
   "id": "6629ec96",
   "metadata": {},
   "outputs": [
    {
     "name": "stdout",
     "output_type": "stream",
     "text": [
      "score :  0.24444444444444444\n",
      "[[ 0 15  0]\n",
      " [ 0 11  0]\n",
      " [ 0 19  0]]\n",
      "              precision    recall  f1-score   support\n",
      "\n",
      "           0       0.00      0.00      0.00        15\n",
      "           1       0.24      1.00      0.39        11\n",
      "           2       0.00      0.00      0.00        19\n",
      "\n",
      "    accuracy                           0.24        45\n",
      "   macro avg       0.08      0.33      0.13        45\n",
      "weighted avg       0.06      0.24      0.10        45\n",
      "\n"
     ]
    },
    {
     "name": "stderr",
     "output_type": "stream",
     "text": [
      "C:\\Users\\gksxk\\anaconda3\\lib\\site-packages\\sklearn\\utils\\validation.py:993: DataConversionWarning: A column-vector y was passed when a 1d array was expected. Please change the shape of y to (n_samples, ), for example using ravel().\n",
      "  y = column_or_1d(y, warn=True)\n",
      "C:\\Users\\gksxk\\anaconda3\\lib\\site-packages\\sklearn\\metrics\\_classification.py:1318: UndefinedMetricWarning: Precision and F-score are ill-defined and being set to 0.0 in labels with no predicted samples. Use `zero_division` parameter to control this behavior.\n",
      "  _warn_prf(average, modifier, msg_start, len(result))\n",
      "C:\\Users\\gksxk\\anaconda3\\lib\\site-packages\\sklearn\\metrics\\_classification.py:1318: UndefinedMetricWarning: Precision and F-score are ill-defined and being set to 0.0 in labels with no predicted samples. Use `zero_division` parameter to control this behavior.\n",
      "  _warn_prf(average, modifier, msg_start, len(result))\n",
      "C:\\Users\\gksxk\\anaconda3\\lib\\site-packages\\sklearn\\metrics\\_classification.py:1318: UndefinedMetricWarning: Precision and F-score are ill-defined and being set to 0.0 in labels with no predicted samples. Use `zero_division` parameter to control this behavior.\n",
      "  _warn_prf(average, modifier, msg_start, len(result))\n"
     ]
    }
   ],
   "source": [
    "# SVM - 커널함수= 시그모이드(로지스틱함수)\n",
    "svclassifier = SVC(kernel='sigmoid', degree=8)  \n",
    "svclassifier.fit(X_train, Y_train) \n",
    "y_pred = svclassifier.predict(X_test)  \n",
    "print('score : ',svclassifier.score(X_test,Y_test))\n",
    "print(confusion_matrix(Y_test, y_pred))  \n",
    "print(classification_report(Y_test, y_pred))  "
   ]
  },
  {
   "cell_type": "code",
   "execution_count": null,
   "id": "0ceeba3c",
   "metadata": {},
   "outputs": [],
   "source": []
  }
 ],
 "metadata": {
  "kernelspec": {
   "display_name": "Python 3 (ipykernel)",
   "language": "python",
   "name": "python3"
  },
  "language_info": {
   "codemirror_mode": {
    "name": "ipython",
    "version": 3
   },
   "file_extension": ".py",
   "mimetype": "text/x-python",
   "name": "python",
   "nbconvert_exporter": "python",
   "pygments_lexer": "ipython3",
   "version": "3.9.12"
  }
 },
 "nbformat": 4,
 "nbformat_minor": 5
}
