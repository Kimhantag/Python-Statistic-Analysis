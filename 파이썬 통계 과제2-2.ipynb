{
 "cells": [
  {
   "cell_type": "code",
   "execution_count": 1,
   "id": "c514d4e9",
   "metadata": {},
   "outputs": [],
   "source": [
    "#8\n",
    "!python han-font.py\n",
    "exec(open('han-font.py').read())\n",
    "\n",
    "import numpy as np\n",
    "import pandas as pd\n",
    "desa=pd.read_csv(\"대사중후군.csv\", encoding='CP949')"
   ]
  },
  {
   "cell_type": "code",
   "execution_count": 2,
   "id": "8be981e8",
   "metadata": {},
   "outputs": [
    {
     "data": {
      "text/html": [
       "<div>\n",
       "<style scoped>\n",
       "    .dataframe tbody tr th:only-of-type {\n",
       "        vertical-align: middle;\n",
       "    }\n",
       "\n",
       "    .dataframe tbody tr th {\n",
       "        vertical-align: top;\n",
       "    }\n",
       "\n",
       "    .dataframe thead th {\n",
       "        text-align: right;\n",
       "    }\n",
       "</style>\n",
       "<table border=\"1\" class=\"dataframe\">\n",
       "  <thead>\n",
       "    <tr style=\"text-align: right;\">\n",
       "      <th></th>\n",
       "      <th>ex1ex2</th>\n",
       "      <th>pre_bmi</th>\n",
       "      <th>post_bmi</th>\n",
       "      <th>bmi감소량</th>\n",
       "    </tr>\n",
       "  </thead>\n",
       "  <tbody>\n",
       "    <tr>\n",
       "      <th>1</th>\n",
       "      <td>2</td>\n",
       "      <td>22.7</td>\n",
       "      <td>21.1</td>\n",
       "      <td>1.6</td>\n",
       "    </tr>\n",
       "    <tr>\n",
       "      <th>3</th>\n",
       "      <td>2</td>\n",
       "      <td>27.6</td>\n",
       "      <td>27.4</td>\n",
       "      <td>0.2</td>\n",
       "    </tr>\n",
       "    <tr>\n",
       "      <th>5</th>\n",
       "      <td>2</td>\n",
       "      <td>26.9</td>\n",
       "      <td>26.0</td>\n",
       "      <td>0.9</td>\n",
       "    </tr>\n",
       "    <tr>\n",
       "      <th>6</th>\n",
       "      <td>1</td>\n",
       "      <td>33.0</td>\n",
       "      <td>30.7</td>\n",
       "      <td>2.3</td>\n",
       "    </tr>\n",
       "    <tr>\n",
       "      <th>7</th>\n",
       "      <td>2</td>\n",
       "      <td>31.0</td>\n",
       "      <td>34.1</td>\n",
       "      <td>-3.1</td>\n",
       "    </tr>\n",
       "  </tbody>\n",
       "</table>\n",
       "</div>"
      ],
      "text/plain": [
       "   ex1ex2  pre_bmi  post_bmi  bmi감소량\n",
       "1       2     22.7      21.1     1.6\n",
       "3       2     27.6      27.4     0.2\n",
       "5       2     26.9      26.0     0.9\n",
       "6       1     33.0      30.7     2.3\n",
       "7       2     31.0      34.1    -3.1"
      ]
     },
     "execution_count": 2,
     "metadata": {},
     "output_type": "execute_result"
    }
   ],
   "source": [
    "ex1ex2=desa.ex1ex2co[(desa.ex1ex2co ==1) | (desa.ex1ex2co == 2)]\n",
    "bmi1=desa.bmi1[(desa.ex1ex2co ==1) | (desa.ex1ex2co == 2)]\n",
    "bmi2=desa.bmi2[(desa.ex1ex2co ==1) | (desa.ex1ex2co == 2)]\n",
    "bmi3=bmi1-bmi2\n",
    "d={'ex1ex2':ex1ex2,  'pre_bmi':bmi1, 'post_bmi':bmi2, 'bmi감소량':bmi3}\n",
    "data=pd.DataFrame(data=d)\n",
    "data.head()"
   ]
  },
  {
   "cell_type": "code",
   "execution_count": 3,
   "id": "5904c087",
   "metadata": {},
   "outputs": [
    {
     "data": {
      "text/html": [
       "<div>\n",
       "<style scoped>\n",
       "    .dataframe tbody tr th:only-of-type {\n",
       "        vertical-align: middle;\n",
       "    }\n",
       "\n",
       "    .dataframe tbody tr th {\n",
       "        vertical-align: top;\n",
       "    }\n",
       "\n",
       "    .dataframe thead th {\n",
       "        text-align: right;\n",
       "    }\n",
       "</style>\n",
       "<table border=\"1\" class=\"dataframe\">\n",
       "  <thead>\n",
       "    <tr style=\"text-align: right;\">\n",
       "      <th></th>\n",
       "      <th>ex1ex2</th>\n",
       "      <th>pre_bmi</th>\n",
       "      <th>post_bmi</th>\n",
       "      <th>bmi감소량</th>\n",
       "      <th>실험군</th>\n",
       "    </tr>\n",
       "  </thead>\n",
       "  <tbody>\n",
       "    <tr>\n",
       "      <th>1</th>\n",
       "      <td>2</td>\n",
       "      <td>22.7</td>\n",
       "      <td>21.1</td>\n",
       "      <td>1.6</td>\n",
       "      <td>1</td>\n",
       "    </tr>\n",
       "    <tr>\n",
       "      <th>3</th>\n",
       "      <td>2</td>\n",
       "      <td>27.6</td>\n",
       "      <td>27.4</td>\n",
       "      <td>0.2</td>\n",
       "      <td>1</td>\n",
       "    </tr>\n",
       "    <tr>\n",
       "      <th>5</th>\n",
       "      <td>2</td>\n",
       "      <td>26.9</td>\n",
       "      <td>26.0</td>\n",
       "      <td>0.9</td>\n",
       "      <td>1</td>\n",
       "    </tr>\n",
       "  </tbody>\n",
       "</table>\n",
       "</div>"
      ],
      "text/plain": [
       "   ex1ex2  pre_bmi  post_bmi  bmi감소량 실험군\n",
       "1       2     22.7      21.1     1.6   1\n",
       "3       2     27.6      27.4     0.2   1\n",
       "5       2     26.9      26.0     0.9   1"
      ]
     },
     "execution_count": 3,
     "metadata": {},
     "output_type": "execute_result"
    }
   ],
   "source": [
    "#실험군 1,2 통합\n",
    "data.loc[(data.ex1ex2 ==1) | (data.ex1ex2 == 2), \"실험군\"] = '1' \n",
    "data.head(3)"
   ]
  },
  {
   "cell_type": "code",
   "execution_count": 4,
   "id": "6dd7d47f",
   "metadata": {},
   "outputs": [
    {
     "data": {
      "text/plain": [
       "count    71.000\n",
       "mean      0.955\n",
       "std       2.230\n",
       "min      -9.600\n",
       "25%       0.200\n",
       "50%       0.900\n",
       "75%       1.550\n",
       "max      13.400\n",
       "Name: bmi감소량, dtype: float64"
      ]
     },
     "execution_count": 4,
     "metadata": {},
     "output_type": "execute_result"
    }
   ],
   "source": [
    "data.bmi감소량.describe().round(3) # bmi감소량=bmi1-bmi2, bmi감소량의 평균:0.95\n",
    "                                   # bmi감소량의 표준편차:2.23"
   ]
  },
  {
   "cell_type": "code",
   "execution_count": 5,
   "id": "1c083ac2",
   "metadata": {},
   "outputs": [
    {
     "name": "stdout",
     "output_type": "stream",
     "text": [
      "T-value=3.608, P-value=0.000\n"
     ]
    }
   ],
   "source": [
    "#8-1대응표본 검정-단측검정\n",
    "#8-1대응표본 검정-단측검정\n",
    "from scipy.stats import ttest_rel\n",
    "tval=ttest_rel(bmi1, bmi2)[0] \n",
    "pval=ttest_rel(bmi1, bmi2)[1]/2\n",
    "print(\"T-value=%.3f, P-value=%.3f\" %(tval, pval))#귀무가설 기각"
   ]
  },
  {
   "cell_type": "code",
   "execution_count": 6,
   "id": "118b77b6",
   "metadata": {},
   "outputs": [
    {
     "data": {
      "image/png": "[encoded data removed]",
      "text/plain": [
       "<Figure size 432x288 with 1 Axes>"
      ]
     },
     "metadata": {
      "needs_background": "light"
     },
     "output_type": "display_data"
    }
   ],
   "source": [
    "#8-2 상자도표\n",
    "import seaborn as sns\n",
    "import matplotlib.pyplot as plt\n",
    "sns.boxplot(x='실험군', y='bmi감소량', data=data)\n",
    "plt.title(\"실험군(ex1, ex2)의 사전-사후 bmi지수 차이의 Box-Plot\")\n",
    "plt.show()"
   ]
  },
  {
   "cell_type": "code",
   "execution_count": 7,
   "id": "5d60ed26",
   "metadata": {},
   "outputs": [
    {
     "data": {
      "text/html": [
       "<div>\n",
       "<style scoped>\n",
       "    .dataframe tbody tr th:only-of-type {\n",
       "        vertical-align: middle;\n",
       "    }\n",
       "\n",
       "    .dataframe tbody tr th {\n",
       "        vertical-align: top;\n",
       "    }\n",
       "\n",
       "    .dataframe thead th {\n",
       "        text-align: right;\n",
       "    }\n",
       "</style>\n",
       "<table border=\"1\" class=\"dataframe\">\n",
       "  <thead>\n",
       "    <tr style=\"text-align: right;\">\n",
       "      <th></th>\n",
       "      <th>group</th>\n",
       "      <th>삶의질</th>\n",
       "    </tr>\n",
       "  </thead>\n",
       "  <tbody>\n",
       "    <tr>\n",
       "      <th>0</th>\n",
       "      <td>3</td>\n",
       "      <td>37.99</td>\n",
       "    </tr>\n",
       "    <tr>\n",
       "      <th>1</th>\n",
       "      <td>2</td>\n",
       "      <td>34.04</td>\n",
       "    </tr>\n",
       "    <tr>\n",
       "      <th>2</th>\n",
       "      <td>3</td>\n",
       "      <td>61.56</td>\n",
       "    </tr>\n",
       "    <tr>\n",
       "      <th>3</th>\n",
       "      <td>2</td>\n",
       "      <td>54.24</td>\n",
       "    </tr>\n",
       "    <tr>\n",
       "      <th>4</th>\n",
       "      <td>3</td>\n",
       "      <td>61.92</td>\n",
       "    </tr>\n",
       "  </tbody>\n",
       "</table>\n",
       "</div>"
      ],
      "text/plain": [
       "   group    삶의질\n",
       "0      3  37.99\n",
       "1      2  34.04\n",
       "2      3  61.56\n",
       "3      2  54.24\n",
       "4      3  61.92"
      ]
     },
     "execution_count": 7,
     "metadata": {},
     "output_type": "execute_result"
    }
   ],
   "source": [
    "#9\n",
    "import pandas as pd\n",
    "desa=pd.read_csv(\"대사중후군.csv\", encoding='CP949')\n",
    "group=desa.group\n",
    "삶의질=desa.삶의질\n",
    "d={'group':group, '삶의질':삶의질}\n",
    "data1=pd.DataFrame(data=d)\n",
    "data1.head()"
   ]
  },
  {
   "cell_type": "code",
   "execution_count": 8,
   "id": "e1e47737",
   "metadata": {},
   "outputs": [
    {
     "data": {
      "text/html": [
       "<div>\n",
       "<style scoped>\n",
       "    .dataframe tbody tr th:only-of-type {\n",
       "        vertical-align: middle;\n",
       "    }\n",
       "\n",
       "    .dataframe tbody tr th {\n",
       "        vertical-align: top;\n",
       "    }\n",
       "\n",
       "    .dataframe thead th {\n",
       "        text-align: right;\n",
       "    }\n",
       "</style>\n",
       "<table border=\"1\" class=\"dataframe\">\n",
       "  <thead>\n",
       "    <tr style=\"text-align: right;\">\n",
       "      <th></th>\n",
       "      <th>count</th>\n",
       "      <th>mean</th>\n",
       "      <th>std</th>\n",
       "      <th>min</th>\n",
       "      <th>25%</th>\n",
       "      <th>50%</th>\n",
       "      <th>75%</th>\n",
       "      <th>max</th>\n",
       "    </tr>\n",
       "    <tr>\n",
       "      <th>group</th>\n",
       "      <th></th>\n",
       "      <th></th>\n",
       "      <th></th>\n",
       "      <th></th>\n",
       "      <th></th>\n",
       "      <th></th>\n",
       "      <th></th>\n",
       "      <th></th>\n",
       "    </tr>\n",
       "  </thead>\n",
       "  <tbody>\n",
       "    <tr>\n",
       "      <th>1</th>\n",
       "      <td>38.0</td>\n",
       "      <td>55.059737</td>\n",
       "      <td>20.620682</td>\n",
       "      <td>13.88</td>\n",
       "      <td>38.8925</td>\n",
       "      <td>53.19</td>\n",
       "      <td>72.005</td>\n",
       "      <td>95.38</td>\n",
       "    </tr>\n",
       "    <tr>\n",
       "      <th>2</th>\n",
       "      <td>33.0</td>\n",
       "      <td>53.961818</td>\n",
       "      <td>19.677531</td>\n",
       "      <td>10.19</td>\n",
       "      <td>40.1500</td>\n",
       "      <td>55.57</td>\n",
       "      <td>69.850</td>\n",
       "      <td>86.03</td>\n",
       "    </tr>\n",
       "    <tr>\n",
       "      <th>3</th>\n",
       "      <td>20.0</td>\n",
       "      <td>55.540500</td>\n",
       "      <td>20.062674</td>\n",
       "      <td>20.18</td>\n",
       "      <td>40.6150</td>\n",
       "      <td>53.52</td>\n",
       "      <td>66.340</td>\n",
       "      <td>95.10</td>\n",
       "    </tr>\n",
       "  </tbody>\n",
       "</table>\n",
       "</div>"
      ],
      "text/plain": [
       "       count       mean        std    min      25%    50%     75%    max\n",
       "group                                                                   \n",
       "1       38.0  55.059737  20.620682  13.88  38.8925  53.19  72.005  95.38\n",
       "2       33.0  53.961818  19.677531  10.19  40.1500  55.57  69.850  86.03\n",
       "3       20.0  55.540500  20.062674  20.18  40.6150  53.52  66.340  95.10"
      ]
     },
     "execution_count": 8,
     "metadata": {},
     "output_type": "execute_result"
    }
   ],
   "source": [
    "data1.groupby(group).삶의질.describe()"
   ]
  },
  {
   "cell_type": "code",
   "execution_count": 9,
   "id": "2b443c8d",
   "metadata": {
    "scrolled": true
   },
   "outputs": [
    {
     "data": {
      "text/html": [
       "<div>\n",
       "<style scoped>\n",
       "    .dataframe tbody tr th:only-of-type {\n",
       "        vertical-align: middle;\n",
       "    }\n",
       "\n",
       "    .dataframe tbody tr th {\n",
       "        vertical-align: top;\n",
       "    }\n",
       "\n",
       "    .dataframe thead th {\n",
       "        text-align: right;\n",
       "    }\n",
       "</style>\n",
       "<table border=\"1\" class=\"dataframe\">\n",
       "  <thead>\n",
       "    <tr style=\"text-align: right;\">\n",
       "      <th></th>\n",
       "      <th>df</th>\n",
       "      <th>sum_sq</th>\n",
       "      <th>mean_sq</th>\n",
       "      <th>F</th>\n",
       "      <th>PR(&gt;F)</th>\n",
       "    </tr>\n",
       "  </thead>\n",
       "  <tbody>\n",
       "    <tr>\n",
       "      <th>C(group)</th>\n",
       "      <td>2.0</td>\n",
       "      <td>36.616930</td>\n",
       "      <td>18.308465</td>\n",
       "      <td>0.04504</td>\n",
       "      <td>0.955981</td>\n",
       "    </tr>\n",
       "    <tr>\n",
       "      <th>Residual</th>\n",
       "      <td>88.0</td>\n",
       "      <td>35771.137083</td>\n",
       "      <td>406.490194</td>\n",
       "      <td>NaN</td>\n",
       "      <td>NaN</td>\n",
       "    </tr>\n",
       "  </tbody>\n",
       "</table>\n",
       "</div>"
      ],
      "text/plain": [
       "            df        sum_sq     mean_sq        F    PR(>F)\n",
       "C(group)   2.0     36.616930   18.308465  0.04504  0.955981\n",
       "Residual  88.0  35771.137083  406.490194      NaN       NaN"
      ]
     },
     "execution_count": 9,
     "metadata": {},
     "output_type": "execute_result"
    }
   ],
   "source": [
    "#9-1일원배치 분산분석\n",
    "import statsmodels.api as sm\n",
    "import statsmodels.formula.api as smf\n",
    "\n",
    "fit=smf.ols('삶의질~C(group)', data1).fit()\n",
    "sm.stats.anova_lm(fit, typ=1)"
   ]
  },
  {
   "cell_type": "code",
   "execution_count": 10,
   "id": "de118645",
   "metadata": {},
   "outputs": [
    {
     "data": {
      "image/png": "[encoded data removed]",
      "text/plain": [
       "<Figure size 432x288 with 1 Axes>"
      ]
     },
     "metadata": {
      "needs_background": "light"
     },
     "output_type": "display_data"
    }
   ],
   "source": [
    "#9-2 상자도표\n",
    "import seaborn as sns\n",
    "import matplotlib.pyplot as plt\n",
    "\n",
    "sns.boxplot(x='group', y='삶의질', data=data1)\n",
    "plt.title(\"group에 따른 삶의 질의 BoxPlot\")\n",
    "plt.show()"
   ]
  },
  {
   "cell_type": "code",
   "execution_count": 11,
   "id": "ac04ffc7",
   "metadata": {},
   "outputs": [
    {
     "name": "stdout",
     "output_type": "stream",
     "text": [
      " Multiple Comparison of Means - Tukey HSD, FWER=0.05 \n",
      "=====================================================\n",
      "group1 group2 meandiff p-adj   lower    upper  reject\n",
      "-----------------------------------------------------\n",
      "     1      2  -1.0979 0.9715  -12.535 10.3391  False\n",
      "     1      3   0.4808 0.9959 -12.7975  13.759  False\n",
      "     2      3   1.5787 0.9588  -12.042 15.1994  False\n",
      "-----------------------------------------------------\n"
     ]
    }
   ],
   "source": [
    "#9-3 \n",
    "#사후검정-Tukey HSD\n",
    "from statsmodels.stats.multicomp import pairwise_tukeyhsd\n",
    "\n",
    "tukey = pairwise_tukeyhsd(endog=data1.삶의질, groups=data1.group, alpha=0.05)\n",
    "print(tukey) # ex1ex2의 수준은 모두 평균차이가 유의미하지않다."
   ]
  },
  {
   "cell_type": "code",
   "execution_count": 32,
   "id": "503990ff",
   "metadata": {},
   "outputs": [
    {
     "data": {
      "image/png": "[encoded data removed]",
      "text/plain": [
       "<Figure size 720x432 with 1 Axes>"
      ]
     },
     "metadata": {
      "needs_background": "light"
     },
     "output_type": "display_data"
    }
   ],
   "source": [
    "fig=tukey.plot_simultaneous() #마찬가지로 유의미하다고 보기 힘듬"
   ]
  },
  {
   "cell_type": "code",
   "execution_count": 25,
   "id": "0cc6f4a1",
   "metadata": {},
   "outputs": [
    {
     "name": "stdout",
     "output_type": "stream",
     "text": [
      "<class 'pandas.core.frame.DataFrame'>\n",
      "RangeIndex: 91 entries, 0 to 90\n",
      "Data columns (total 47 columns):\n",
      " #   Column    Non-Null Count  Dtype  \n",
      "---  ------    --------------  -----  \n",
      " 0   ex1ex2co  91 non-null     int64  \n",
      " 1   exco      91 non-null     int64  \n",
      " 2   site      91 non-null     int64  \n",
      " 3   wc1       91 non-null     float64\n",
      " 4   wc2       91 non-null     float64\n",
      " 5   tg1       91 non-null     int64  \n",
      " 6   tg2       91 non-null     int64  \n",
      " 7   hdl1      91 non-null     int64  \n",
      " 8   hdl2      91 non-null     int64  \n",
      " 9   ldl1      91 non-null     int64  \n",
      " 10  ldl2      91 non-null     int64  \n",
      " 11  gl1       91 non-null     int64  \n",
      " 12  gl2       91 non-null     int64  \n",
      " 13  sbp1      91 non-null     int64  \n",
      " 14  sbp2      91 non-null     int64  \n",
      " 15  dsp1      91 non-null     int64  \n",
      " 16  dsp2      91 non-null     int64  \n",
      " 17  we1       91 non-null     float64\n",
      " 18  we2       91 non-null     float64\n",
      " 19  체지방1      91 non-null     float64\n",
      " 20  체지방2      91 non-null     float64\n",
      " 21  bmi1      91 non-null     float64\n",
      " 22  bmi2      91 non-null     float64\n",
      " 23  group     91 non-null     int64  \n",
      " 24  be_af     91 non-null     int64  \n",
      " 25  age       88 non-null     float64\n",
      " 26  gender    89 non-null     float64\n",
      " 27  건강        88 non-null     float64\n",
      " 28  결혼        89 non-null     float64\n",
      " 29  동거        90 non-null     float64\n",
      " 30  종교        90 non-null     float64\n",
      " 31  직업        86 non-null     float64\n",
      " 32  학력        90 non-null     float64\n",
      " 33  수입        87 non-null     float64\n",
      " 34  효능감       91 non-null     float64\n",
      " 35  이행도       91 non-null     float64\n",
      " 36  pf        91 non-null     float64\n",
      " 37  rlp       91 non-null     int64  \n",
      " 38  bp        91 non-null     float64\n",
      " 39  ghp       91 non-null     float64\n",
      " 40  psh       91 non-null     float64\n",
      " 41  vitality  91 non-null     float64\n",
      " 42  sof       91 non-null     float64\n",
      " 43  RLE       91 non-null     float64\n",
      " 44  mh        91 non-null     int64  \n",
      " 45  meh       91 non-null     float64\n",
      " 46  삶의질       91 non-null     float64\n",
      "dtypes: float64(28), int64(19)\n",
      "memory usage: 33.5 KB\n"
     ]
    }
   ],
   "source": [
    "desa.info()"
   ]
  },
  {
   "cell_type": "code",
   "execution_count": 18,
   "id": "538d07ad",
   "metadata": {},
   "outputs": [],
   "source": [
    "#10\n",
    "import numpy as np\n",
    "import pandas as pd\n",
    "desa=pd.read_csv(\"대사중후군.csv\", encoding='CP949')"
   ]
  },
  {
   "cell_type": "code",
   "execution_count": 27,
   "id": "2e3c0d40",
   "metadata": {},
   "outputs": [
    {
     "data": {
      "text/html": [
       "<div>\n",
       "<style scoped>\n",
       "    .dataframe tbody tr th:only-of-type {\n",
       "        vertical-align: middle;\n",
       "    }\n",
       "\n",
       "    .dataframe tbody tr th {\n",
       "        vertical-align: top;\n",
       "    }\n",
       "\n",
       "    .dataframe thead th {\n",
       "        text-align: right;\n",
       "    }\n",
       "</style>\n",
       "<table border=\"1\" class=\"dataframe\">\n",
       "  <thead>\n",
       "    <tr style=\"text-align: right;\">\n",
       "      <th></th>\n",
       "      <th>group</th>\n",
       "      <th>건강</th>\n",
       "      <th>삶의질</th>\n",
       "    </tr>\n",
       "  </thead>\n",
       "  <tbody>\n",
       "    <tr>\n",
       "      <th>0</th>\n",
       "      <td>3</td>\n",
       "      <td>5.0</td>\n",
       "      <td>37.99</td>\n",
       "    </tr>\n",
       "    <tr>\n",
       "      <th>1</th>\n",
       "      <td>2</td>\n",
       "      <td>3.0</td>\n",
       "      <td>34.04</td>\n",
       "    </tr>\n",
       "    <tr>\n",
       "      <th>2</th>\n",
       "      <td>3</td>\n",
       "      <td>2.0</td>\n",
       "      <td>61.56</td>\n",
       "    </tr>\n",
       "    <tr>\n",
       "      <th>3</th>\n",
       "      <td>2</td>\n",
       "      <td>NaN</td>\n",
       "      <td>54.24</td>\n",
       "    </tr>\n",
       "    <tr>\n",
       "      <th>4</th>\n",
       "      <td>3</td>\n",
       "      <td>NaN</td>\n",
       "      <td>61.92</td>\n",
       "    </tr>\n",
       "  </tbody>\n",
       "</table>\n",
       "</div>"
      ],
      "text/plain": [
       "   group   건강    삶의질\n",
       "0      3  5.0  37.99\n",
       "1      2  3.0  34.04\n",
       "2      3  2.0  61.56\n",
       "3      2  NaN  54.24\n",
       "4      3  NaN  61.92"
      ]
     },
     "execution_count": 27,
     "metadata": {},
     "output_type": "execute_result"
    }
   ],
   "source": [
    "group=desa.group\n",
    "건강=desa.건강\n",
    "삶의질=desa.삶의질\n",
    "d={'group':group, '건강':건강, '삶의질':삶의질}\n",
    "data2=pd.DataFrame(data=d)\n",
    "data2.head()"
   ]
  },
  {
   "cell_type": "code",
   "execution_count": 28,
   "id": "ccc376cf",
   "metadata": {},
   "outputs": [
    {
     "data": {
      "text/html": [
       "<div>\n",
       "<style scoped>\n",
       "    .dataframe tbody tr th:only-of-type {\n",
       "        vertical-align: middle;\n",
       "    }\n",
       "\n",
       "    .dataframe tbody tr th {\n",
       "        vertical-align: top;\n",
       "    }\n",
       "\n",
       "    .dataframe thead th {\n",
       "        text-align: right;\n",
       "    }\n",
       "</style>\n",
       "<table border=\"1\" class=\"dataframe\">\n",
       "  <thead>\n",
       "    <tr style=\"text-align: right;\">\n",
       "      <th></th>\n",
       "      <th>count</th>\n",
       "      <th>mean</th>\n",
       "      <th>std</th>\n",
       "      <th>min</th>\n",
       "      <th>25%</th>\n",
       "      <th>50%</th>\n",
       "      <th>75%</th>\n",
       "      <th>max</th>\n",
       "    </tr>\n",
       "    <tr>\n",
       "      <th>건강</th>\n",
       "      <th></th>\n",
       "      <th></th>\n",
       "      <th></th>\n",
       "      <th></th>\n",
       "      <th></th>\n",
       "      <th></th>\n",
       "      <th></th>\n",
       "      <th></th>\n",
       "    </tr>\n",
       "  </thead>\n",
       "  <tbody>\n",
       "    <tr>\n",
       "      <th>2.0</th>\n",
       "      <td>27.0</td>\n",
       "      <td>66.709630</td>\n",
       "      <td>18.974242</td>\n",
       "      <td>27.31</td>\n",
       "      <td>59.6900</td>\n",
       "      <td>68.240</td>\n",
       "      <td>78.5650</td>\n",
       "      <td>95.38</td>\n",
       "    </tr>\n",
       "    <tr>\n",
       "      <th>3.0</th>\n",
       "      <td>24.0</td>\n",
       "      <td>59.984583</td>\n",
       "      <td>16.651554</td>\n",
       "      <td>34.04</td>\n",
       "      <td>42.3625</td>\n",
       "      <td>59.125</td>\n",
       "      <td>71.1025</td>\n",
       "      <td>88.63</td>\n",
       "    </tr>\n",
       "    <tr>\n",
       "      <th>4.0</th>\n",
       "      <td>28.0</td>\n",
       "      <td>43.148214</td>\n",
       "      <td>16.005628</td>\n",
       "      <td>13.88</td>\n",
       "      <td>33.0325</td>\n",
       "      <td>41.015</td>\n",
       "      <td>50.0425</td>\n",
       "      <td>78.24</td>\n",
       "    </tr>\n",
       "    <tr>\n",
       "      <th>5.0</th>\n",
       "      <td>9.0</td>\n",
       "      <td>37.208889</td>\n",
       "      <td>12.235118</td>\n",
       "      <td>10.19</td>\n",
       "      <td>33.9800</td>\n",
       "      <td>39.580</td>\n",
       "      <td>41.7400</td>\n",
       "      <td>53.44</td>\n",
       "    </tr>\n",
       "  </tbody>\n",
       "</table>\n",
       "</div>"
      ],
      "text/plain": [
       "     count       mean        std    min      25%     50%      75%    max\n",
       "건강                                                                      \n",
       "2.0   27.0  66.709630  18.974242  27.31  59.6900  68.240  78.5650  95.38\n",
       "3.0   24.0  59.984583  16.651554  34.04  42.3625  59.125  71.1025  88.63\n",
       "4.0   28.0  43.148214  16.005628  13.88  33.0325  41.015  50.0425  78.24\n",
       "5.0    9.0  37.208889  12.235118  10.19  33.9800  39.580  41.7400  53.44"
      ]
     },
     "execution_count": 28,
     "metadata": {},
     "output_type": "execute_result"
    }
   ],
   "source": [
    "data2.groupby(건강).삶의질.describe()"
   ]
  },
  {
   "cell_type": "code",
   "execution_count": 21,
   "id": "3d5c20d9",
   "metadata": {},
   "outputs": [
    {
     "data": {
      "text/html": [
       "<div>\n",
       "<style scoped>\n",
       "    .dataframe tbody tr th:only-of-type {\n",
       "        vertical-align: middle;\n",
       "    }\n",
       "\n",
       "    .dataframe tbody tr th {\n",
       "        vertical-align: top;\n",
       "    }\n",
       "\n",
       "    .dataframe thead th {\n",
       "        text-align: right;\n",
       "    }\n",
       "</style>\n",
       "<table border=\"1\" class=\"dataframe\">\n",
       "  <thead>\n",
       "    <tr style=\"text-align: right;\">\n",
       "      <th></th>\n",
       "      <th>df</th>\n",
       "      <th>sum_sq</th>\n",
       "      <th>mean_sq</th>\n",
       "      <th>F</th>\n",
       "      <th>PR(&gt;F)</th>\n",
       "    </tr>\n",
       "  </thead>\n",
       "  <tbody>\n",
       "    <tr>\n",
       "      <th>C(group)</th>\n",
       "      <td>2.0</td>\n",
       "      <td>19.081049</td>\n",
       "      <td>9.540524</td>\n",
       "      <td>0.033397</td>\n",
       "      <td>9.671677e-01</td>\n",
       "    </tr>\n",
       "    <tr>\n",
       "      <th>C(건강)</th>\n",
       "      <td>3.0</td>\n",
       "      <td>11452.553524</td>\n",
       "      <td>3817.517841</td>\n",
       "      <td>13.363365</td>\n",
       "      <td>3.496666e-07</td>\n",
       "    </tr>\n",
       "    <tr>\n",
       "      <th>Residual</th>\n",
       "      <td>82.0</td>\n",
       "      <td>23424.973605</td>\n",
       "      <td>285.670410</td>\n",
       "      <td>NaN</td>\n",
       "      <td>NaN</td>\n",
       "    </tr>\n",
       "  </tbody>\n",
       "</table>\n",
       "</div>"
      ],
      "text/plain": [
       "            df        sum_sq      mean_sq          F        PR(>F)\n",
       "C(group)   2.0     19.081049     9.540524   0.033397  9.671677e-01\n",
       "C(건강)      3.0  11452.553524  3817.517841  13.363365  3.496666e-07\n",
       "Residual  82.0  23424.973605   285.670410        NaN           NaN"
      ]
     },
     "execution_count": 21,
     "metadata": {},
     "output_type": "execute_result"
    }
   ],
   "source": [
    "#10-1\n",
    "import statsmodels.api as sm\n",
    "import statsmodels.formula.api as smf\n",
    "\n",
    "fit=smf.ols('삶의질~C(group)+C(건강)', data2).fit()\n",
    "sm.stats.anova_lm(fit, typ=1)"
   ]
  },
  {
   "cell_type": "code",
   "execution_count": 30,
   "id": "5a1df02d",
   "metadata": {},
   "outputs": [
    {
     "name": "stdout",
     "output_type": "stream",
     "text": [
      " Multiple Comparison of Means - Tukey HSD, FWER=0.05  \n",
      "======================================================\n",
      "group1 group2 meandiff p-adj   lower    upper   reject\n",
      "------------------------------------------------------\n",
      "   2.0    3.0   -6.725 0.6132  -19.872   6.4219  False\n",
      "   2.0    4.0 -23.5614    0.0 -36.2015 -10.9214   True\n",
      "   2.0    5.0 -29.5007 0.0002 -47.5383 -11.4632   True\n",
      "   2.0    nan   -0.043    1.0 -28.5628  28.4769  False\n",
      "   3.0    4.0 -16.8364 0.0047 -29.8724  -3.8003   True\n",
      "   3.0    5.0 -22.7757 0.0072 -41.0929  -4.4585   True\n",
      "   3.0    nan   6.6821 0.9664 -22.0154  35.3796  False\n",
      "   4.0    5.0  -5.9393 0.8878 -23.8961  12.0175  False\n",
      "   4.0    nan  23.5185 0.1543  -4.9504  51.9873  False\n",
      "   5.0    nan  29.4578 0.0743  -1.7841  60.6997  False\n",
      "------------------------------------------------------\n"
     ]
    }
   ],
   "source": [
    "#10-2\n",
    "#사후검정-Tukey HSD\n",
    "from statsmodels.stats.multicomp import pairwise_tukeyhsd\n",
    "\n",
    "tukey1 = pairwise_tukeyhsd(endog=data2.삶의질, groups=data2.건강, alpha=0.05)\n",
    "print(tukey1)  "
   ]
  },
  {
   "cell_type": "code",
   "execution_count": 23,
   "id": "62b7259d",
   "metadata": {},
   "outputs": [
    {
     "data": {
      "image/png": "[encoded data removed]",
      "text/plain": [
       "<Figure size 720x432 with 1 Axes>"
      ]
     },
     "metadata": {
      "needs_background": "light"
     },
     "output_type": "display_data"
    }
   ],
   "source": [
    "fig=tukey1.plot_simultaneous() "
   ]
  },
  {
   "cell_type": "code",
   "execution_count": 24,
   "id": "3aa26f65",
   "metadata": {},
   "outputs": [
    {
     "data": {
      "image/png": "[encoded data removed]",
      "text/plain": [
       "<Figure size 432x288 with 1 Axes>"
      ]
     },
     "metadata": {
      "needs_background": "light"
     },
     "output_type": "display_data"
    }
   ],
   "source": [
    "#11\n",
    "#막대도표\n",
    "import seaborn as sns\n",
    "import matplotlib.pyplot as plt\n",
    "\n",
    "sns.barplot(x=\"group\", y=\"삶의질\", hue=\"건강\", data=data2)\n",
    "plt.title(\"그룹별, 건강별 삶의질의 BarPlot\")\n",
    "plt.show()"
   ]
  },
  {
   "cell_type": "code",
   "execution_count": 29,
   "id": "7510ef82",
   "metadata": {},
   "outputs": [
    {
     "data": {
      "text/html": [
       "<div>\n",
       "<style scoped>\n",
       "    .dataframe tbody tr th:only-of-type {\n",
       "        vertical-align: middle;\n",
       "    }\n",
       "\n",
       "    .dataframe tbody tr th {\n",
       "        vertical-align: top;\n",
       "    }\n",
       "\n",
       "    .dataframe thead th {\n",
       "        text-align: right;\n",
       "    }\n",
       "</style>\n",
       "<table border=\"1\" class=\"dataframe\">\n",
       "  <thead>\n",
       "    <tr style=\"text-align: right;\">\n",
       "      <th></th>\n",
       "      <th>count</th>\n",
       "      <th>mean</th>\n",
       "      <th>std</th>\n",
       "      <th>min</th>\n",
       "      <th>25%</th>\n",
       "      <th>50%</th>\n",
       "      <th>75%</th>\n",
       "      <th>max</th>\n",
       "    </tr>\n",
       "    <tr>\n",
       "      <th>group</th>\n",
       "      <th></th>\n",
       "      <th></th>\n",
       "      <th></th>\n",
       "      <th></th>\n",
       "      <th></th>\n",
       "      <th></th>\n",
       "      <th></th>\n",
       "      <th></th>\n",
       "    </tr>\n",
       "  </thead>\n",
       "  <tbody>\n",
       "    <tr>\n",
       "      <th>1</th>\n",
       "      <td>38.0</td>\n",
       "      <td>55.059737</td>\n",
       "      <td>20.620682</td>\n",
       "      <td>13.88</td>\n",
       "      <td>38.8925</td>\n",
       "      <td>53.19</td>\n",
       "      <td>72.005</td>\n",
       "      <td>95.38</td>\n",
       "    </tr>\n",
       "    <tr>\n",
       "      <th>2</th>\n",
       "      <td>33.0</td>\n",
       "      <td>53.961818</td>\n",
       "      <td>19.677531</td>\n",
       "      <td>10.19</td>\n",
       "      <td>40.1500</td>\n",
       "      <td>55.57</td>\n",
       "      <td>69.850</td>\n",
       "      <td>86.03</td>\n",
       "    </tr>\n",
       "    <tr>\n",
       "      <th>3</th>\n",
       "      <td>20.0</td>\n",
       "      <td>55.540500</td>\n",
       "      <td>20.062674</td>\n",
       "      <td>20.18</td>\n",
       "      <td>40.6150</td>\n",
       "      <td>53.52</td>\n",
       "      <td>66.340</td>\n",
       "      <td>95.10</td>\n",
       "    </tr>\n",
       "  </tbody>\n",
       "</table>\n",
       "</div>"
      ],
      "text/plain": [
       "       count       mean        std    min      25%    50%     75%    max\n",
       "group                                                                   \n",
       "1       38.0  55.059737  20.620682  13.88  38.8925  53.19  72.005  95.38\n",
       "2       33.0  53.961818  19.677531  10.19  40.1500  55.57  69.850  86.03\n",
       "3       20.0  55.540500  20.062674  20.18  40.6150  53.52  66.340  95.10"
      ]
     },
     "execution_count": 29,
     "metadata": {},
     "output_type": "execute_result"
    }
   ],
   "source": [
    "data2.groupby(group).삶의질.describe()"
   ]
  },
  {
   "cell_type": "code",
   "execution_count": null,
   "id": "f26d93e9",
   "metadata": {},
   "outputs": [],
   "source": []
  }
 ],
 "metadata": {
  "kernelspec": {
   "display_name": "Python 3 (ipykernel)",
   "language": "python",
   "name": "python3"
  },
  "language_info": {
   "codemirror_mode": {
    "name": "ipython",
    "version": 3
   },
   "file_extension": ".py",
   "mimetype": "text/x-python",
   "name": "python",
   "nbconvert_exporter": "python",
   "pygments_lexer": "ipython3",
   "version": "3.9.12"
  }
 },
 "nbformat": 4,
 "nbformat_minor": 5
}
