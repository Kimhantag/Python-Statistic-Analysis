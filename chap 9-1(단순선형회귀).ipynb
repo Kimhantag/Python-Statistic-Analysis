{
 "cells": [
  {
   "cell_type": "code",
   "execution_count": 1,
   "id": "54925726",
   "metadata": {},
   "outputs": [],
   "source": [
    "#예제 9-2\n",
    "import numpy as np\n",
    "import pandas as pd\n",
    "import statsmodels.formula.api as smf\n",
    "x=np.array([20,196,115,50,122,100,33,154,80,147,182,160])\n",
    "y=np.array([114,921,560,245,575,475,138,727,375,670,828,762])\n",
    "d={'y':y, 'x':x}\n",
    "data=pd.DataFrame(data=d)"
   ]
  },
  {
   "cell_type": "code",
   "execution_count": 3,
   "id": "865d2775",
   "metadata": {},
   "outputs": [
    {
     "data": {
      "text/plain": [
       "(0.9985868822126776, 4.427099198655018e-14)"
      ]
     },
     "execution_count": 3,
     "metadata": {},
     "output_type": "execute_result"
    }
   ],
   "source": [
    "import scipy.stats as stats\n",
    "# 1. 상관계수 2. 유의확률\n",
    "stats.pearsonr(x,y)"
   ]
  },
  {
   "cell_type": "code",
   "execution_count": 4,
   "id": "b7eaefad",
   "metadata": {},
   "outputs": [
    {
     "data": {
      "image/png": "[encoded data removed]",
      "text/plain": [
       "<Figure size 432x288 with 1 Axes>"
      ]
     },
     "metadata": {
      "needs_background": "light"
     },
     "output_type": "display_data"
    }
   ],
   "source": [
    "import matplotlib.pyplot as plt\n",
    "plt.scatter(x, y, alpha=0.5)\n",
    "plt.show()"
   ]
  },
  {
   "cell_type": "code",
   "execution_count": 5,
   "id": "294c6cbd",
   "metadata": {},
   "outputs": [
    {
     "name": "stdout",
     "output_type": "stream",
     "text": [
      "                            OLS Regression Results                            \n",
      "==============================================================================\n",
      "Dep. Variable:                      y   R-squared:                       0.997\n",
      "Model:                            OLS   Adj. R-squared:                  0.997\n",
      "Method:                 Least Squares   F-statistic:                     3531.\n",
      "Date:                Wed, 07 Dec 2022   Prob (F-statistic):           4.43e-14\n",
      "Time:                        05:44:57   Log-Likelihood:                -48.393\n",
      "No. Observations:                  12   AIC:                             100.8\n",
      "Df Residuals:                      10   BIC:                             101.8\n",
      "Df Model:                           1                                         \n",
      "Covariance Type:            nonrobust                                         \n",
      "==============================================================================\n",
      "                 coef    std err          t      P>|t|      [0.025      0.975]\n",
      "------------------------------------------------------------------------------\n",
      "Intercept      9.7537      9.799      0.995      0.343     -12.081      31.588\n",
      "x              4.6159      0.078     59.420      0.000       4.443       4.789\n",
      "==============================================================================\n",
      "Omnibus:                        1.455   Durbin-Watson:                   1.661\n",
      "Prob(Omnibus):                  0.483   Jarque-Bera (JB):                1.116\n",
      "Skew:                          -0.598   Prob(JB):                        0.572\n",
      "Kurtosis:                       2.106   Cond. No.                         286.\n",
      "==============================================================================\n",
      "\n",
      "Notes:\n",
      "[1] Standard Errors assume that the covariance matrix of the errors is correctly specified.\n"
     ]
    },
    {
     "name": "stderr",
     "output_type": "stream",
     "text": [
      "C:\\Users\\gksxk\\anaconda3\\lib\\site-packages\\scipy\\stats\\stats.py:1541: UserWarning: kurtosistest only valid for n>=20 ... continuing anyway, n=12\n",
      "  warnings.warn(\"kurtosistest only valid for n>=20 ... continuing \"\n"
     ]
    }
   ],
   "source": [
    "fit1=smf.ols('y~x', data=data).fit()\n",
    "print(fit1.summary())"
   ]
  },
  {
   "cell_type": "code",
   "execution_count": 6,
   "id": "fdbdbdfe",
   "metadata": {},
   "outputs": [
    {
     "name": "stdout",
     "output_type": "stream",
     "text": [
      "                                 OLS Regression Results                                \n",
      "=======================================================================================\n",
      "Dep. Variable:                      y   R-squared (uncentered):                   0.999\n",
      "Model:                            OLS   Adj. R-squared (uncentered):              0.999\n",
      "Method:                 Least Squares   F-statistic:                          1.876e+04\n",
      "Date:                Wed, 07 Dec 2022   Prob (F-statistic):                    3.93e-19\n",
      "Time:                        05:45:21   Log-Likelihood:                         -48.960\n",
      "No. Observations:                  12   AIC:                                      99.92\n",
      "Df Residuals:                      11   BIC:                                      100.4\n",
      "Df Model:                           1                                                  \n",
      "Covariance Type:            nonrobust                                                  \n",
      "==============================================================================\n",
      "                 coef    std err          t      P>|t|      [0.025      0.975]\n",
      "------------------------------------------------------------------------------\n",
      "x              4.6853      0.034    136.976      0.000       4.610       4.761\n",
      "==============================================================================\n",
      "Omnibus:                        1.104   Durbin-Watson:                   1.482\n",
      "Prob(Omnibus):                  0.576   Jarque-Bera (JB):                0.902\n",
      "Skew:                          -0.542   Prob(JB):                        0.637\n",
      "Kurtosis:                       2.207   Cond. No.                         1.00\n",
      "==============================================================================\n",
      "\n",
      "Notes:\n",
      "[1] R² is computed without centering (uncentered) since the model does not contain a constant.\n",
      "[2] Standard Errors assume that the covariance matrix of the errors is correctly specified.\n"
     ]
    },
    {
     "name": "stderr",
     "output_type": "stream",
     "text": [
      "C:\\Users\\gksxk\\anaconda3\\lib\\site-packages\\scipy\\stats\\stats.py:1541: UserWarning: kurtosistest only valid for n>=20 ... continuing anyway, n=12\n",
      "  warnings.warn(\"kurtosistest only valid for n>=20 ... continuing \"\n"
     ]
    }
   ],
   "source": [
    "fit2=smf.ols('y~x-1', data=data).fit()\n",
    "print(fit2.summary())"
   ]
  },
  {
   "cell_type": "code",
   "execution_count": 7,
   "id": "56f734cd",
   "metadata": {},
   "outputs": [
    {
     "data": {
      "text/html": [
       "<div>\n",
       "<style scoped>\n",
       "    .dataframe tbody tr th:only-of-type {\n",
       "        vertical-align: middle;\n",
       "    }\n",
       "\n",
       "    .dataframe tbody tr th {\n",
       "        vertical-align: top;\n",
       "    }\n",
       "\n",
       "    .dataframe thead th {\n",
       "        text-align: right;\n",
       "    }\n",
       "</style>\n",
       "<table border=\"1\" class=\"dataframe\">\n",
       "  <thead>\n",
       "    <tr style=\"text-align: right;\">\n",
       "      <th></th>\n",
       "      <th>df</th>\n",
       "      <th>sum_sq</th>\n",
       "      <th>mean_sq</th>\n",
       "      <th>F</th>\n",
       "      <th>PR(&gt;F)</th>\n",
       "    </tr>\n",
       "  </thead>\n",
       "  <tbody>\n",
       "    <tr>\n",
       "      <th>x</th>\n",
       "      <td>1.0</td>\n",
       "      <td>789526.872</td>\n",
       "      <td>789526.872</td>\n",
       "      <td>3530.777</td>\n",
       "      <td>0.0</td>\n",
       "    </tr>\n",
       "    <tr>\n",
       "      <th>Residual</th>\n",
       "      <td>10.0</td>\n",
       "      <td>2236.128</td>\n",
       "      <td>223.613</td>\n",
       "      <td>NaN</td>\n",
       "      <td>NaN</td>\n",
       "    </tr>\n",
       "  </tbody>\n",
       "</table>\n",
       "</div>"
      ],
      "text/plain": [
       "            df      sum_sq     mean_sq         F  PR(>F)\n",
       "x          1.0  789526.872  789526.872  3530.777     0.0\n",
       "Residual  10.0    2236.128     223.613       NaN     NaN"
      ]
     },
     "execution_count": 7,
     "metadata": {},
     "output_type": "execute_result"
    }
   ],
   "source": [
    "from statsmodels.stats.anova import anova_lm\n",
    "anova_lm(fit1).round(3)"
   ]
  },
  {
   "cell_type": "code",
   "execution_count": 9,
   "id": "cf3e4fc6",
   "metadata": {},
   "outputs": [
    {
     "name": "stdout",
     "output_type": "stream",
     "text": [
      "                            OLS Regression Results                            \n",
      "==============================================================================\n",
      "Dep. Variable:                      Y   R-squared:                       0.970\n",
      "Model:                            OLS   Adj. R-squared:                  0.966\n",
      "Method:                 Least Squares   F-statistic:                     254.4\n",
      "Date:                Wed, 07 Dec 2022   Prob (F-statistic):           2.39e-07\n",
      "Time:                        06:25:53   Log-Likelihood:                -29.508\n",
      "No. Observations:                  10   AIC:                             63.02\n",
      "Df Residuals:                       8   BIC:                             63.62\n",
      "Df Model:                           1                                         \n",
      "Covariance Type:            nonrobust                                         \n",
      "==============================================================================\n",
      "                 coef    std err          t      P>|t|      [0.025      0.975]\n",
      "------------------------------------------------------------------------------\n",
      "Intercept     34.3500      3.836      8.954      0.000      25.504      43.196\n",
      "X             36.9000      2.313     15.951      0.000      31.566      42.234\n",
      "==============================================================================\n",
      "Omnibus:                        0.534   Durbin-Watson:                   1.887\n",
      "Prob(Omnibus):                  0.766   Jarque-Bera (JB):                0.398\n",
      "Skew:                           0.399   Prob(JB):                        0.820\n",
      "Kurtosis:                       2.436   Cond. No.                         5.11\n",
      "==============================================================================\n",
      "\n",
      "Notes:\n",
      "[1] Standard Errors assume that the covariance matrix of the errors is correctly specified.\n"
     ]
    },
    {
     "name": "stderr",
     "output_type": "stream",
     "text": [
      "C:\\Users\\gksxk\\anaconda3\\lib\\site-packages\\scipy\\stats\\stats.py:1541: UserWarning: kurtosistest only valid for n>=20 ... continuing anyway, n=10\n",
      "  warnings.warn(\"kurtosistest only valid for n>=20 ... continuing \"\n"
     ]
    }
   ],
   "source": [
    "#예제 9.3\n",
    "import numpy as np\n",
    "import pandas as pd\n",
    "import statsmodels.formula.api as smf\n",
    "\n",
    "X=np.array([0.5,0.5,1.0,1.0,1.5,1.5,2.0,2.0,2.5,2.5])\n",
    "Y=np.array([46,51,71,75,92,99,105,112,121,125])\n",
    "data={'Y':Y, 'X':X}\n",
    "data=pd.DataFrame(data=data)\n",
    "\n",
    "fit1=smf.ols('Y~X', data=data).fit()\n",
    "print(fit1.summary())"
   ]
  },
  {
   "cell_type": "code",
   "execution_count": 10,
   "id": "47123785",
   "metadata": {},
   "outputs": [],
   "source": [
    "#잔차표준화\n",
    "sqrt1=np.sqrt(fit1.mse_resid)\n",
    "std1=fit1.resid/sqrt1\n",
    "pre1=fit1.predict()"
   ]
  },
  {
   "cell_type": "code",
   "execution_count": 11,
   "id": "9a0ba80b",
   "metadata": {},
   "outputs": [
    {
     "data": {
      "image/png": "[encoded data removed]",
      "text/plain": [
       "<Figure size 432x288 with 1 Axes>"
      ]
     },
     "metadata": {
      "needs_background": "light"
     },
     "output_type": "display_data"
    }
   ],
   "source": [
    "#잔차도표\n",
    "plt.scatter(pre1, std1)\n",
    "plt.axhline(y=0, color='k', linewidth=0.3)\n",
    "plt.xlabel('predicted value of Y')\n",
    "plt.ylabel('studentized Residual')\n",
    "plt.show()"
   ]
  },
  {
   "cell_type": "code",
   "execution_count": 12,
   "id": "090b9301",
   "metadata": {},
   "outputs": [
    {
     "data": {
      "image/png": "[encoded data removed]",
      "text/plain": [
       "<Figure size 432x288 with 1 Axes>"
      ]
     },
     "metadata": {
      "needs_background": "light"
     },
     "output_type": "display_data"
    }
   ],
   "source": [
    "#정규확률지\n",
    "import statsmodels.api as sm\n",
    "p1=sm.qqplot(std1)"
   ]
  },
  {
   "cell_type": "code",
   "execution_count": 13,
   "id": "25c15c33",
   "metadata": {},
   "outputs": [
    {
     "name": "stdout",
     "output_type": "stream",
     "text": [
      "                            OLS Regression Results                            \n",
      "==============================================================================\n",
      "Dep. Variable:                      Y   R-squared:                       0.987\n",
      "Model:                            OLS   Adj. R-squared:                  0.985\n",
      "Method:                 Least Squares   F-statistic:                     597.8\n",
      "Date:                Wed, 07 Dec 2022   Prob (F-statistic):           8.36e-09\n",
      "Time:                        06:25:56   Log-Likelihood:                -25.325\n",
      "No. Observations:                  10   AIC:                             54.65\n",
      "Df Residuals:                       8   BIC:                             55.26\n",
      "Df Model:                           1                                         \n",
      "Covariance Type:            nonrobust                                         \n",
      "==============================================================================\n",
      "                 coef    std err          t      P>|t|      [0.025      0.975]\n",
      "------------------------------------------------------------------------------\n",
      "Intercept    -11.6871      4.284     -2.728      0.026     -21.567      -1.808\n",
      "rootX         85.5269      3.498     24.450      0.000      77.460      93.594\n",
      "==============================================================================\n",
      "Omnibus:                        0.536   Durbin-Watson:                   3.423\n",
      "Prob(Omnibus):                  0.765   Jarque-Bera (JB):                0.549\n",
      "Skew:                           0.373   Prob(JB):                        0.760\n",
      "Kurtosis:                       2.128   Cond. No.                         8.00\n",
      "==============================================================================\n",
      "\n",
      "Notes:\n",
      "[1] Standard Errors assume that the covariance matrix of the errors is correctly specified.\n"
     ]
    },
    {
     "name": "stderr",
     "output_type": "stream",
     "text": [
      "C:\\Users\\gksxk\\anaconda3\\lib\\site-packages\\scipy\\stats\\stats.py:1541: UserWarning: kurtosistest only valid for n>=20 ... continuing anyway, n=10\n",
      "  warnings.warn(\"kurtosistest only valid for n>=20 ... continuing \"\n"
     ]
    }
   ],
   "source": [
    "#변수변환\n",
    "data['rootX']=np.sqrt(data['X'])\n",
    "fit2=smf.ols('Y~rootX', data=data).fit()\n",
    "data.head()\n",
    "\n",
    "print(fit2.summary())"
   ]
  },
  {
   "cell_type": "code",
   "execution_count": 14,
   "id": "73ffbccc",
   "metadata": {
    "scrolled": true
   },
   "outputs": [
    {
     "data": {
      "image/png": "[encoded data removed]",
      "text/plain": [
       "<Figure size 432x288 with 1 Axes>"
      ]
     },
     "metadata": {
      "needs_background": "light"
     },
     "output_type": "display_data"
    }
   ],
   "source": [
    "#잔차표준화\n",
    "sqrt2=np.sqrt(fit2.mse_resid)\n",
    "std2=fit2.resid/sqrt1\n",
    "pre2=fit2.predict()\n",
    "\n",
    "#잔차도표\n",
    "plt.scatter(pre2, std2)\n",
    "plt.axhline(y=0, color='k', linewidth=0.3)\n",
    "plt.xlabel('predicted value of Y')\n",
    "plt.ylabel('studentized Residual')\n",
    "plt.show()"
   ]
  },
  {
   "cell_type": "code",
   "execution_count": 15,
   "id": "127d1f2c",
   "metadata": {},
   "outputs": [
    {
     "data": {
      "text/html": [
       "<div>\n",
       "<style scoped>\n",
       "    .dataframe tbody tr th:only-of-type {\n",
       "        vertical-align: middle;\n",
       "    }\n",
       "\n",
       "    .dataframe tbody tr th {\n",
       "        vertical-align: top;\n",
       "    }\n",
       "\n",
       "    .dataframe thead th {\n",
       "        text-align: right;\n",
       "    }\n",
       "</style>\n",
       "<table border=\"1\" class=\"dataframe\">\n",
       "  <thead>\n",
       "    <tr style=\"text-align: right;\">\n",
       "      <th></th>\n",
       "      <th>X</th>\n",
       "      <th>Y</th>\n",
       "    </tr>\n",
       "  </thead>\n",
       "  <tbody>\n",
       "    <tr>\n",
       "      <th>0</th>\n",
       "      <td>9.5</td>\n",
       "      <td>14814</td>\n",
       "    </tr>\n",
       "    <tr>\n",
       "      <th>1</th>\n",
       "      <td>8.4</td>\n",
       "      <td>17502</td>\n",
       "    </tr>\n",
       "    <tr>\n",
       "      <th>2</th>\n",
       "      <td>9.8</td>\n",
       "      <td>14007</td>\n",
       "    </tr>\n",
       "    <tr>\n",
       "      <th>3</th>\n",
       "      <td>11.0</td>\n",
       "      <td>19443</td>\n",
       "    </tr>\n",
       "  </tbody>\n",
       "</table>\n",
       "</div>"
      ],
      "text/plain": [
       "      X      Y\n",
       "0   9.5  14814\n",
       "1   8.4  17502\n",
       "2   9.8  14007\n",
       "3  11.0  19443"
      ]
     },
     "execution_count": 15,
     "metadata": {},
     "output_type": "execute_result"
    }
   ],
   "source": [
    "import numpy as np\n",
    "import pandas as pd\n",
    "import statsmodels.formula.api as smf\n",
    "\n",
    "data=pd.read_csv('ex9-4.csv')\n",
    "data.head(4)     "
   ]
  },
  {
   "cell_type": "code",
   "execution_count": 16,
   "id": "418c8a0c",
   "metadata": {},
   "outputs": [
    {
     "name": "stdout",
     "output_type": "stream",
     "text": [
      "                            OLS Regression Results                            \n",
      "==============================================================================\n",
      "Dep. Variable:                      Y   R-squared:                       0.797\n",
      "Model:                            OLS   Adj. R-squared:                  0.790\n",
      "Method:                 Least Squares   F-statistic:                     110.2\n",
      "Date:                Wed, 07 Dec 2022   Prob (F-statistic):           3.25e-11\n",
      "Time:                        07:36:07   Log-Likelihood:                -322.35\n",
      "No. Observations:                  30   AIC:                             648.7\n",
      "Df Residuals:                      28   BIC:                             651.5\n",
      "Df Model:                           1                                         \n",
      "Covariance Type:            nonrobust                                         \n",
      "==============================================================================\n",
      "                 coef    std err          t      P>|t|      [0.025      0.975]\n",
      "------------------------------------------------------------------------------\n",
      "Intercept  -2.543e+04   6104.704     -4.166      0.000   -3.79e+04   -1.29e+04\n",
      "X           3884.9756    370.009     10.500      0.000    3127.046    4642.906\n",
      "==============================================================================\n",
      "Omnibus:                       15.208   Durbin-Watson:                   1.187\n",
      "Prob(Omnibus):                  0.000   Jarque-Bera (JB):               18.165\n",
      "Skew:                           1.292   Prob(JB):                     0.000114\n",
      "Kurtosis:                       5.802   Cond. No.                         47.6\n",
      "==============================================================================\n",
      "\n",
      "Notes:\n",
      "[1] Standard Errors assume that the covariance matrix of the errors is correctly specified.\n"
     ]
    }
   ],
   "source": [
    "fit1=smf.ols('Y~X', data).fit()\n",
    "print(fit1.summary())"
   ]
  },
  {
   "cell_type": "code",
   "execution_count": 17,
   "id": "299f1ac6",
   "metadata": {},
   "outputs": [
    {
     "data": {
      "image/png": "[encoded data removed]",
      "text/plain": [
       "<Figure size 432x288 with 1 Axes>"
      ]
     },
     "metadata": {
      "needs_background": "light"
     },
     "output_type": "display_data"
    }
   ],
   "source": [
    "#산점도\n",
    "import matplotlib.pylab as plt\n",
    "plt.plot(data['X'], data['Y'], 'o')\n",
    "plt.xlabel('X')\n",
    "plt.ylabel('Y')\n",
    "plt.show()"
   ]
  },
  {
   "cell_type": "code",
   "execution_count": 18,
   "id": "2f1d15af",
   "metadata": {},
   "outputs": [
    {
     "data": {
      "image/png": "[encoded data removed]",
      "text/plain": [
       "<Figure size 432x288 with 1 Axes>"
      ]
     },
     "metadata": {
      "needs_background": "light"
     },
     "output_type": "display_data"
    }
   ],
   "source": [
    "#잔차도표\n",
    "plt.plot(fit1.predict(),fit1.resid_pearson, 'o')\n",
    "plt.axhline(y=0, color=\"k\", linewidth=0.3)\n",
    "plt.xlabel('predicted value of Y')\n",
    "plt.ylabel('studentized Residual')\n",
    "plt.show()"
   ]
  },
  {
   "cell_type": "code",
   "execution_count": 19,
   "id": "51ccdf90",
   "metadata": {},
   "outputs": [
    {
     "data": {
      "image/png": "[encoded data removed]",
      "text/plain": [
       "<Figure size 432x288 with 1 Axes>"
      ]
     },
     "metadata": {
      "needs_background": "light"
     },
     "output_type": "display_data"
    }
   ],
   "source": [
    "#정규확률지\n",
    "import statsmodels.api as sm\n",
    "p1=sm.qqplot(fit1.resid_pearson, markerfacecolor='dodgerblue', \n",
    "             markeredgecolor='dodgerblue', marker='o')\n",
    "plt.xlim([-2, 2])        #정규확률지 X축의 범위 지정\n",
    "plt.show()"
   ]
  },
  {
   "cell_type": "code",
   "execution_count": 20,
   "id": "852b7718",
   "metadata": {},
   "outputs": [
    {
     "data": {
      "text/html": [
       "<div>\n",
       "<style scoped>\n",
       "    .dataframe tbody tr th:only-of-type {\n",
       "        vertical-align: middle;\n",
       "    }\n",
       "\n",
       "    .dataframe tbody tr th {\n",
       "        vertical-align: top;\n",
       "    }\n",
       "\n",
       "    .dataframe thead th {\n",
       "        text-align: right;\n",
       "    }\n",
       "</style>\n",
       "<table border=\"1\" class=\"dataframe\">\n",
       "  <thead>\n",
       "    <tr style=\"text-align: right;\">\n",
       "      <th></th>\n",
       "      <th>X</th>\n",
       "      <th>Y</th>\n",
       "      <th>logY</th>\n",
       "    </tr>\n",
       "  </thead>\n",
       "  <tbody>\n",
       "    <tr>\n",
       "      <th>0</th>\n",
       "      <td>9.5</td>\n",
       "      <td>14814</td>\n",
       "      <td>9.603328</td>\n",
       "    </tr>\n",
       "    <tr>\n",
       "      <th>1</th>\n",
       "      <td>8.4</td>\n",
       "      <td>17502</td>\n",
       "      <td>9.770070</td>\n",
       "    </tr>\n",
       "    <tr>\n",
       "      <th>2</th>\n",
       "      <td>9.8</td>\n",
       "      <td>14007</td>\n",
       "      <td>9.547312</td>\n",
       "    </tr>\n",
       "  </tbody>\n",
       "</table>\n",
       "</div>"
      ],
      "text/plain": [
       "     X      Y      logY\n",
       "0  9.5  14814  9.603328\n",
       "1  8.4  17502  9.770070\n",
       "2  9.8  14007  9.547312"
      ]
     },
     "execution_count": 20,
     "metadata": {},
     "output_type": "execute_result"
    }
   ],
   "source": [
    "#변수변환\n",
    "data[\"logY\"]=np.log(data[\"Y\"])\n",
    "fit2=smf.ols('logY~X', data).fit()\n",
    "data.head(3)"
   ]
  },
  {
   "cell_type": "code",
   "execution_count": 21,
   "id": "3e2860d8",
   "metadata": {},
   "outputs": [
    {
     "name": "stdout",
     "output_type": "stream",
     "text": [
      "                            OLS Regression Results                            \n",
      "==============================================================================\n",
      "Dep. Variable:                   logY   R-squared:                       0.902\n",
      "Model:                            OLS   Adj. R-squared:                  0.898\n",
      "Method:                 Least Squares   F-statistic:                     256.7\n",
      "Date:                Wed, 07 Dec 2022   Prob (F-statistic):           1.24e-15\n",
      "Time:                        07:36:45   Log-Likelihood:                0.67010\n",
      "No. Observations:                  30   AIC:                             2.660\n",
      "Df Residuals:                      28   BIC:                             5.462\n",
      "Df Model:                           1                                         \n",
      "Covariance Type:            nonrobust                                         \n",
      "==============================================================================\n",
      "                 coef    std err          t      P>|t|      [0.025      0.975]\n",
      "------------------------------------------------------------------------------\n",
      "Intercept      8.2574      0.129     64.185      0.000       7.994       8.521\n",
      "X              0.1249      0.008     16.021      0.000       0.109       0.141\n",
      "==============================================================================\n",
      "Omnibus:                        0.176   Durbin-Watson:                   1.553\n",
      "Prob(Omnibus):                  0.916   Jarque-Bera (JB):                0.007\n",
      "Skew:                           0.012   Prob(JB):                        0.997\n",
      "Kurtosis:                       2.931   Cond. No.                         47.6\n",
      "==============================================================================\n",
      "\n",
      "Notes:\n",
      "[1] Standard Errors assume that the covariance matrix of the errors is correctly specified.\n"
     ]
    }
   ],
   "source": [
    "print(fit2.summary())"
   ]
  },
  {
   "cell_type": "code",
   "execution_count": 22,
   "id": "b02a6a9d",
   "metadata": {},
   "outputs": [
    {
     "data": {
      "image/png": "[encoded data removed]",
      "text/plain": [
       "<Figure size 432x288 with 1 Axes>"
      ]
     },
     "metadata": {
      "needs_background": "light"
     },
     "output_type": "display_data"
    }
   ],
   "source": [
    "#잔차도표\n",
    "plt.scatter(fit2.predict(),fit2.resid_pearson)\n",
    "plt.axhline(y=0, color=\"k\", linewidth=0.3)\n",
    "plt.xlabel('predicted value of Y')\n",
    "plt.ylabel('studentized Residual')\n",
    "plt.show()"
   ]
  },
  {
   "cell_type": "code",
   "execution_count": null,
   "id": "99040709",
   "metadata": {},
   "outputs": [],
   "source": []
  }
 ],
 "metadata": {
  "kernelspec": {
   "display_name": "Python 3 (ipykernel)",
   "language": "python",
   "name": "python3"
  },
  "language_info": {
   "codemirror_mode": {
    "name": "ipython",
    "version": 3
   },
   "file_extension": ".py",
   "mimetype": "text/x-python",
   "name": "python",
   "nbconvert_exporter": "python",
   "pygments_lexer": "ipython3",
   "version": "3.9.12"
  }
 },
 "nbformat": 4,
 "nbformat_minor": 5
}
